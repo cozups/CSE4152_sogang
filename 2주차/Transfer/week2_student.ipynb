{
 "cells": [
  {
   "cell_type": "markdown",
   "id": "coupled-closure",
   "metadata": {},
   "source": [
    "# 연습문제\n",
    "\n",
    "\n",
    "## numpy\n",
    "\n",
    "python에서 array등을 다루는 수학/과학 컴퓨팅을 하기 위한 패키지\n",
    "\n",
    "## matplotlib\n",
    "\n",
    "python에서 matlab과 유사한 그래프 표시를 가능하게 하는 패키지연습문제"
   ]
  },
  {
   "cell_type": "code",
   "execution_count": 1,
   "id": "baking-shame",
   "metadata": {},
   "outputs": [
    {
     "name": "stdout",
     "output_type": "stream",
     "text": [
      "Requirement already satisfied: numpy in c:\\python38\\lib\\site-packages (1.20.2)"
     ]
    },
    {
     "name": "stderr",
     "output_type": "stream",
     "text": [
      "WARNING: You are using pip version 20.2.1; however, version 21.2.4 is available.\n",
      "You should consider upgrading via the 'c:\\python38\\python.exe -m pip install --upgrade pip' command.\n"
     ]
    },
    {
     "name": "stdout",
     "output_type": "stream",
     "text": [
      "\n",
      "Requirement already satisfied: pandas in c:\\python38\\lib\\site-packages (1.3.3)\n",
      "Requirement already satisfied: pytz>=2017.3 in c:\\python38\\lib\\site-packages (from pandas) (2021.1)\n",
      "Requirement already satisfied: python-dateutil>=2.7.3 in c:\\python38\\lib\\site-packages (from pandas) (2.8.1)\n",
      "Requirement already satisfied: numpy>=1.17.3 in c:\\python38\\lib\\site-packages (from pandas) (1.20.2)\n",
      "Requirement already satisfied: six>=1.5 in c:\\python38\\lib\\site-packages (from python-dateutil>=2.7.3->pandas) (1.15.0)\n"
     ]
    },
    {
     "name": "stderr",
     "output_type": "stream",
     "text": [
      "WARNING: You are using pip version 20.2.1; however, version 21.2.4 is available.\n",
      "You should consider upgrading via the 'c:\\python38\\python.exe -m pip install --upgrade pip' command.\n"
     ]
    },
    {
     "name": "stdout",
     "output_type": "stream",
     "text": [
      "Requirement already satisfied: matplotlib in c:\\python38\\lib\\site-packages (3.4.1)\n",
      "Requirement already satisfied: numpy>=1.16 in c:\\python38\\lib\\site-packages (from matplotlib) (1.20.2)\n",
      "Requirement already satisfied: kiwisolver>=1.0.1 in c:\\python38\\lib\\site-packages (from matplotlib) (1.3.1)\n",
      "Requirement already satisfied: pyparsing>=2.2.1 in c:\\python38\\lib\\site-packages (from matplotlib) (2.4.7)\n",
      "Requirement already satisfied: python-dateutil>=2.7 in c:\\python38\\lib\\site-packages (from matplotlib) (2.8.1)\n",
      "Requirement already satisfied: pillow>=6.2.0 in c:\\python38\\lib\\site-packages (from matplotlib) (8.1.2)\n",
      "Requirement already satisfied: cycler>=0.10 in c:\\python38\\lib\\site-packages (from matplotlib) (0.10.0)\n",
      "Requirement already satisfied: six>=1.5 in c:\\python38\\lib\\site-packages (from python-dateutil>=2.7->matplotlib) (1.15.0)\n"
     ]
    },
    {
     "name": "stderr",
     "output_type": "stream",
     "text": [
      "WARNING: You are using pip version 20.2.1; however, version 21.2.4 is available.\n",
      "You should consider upgrading via the 'c:\\python38\\python.exe -m pip install --upgrade pip' command.\n"
     ]
    },
    {
     "name": "stdout",
     "output_type": "stream",
     "text": [
      "Requirement already satisfied: seaborn in c:\\python38\\lib\\site-packages (0.11.2)\n",
      "Requirement already satisfied: scipy>=1.0 in c:\\python38\\lib\\site-packages (from seaborn) (1.7.1)\n",
      "Requirement already satisfied: numpy>=1.15 in c:\\python38\\lib\\site-packages (from seaborn) (1.20.2)\n",
      "Requirement already satisfied: pandas>=0.23 in c:\\python38\\lib\\site-packages (from seaborn) (1.3.3)\n",
      "Requirement already satisfied: matplotlib>=2.2 in c:\\python38\\lib\\site-packages (from seaborn) (3.4.1)\n",
      "Requirement already satisfied: python-dateutil>=2.7.3 in c:\\python38\\lib\\site-packages (from pandas>=0.23->seaborn) (2.8.1)\n",
      "Requirement already satisfied: pytz>=2017.3 in c:\\python38\\lib\\site-packages (from pandas>=0.23->seaborn) (2021.1)\n",
      "Requirement already satisfied: pillow>=6.2.0 in c:\\python38\\lib\\site-packages (from matplotlib>=2.2->seaborn) (8.1.2)\n",
      "Requirement already satisfied: cycler>=0.10 in c:\\python38\\lib\\site-packages (from matplotlib>=2.2->seaborn) (0.10.0)\n",
      "Requirement already satisfied: kiwisolver>=1.0.1 in c:\\python38\\lib\\site-packages (from matplotlib>=2.2->seaborn) (1.3.1)\n",
      "Requirement already satisfied: pyparsing>=2.2.1 in c:\\python38\\lib\\site-packages (from matplotlib>=2.2->seaborn) (2.4.7)\n",
      "Requirement already satisfied: six>=1.5 in c:\\python38\\lib\\site-packages (from python-dateutil>=2.7.3->pandas>=0.23->seaborn) (1.15.0)\n"
     ]
    },
    {
     "name": "stderr",
     "output_type": "stream",
     "text": [
      "WARNING: You are using pip version 20.2.1; however, version 21.2.4 is available.\n",
      "You should consider upgrading via the 'c:\\python38\\python.exe -m pip install --upgrade pip' command.\n"
     ]
    }
   ],
   "source": [
    "# Cell 클릭 후 Shift+Enter로 실행 (Comment는 #으로 시작)\n",
    "\n",
    "# Install necessary packages\n",
    "!pip install numpy\n",
    "!pip install pandas\n",
    "!pip install matplotlib\n",
    "!pip install seaborn"
   ]
  },
  {
   "cell_type": "markdown",
   "id": "emotional-cursor",
   "metadata": {},
   "source": [
    "## numpy\n",
    "(본 cell은 markdown 형식으로, 더블클릭/Enter로 들어가고 Shift+Enter로 나갈 수 있다. 주석 용으로 사용.)  \n",
    "\n",
    "python에서 과학 컴퓨팅을 하기 위해 사용하는 패키지로 python 라이브러리로 Import 하여 사용."
   ]
  },
  {
   "cell_type": "code",
   "execution_count": 2,
   "id": "ruled-planning",
   "metadata": {},
   "outputs": [],
   "source": [
    "# 패키지 사용을 위한 약자 지정\n",
    "\n",
    "import numpy as np\n",
    "import matplotlib.pyplot as plt\n",
    "\n",
    "%matplotlib inline"
   ]
  },
  {
   "cell_type": "code",
   "execution_count": 3,
   "id": "objective-diagnosis",
   "metadata": {},
   "outputs": [
    {
     "name": "stdout",
     "output_type": "stream",
     "text": [
      "a:  [1 2]\n",
      "b:  [2 3]\n"
     ]
    }
   ],
   "source": [
    "# a, b array 선언 및 초기화\n",
    "\n",
    "a = np.array((1, 2))\n",
    "b = np.array((2, 3))\n",
    "\n",
    "print('a: ', a)\n",
    "print('b: ', b)"
   ]
  },
  {
   "cell_type": "code",
   "execution_count": 4,
   "id": "authentic-above",
   "metadata": {},
   "outputs": [
    {
     "data": {
      "text/plain": [
       "array([3, 5])"
      ]
     },
     "execution_count": 4,
     "metadata": {},
     "output_type": "execute_result"
    }
   ],
   "source": [
    "a + b "
   ]
  },
  {
   "cell_type": "code",
   "execution_count": 5,
   "id": "blind-interface",
   "metadata": {},
   "outputs": [
    {
     "data": {
      "text/plain": [
       "array([-1, -1])"
      ]
     },
     "execution_count": 5,
     "metadata": {},
     "output_type": "execute_result"
    }
   ],
   "source": [
    "a - b"
   ]
  },
  {
   "cell_type": "code",
   "execution_count": 6,
   "id": "athletic-mounting",
   "metadata": {},
   "outputs": [
    {
     "data": {
      "text/plain": [
       "array([2, 6])"
      ]
     },
     "execution_count": 6,
     "metadata": {},
     "output_type": "execute_result"
    }
   ],
   "source": [
    "a * b"
   ]
  },
  {
   "cell_type": "code",
   "execution_count": 7,
   "id": "willing-medicaid",
   "metadata": {},
   "outputs": [
    {
     "data": {
      "text/plain": [
       "8"
      ]
     },
     "execution_count": 7,
     "metadata": {},
     "output_type": "execute_result"
    }
   ],
   "source": [
    "np.dot(a, b)"
   ]
  },
  {
   "cell_type": "code",
   "execution_count": 8,
   "id": "canadian-frontier",
   "metadata": {},
   "outputs": [
    {
     "data": {
      "text/plain": [
       "8"
      ]
     },
     "execution_count": 8,
     "metadata": {},
     "output_type": "execute_result"
    }
   ],
   "source": [
    "a.dot(b)"
   ]
  },
  {
   "cell_type": "markdown",
   "id": "measured-yeast",
   "metadata": {},
   "source": [
    "### 함수"
   ]
  },
  {
   "cell_type": "code",
   "execution_count": 9,
   "id": "appreciated-education",
   "metadata": {},
   "outputs": [],
   "source": [
    "def test_function(sentence, number=2):\n",
    "    sentence += sentence + str(number)\n",
    "    return sentence"
   ]
  },
  {
   "cell_type": "code",
   "execution_count": 10,
   "id": "operating-robert",
   "metadata": {},
   "outputs": [
    {
     "name": "stdout",
     "output_type": "stream",
     "text": [
      "함수동작 원리 확인: 함수동작 원리 확인: 2\n"
     ]
    }
   ],
   "source": [
    "print(test_function('함수동작 원리 확인: '))"
   ]
  },
  {
   "cell_type": "code",
   "execution_count": 11,
   "id": "demographic-editing",
   "metadata": {},
   "outputs": [
    {
     "name": "stdout",
     "output_type": "stream",
     "text": [
      "함수동작 원리 확인: 함수동작 원리 확인: 10\n"
     ]
    }
   ],
   "source": [
    "print(test_function('함수동작 원리 확인: ', 10))"
   ]
  },
  {
   "cell_type": "code",
   "execution_count": 12,
   "id": "magnetic-plain",
   "metadata": {},
   "outputs": [
    {
     "name": "stdout",
     "output_type": "stream",
     "text": [
      "함수동작 원리 확인: 함수동작 원리 확인: 10\n"
     ]
    }
   ],
   "source": [
    "print(test_function('함수동작 원리 확인: ', number=10))"
   ]
  },
  {
   "cell_type": "markdown",
   "id": "searching-jerusalem",
   "metadata": {},
   "source": [
    "### For 문"
   ]
  },
  {
   "cell_type": "code",
   "execution_count": 13,
   "id": "practical-integral",
   "metadata": {},
   "outputs": [
    {
     "name": "stdout",
     "output_type": "stream",
     "text": [
      "0\n",
      "1\n",
      "2\n",
      "3\n",
      "4\n",
      "5\n",
      "6\n",
      "7\n",
      "8\n",
      "9\n"
     ]
    }
   ],
   "source": [
    "for i in range(10):\n",
    "    print(i)"
   ]
  },
  {
   "cell_type": "code",
   "execution_count": 14,
   "id": "secret-hamburg",
   "metadata": {},
   "outputs": [
    {
     "name": "stdout",
     "output_type": "stream",
     "text": [
      "range(0, 10)\n",
      "[0, 1, 2, 3, 4, 5, 6, 7, 8, 9]\n"
     ]
    }
   ],
   "source": [
    "print(range(10))\n",
    "print(list(range(10)))"
   ]
  },
  {
   "cell_type": "code",
   "execution_count": 15,
   "id": "equal-hopkins",
   "metadata": {},
   "outputs": [
    {
     "name": "stdout",
     "output_type": "stream",
     "text": [
      "0\n",
      "1\n",
      "2\n",
      "3\n",
      "4\n",
      "5\n"
     ]
    }
   ],
   "source": [
    "for i in [0, 1, 2, 3, 4, 5]:\n",
    "    print(i)"
   ]
  },
  {
   "cell_type": "code",
   "execution_count": 16,
   "id": "wrapped-computer",
   "metadata": {},
   "outputs": [
    {
     "name": "stdout",
     "output_type": "stream",
     "text": [
      "This\n",
      "is\n",
      "example\n",
      "1\n",
      "2\n",
      "['test', 'list']\n"
     ]
    }
   ],
   "source": [
    "for i in ['This', 'is', 'example', 1, 2, ['test', 'list']]:\n",
    "    print(i)"
   ]
  },
  {
   "cell_type": "markdown",
   "id": "spoken-kernel",
   "metadata": {},
   "source": [
    "## matplotlib\n",
    "\n",
    "matplotlib 은 python 에서 matlab 과 유사한 그래프 표시를 가능하게 하는 라이브러리이다.\n",
    "\n",
    "\n",
    "### np.linspace\n",
    "\n",
    "균등한 간격의 데이터를 뽑아줌\n",
    "\n",
    "https://numpy.org/doc/stable/reference/generated/numpy.linspace.html\n",
    "\n",
    "\n",
    "\n",
    "### plt.scatter\n",
    "\n",
    "데이터를 visualizing 해줌\n",
    "\n",
    "https://matplotlib.org/stable/api/_as_gen/matplotlib.pyplot.scatter.html"
   ]
  },
  {
   "cell_type": "code",
   "execution_count": 17,
   "id": "higher-circus",
   "metadata": {},
   "outputs": [
    {
     "data": {
      "text/plain": [
       "<matplotlib.collections.PathCollection at 0xc4545c8>"
      ]
     },
     "execution_count": 17,
     "metadata": {},
     "output_type": "execute_result"
    },
    {
     "data": {
      "image/png": "[encoded data removed]",
      "text/plain": [
       "<Figure size 432x288 with 1 Axes>"
      ]
     },
     "metadata": {
      "needs_background": "light"
     },
     "output_type": "display_data"
    }
   ],
   "source": [
    "x = np.linspace(0, 10, 30)\n",
    "y = np.sin(x)\n",
    "plt.scatter(x, y, color='red')"
   ]
  },
  {
   "cell_type": "markdown",
   "id": "dependent-border",
   "metadata": {},
   "source": [
    "# 실습"
   ]
  },
  {
   "cell_type": "code",
   "execution_count": 18,
   "id": "auburn-shipping",
   "metadata": {},
   "outputs": [],
   "source": [
    "import numpy as np \n",
    "import pandas as pd\n",
    "import matplotlib.pyplot as plt\n",
    "import seaborn as sns\n",
    "plt.style.use('fivethirtyeight')\n",
    "import warnings\n",
    "warnings.filterwarnings('ignore')\n",
    "%matplotlib inline"
   ]
  },
  {
   "cell_type": "code",
   "execution_count": 19,
   "id": "grand-season",
   "metadata": {},
   "outputs": [],
   "source": [
    "data = pd.read_csv('./titanic/train.csv')\n",
    "testdata = pd.read_csv('./titanic/test.csv')"
   ]
  },
  {
   "cell_type": "code",
   "execution_count": 20,
   "id": "based-cleaner",
   "metadata": {},
   "outputs": [
    {
     "name": "stdout",
     "output_type": "stream",
     "text": [
      "891\n"
     ]
    }
   ],
   "source": [
    "print(len(data))"
   ]
  },
  {
   "cell_type": "code",
   "execution_count": 21,
   "id": "foreign-boost",
   "metadata": {},
   "outputs": [
    {
     "data": {
      "text/html": [
       "<div>\n",
       "<style scoped>\n",
       "    .dataframe tbody tr th:only-of-type {\n",
       "        vertical-align: middle;\n",
       "    }\n",
       "\n",
       "    .dataframe tbody tr th {\n",
       "        vertical-align: top;\n",
       "    }\n",
       "\n",
       "    .dataframe thead th {\n",
       "        text-align: right;\n",
       "    }\n",
       "</style>\n",
       "<table border=\"1\" class=\"dataframe\">\n",
       "  <thead>\n",
       "    <tr style=\"text-align: right;\">\n",
       "      <th></th>\n",
       "      <th>PassengerId</th>\n",
       "      <th>Survived</th>\n",
       "      <th>Pclass</th>\n",
       "      <th>Name</th>\n",
       "      <th>Sex</th>\n",
       "      <th>Age</th>\n",
       "      <th>SibSp</th>\n",
       "      <th>Parch</th>\n",
       "      <th>Ticket</th>\n",
       "      <th>Fare</th>\n",
       "      <th>Cabin</th>\n",
       "      <th>Embarked</th>\n",
       "    </tr>\n",
       "  </thead>\n",
       "  <tbody>\n",
       "    <tr>\n",
       "      <th>0</th>\n",
       "      <td>1</td>\n",
       "      <td>0</td>\n",
       "      <td>3</td>\n",
       "      <td>Braund, Mr. Owen Harris</td>\n",
       "      <td>male</td>\n",
       "      <td>22.0</td>\n",
       "      <td>1</td>\n",
       "      <td>0</td>\n",
       "      <td>A/5 21171</td>\n",
       "      <td>7.2500</td>\n",
       "      <td>NaN</td>\n",
       "      <td>S</td>\n",
       "    </tr>\n",
       "    <tr>\n",
       "      <th>1</th>\n",
       "      <td>2</td>\n",
       "      <td>1</td>\n",
       "      <td>1</td>\n",
       "      <td>Cumings, Mrs. John Bradley (Florence Briggs Th...</td>\n",
       "      <td>female</td>\n",
       "      <td>38.0</td>\n",
       "      <td>1</td>\n",
       "      <td>0</td>\n",
       "      <td>PC 17599</td>\n",
       "      <td>71.2833</td>\n",
       "      <td>C85</td>\n",
       "      <td>C</td>\n",
       "    </tr>\n",
       "    <tr>\n",
       "      <th>2</th>\n",
       "      <td>3</td>\n",
       "      <td>1</td>\n",
       "      <td>3</td>\n",
       "      <td>Heikkinen, Miss. Laina</td>\n",
       "      <td>female</td>\n",
       "      <td>26.0</td>\n",
       "      <td>0</td>\n",
       "      <td>0</td>\n",
       "      <td>STON/O2. 3101282</td>\n",
       "      <td>7.9250</td>\n",
       "      <td>NaN</td>\n",
       "      <td>S</td>\n",
       "    </tr>\n",
       "    <tr>\n",
       "      <th>3</th>\n",
       "      <td>4</td>\n",
       "      <td>1</td>\n",
       "      <td>1</td>\n",
       "      <td>Futrelle, Mrs. Jacques Heath (Lily May Peel)</td>\n",
       "      <td>female</td>\n",
       "      <td>35.0</td>\n",
       "      <td>1</td>\n",
       "      <td>0</td>\n",
       "      <td>113803</td>\n",
       "      <td>53.1000</td>\n",
       "      <td>C123</td>\n",
       "      <td>S</td>\n",
       "    </tr>\n",
       "    <tr>\n",
       "      <th>4</th>\n",
       "      <td>5</td>\n",
       "      <td>0</td>\n",
       "      <td>3</td>\n",
       "      <td>Allen, Mr. William Henry</td>\n",
       "      <td>male</td>\n",
       "      <td>35.0</td>\n",
       "      <td>0</td>\n",
       "      <td>0</td>\n",
       "      <td>373450</td>\n",
       "      <td>8.0500</td>\n",
       "      <td>NaN</td>\n",
       "      <td>S</td>\n",
       "    </tr>\n",
       "  </tbody>\n",
       "</table>\n",
       "</div>"
      ],
      "text/plain": [
       "   PassengerId  Survived  Pclass  \\\n",
       "0            1         0       3   \n",
       "1            2         1       1   \n",
       "2            3         1       3   \n",
       "3            4         1       1   \n",
       "4            5         0       3   \n",
       "\n",
       "                                                Name     Sex   Age  SibSp  \\\n",
       "0                            Braund, Mr. Owen Harris    male  22.0      1   \n",
       "1  Cumings, Mrs. John Bradley (Florence Briggs Th...  female  38.0      1   \n",
       "2                             Heikkinen, Miss. Laina  female  26.0      0   \n",
       "3       Futrelle, Mrs. Jacques Heath (Lily May Peel)  female  35.0      1   \n",
       "4                           Allen, Mr. William Henry    male  35.0      0   \n",
       "\n",
       "   Parch            Ticket     Fare Cabin Embarked  \n",
       "0      0         A/5 21171   7.2500   NaN        S  \n",
       "1      0          PC 17599  71.2833   C85        C  \n",
       "2      0  STON/O2. 3101282   7.9250   NaN        S  \n",
       "3      0            113803  53.1000  C123        S  \n",
       "4      0            373450   8.0500   NaN        S  "
      ]
     },
     "execution_count": 21,
     "metadata": {},
     "output_type": "execute_result"
    }
   ],
   "source": [
    "data.head()"
   ]
  },
  {
   "cell_type": "code",
   "execution_count": 22,
   "id": "stone-journal",
   "metadata": {},
   "outputs": [
    {
     "data": {
      "text/html": [
       "<div>\n",
       "<style scoped>\n",
       "    .dataframe tbody tr th:only-of-type {\n",
       "        vertical-align: middle;\n",
       "    }\n",
       "\n",
       "    .dataframe tbody tr th {\n",
       "        vertical-align: top;\n",
       "    }\n",
       "\n",
       "    .dataframe thead th {\n",
       "        text-align: right;\n",
       "    }\n",
       "</style>\n",
       "<table border=\"1\" class=\"dataframe\">\n",
       "  <thead>\n",
       "    <tr style=\"text-align: right;\">\n",
       "      <th></th>\n",
       "      <th>PassengerId</th>\n",
       "      <th>Survived</th>\n",
       "      <th>Pclass</th>\n",
       "      <th>Name</th>\n",
       "      <th>Sex</th>\n",
       "      <th>Age</th>\n",
       "      <th>SibSp</th>\n",
       "      <th>Parch</th>\n",
       "      <th>Ticket</th>\n",
       "      <th>Fare</th>\n",
       "      <th>Cabin</th>\n",
       "      <th>Embarked</th>\n",
       "    </tr>\n",
       "  </thead>\n",
       "  <tbody>\n",
       "    <tr>\n",
       "      <th>886</th>\n",
       "      <td>887</td>\n",
       "      <td>0</td>\n",
       "      <td>2</td>\n",
       "      <td>Montvila, Rev. Juozas</td>\n",
       "      <td>male</td>\n",
       "      <td>27.0</td>\n",
       "      <td>0</td>\n",
       "      <td>0</td>\n",
       "      <td>211536</td>\n",
       "      <td>13.00</td>\n",
       "      <td>NaN</td>\n",
       "      <td>S</td>\n",
       "    </tr>\n",
       "    <tr>\n",
       "      <th>887</th>\n",
       "      <td>888</td>\n",
       "      <td>1</td>\n",
       "      <td>1</td>\n",
       "      <td>Graham, Miss. Margaret Edith</td>\n",
       "      <td>female</td>\n",
       "      <td>19.0</td>\n",
       "      <td>0</td>\n",
       "      <td>0</td>\n",
       "      <td>112053</td>\n",
       "      <td>30.00</td>\n",
       "      <td>B42</td>\n",
       "      <td>S</td>\n",
       "    </tr>\n",
       "    <tr>\n",
       "      <th>888</th>\n",
       "      <td>889</td>\n",
       "      <td>0</td>\n",
       "      <td>3</td>\n",
       "      <td>Johnston, Miss. Catherine Helen \"Carrie\"</td>\n",
       "      <td>female</td>\n",
       "      <td>NaN</td>\n",
       "      <td>1</td>\n",
       "      <td>2</td>\n",
       "      <td>W./C. 6607</td>\n",
       "      <td>23.45</td>\n",
       "      <td>NaN</td>\n",
       "      <td>S</td>\n",
       "    </tr>\n",
       "    <tr>\n",
       "      <th>889</th>\n",
       "      <td>890</td>\n",
       "      <td>1</td>\n",
       "      <td>1</td>\n",
       "      <td>Behr, Mr. Karl Howell</td>\n",
       "      <td>male</td>\n",
       "      <td>26.0</td>\n",
       "      <td>0</td>\n",
       "      <td>0</td>\n",
       "      <td>111369</td>\n",
       "      <td>30.00</td>\n",
       "      <td>C148</td>\n",
       "      <td>C</td>\n",
       "    </tr>\n",
       "    <tr>\n",
       "      <th>890</th>\n",
       "      <td>891</td>\n",
       "      <td>0</td>\n",
       "      <td>3</td>\n",
       "      <td>Dooley, Mr. Patrick</td>\n",
       "      <td>male</td>\n",
       "      <td>32.0</td>\n",
       "      <td>0</td>\n",
       "      <td>0</td>\n",
       "      <td>370376</td>\n",
       "      <td>7.75</td>\n",
       "      <td>NaN</td>\n",
       "      <td>Q</td>\n",
       "    </tr>\n",
       "  </tbody>\n",
       "</table>\n",
       "</div>"
      ],
      "text/plain": [
       "     PassengerId  Survived  Pclass                                      Name  \\\n",
       "886          887         0       2                     Montvila, Rev. Juozas   \n",
       "887          888         1       1              Graham, Miss. Margaret Edith   \n",
       "888          889         0       3  Johnston, Miss. Catherine Helen \"Carrie\"   \n",
       "889          890         1       1                     Behr, Mr. Karl Howell   \n",
       "890          891         0       3                       Dooley, Mr. Patrick   \n",
       "\n",
       "        Sex   Age  SibSp  Parch      Ticket   Fare Cabin Embarked  \n",
       "886    male  27.0      0      0      211536  13.00   NaN        S  \n",
       "887  female  19.0      0      0      112053  30.00   B42        S  \n",
       "888  female   NaN      1      2  W./C. 6607  23.45   NaN        S  \n",
       "889    male  26.0      0      0      111369  30.00  C148        C  \n",
       "890    male  32.0      0      0      370376   7.75   NaN        Q  "
      ]
     },
     "execution_count": 22,
     "metadata": {},
     "output_type": "execute_result"
    }
   ],
   "source": [
    "data.tail()"
   ]
  },
  {
   "cell_type": "code",
   "execution_count": 23,
   "id": "affiliated-judgment",
   "metadata": {},
   "outputs": [
    {
     "data": {
      "text/html": [
       "<div>\n",
       "<style scoped>\n",
       "    .dataframe tbody tr th:only-of-type {\n",
       "        vertical-align: middle;\n",
       "    }\n",
       "\n",
       "    .dataframe tbody tr th {\n",
       "        vertical-align: top;\n",
       "    }\n",
       "\n",
       "    .dataframe thead th {\n",
       "        text-align: right;\n",
       "    }\n",
       "</style>\n",
       "<table border=\"1\" class=\"dataframe\">\n",
       "  <thead>\n",
       "    <tr style=\"text-align: right;\">\n",
       "      <th></th>\n",
       "      <th>PassengerId</th>\n",
       "      <th>Survived</th>\n",
       "      <th>Pclass</th>\n",
       "      <th>Name</th>\n",
       "      <th>Sex</th>\n",
       "      <th>Age</th>\n",
       "      <th>SibSp</th>\n",
       "      <th>Parch</th>\n",
       "      <th>Ticket</th>\n",
       "      <th>Fare</th>\n",
       "      <th>Cabin</th>\n",
       "      <th>Embarked</th>\n",
       "    </tr>\n",
       "  </thead>\n",
       "  <tbody>\n",
       "    <tr>\n",
       "      <th>0</th>\n",
       "      <td>False</td>\n",
       "      <td>False</td>\n",
       "      <td>False</td>\n",
       "      <td>False</td>\n",
       "      <td>False</td>\n",
       "      <td>False</td>\n",
       "      <td>False</td>\n",
       "      <td>False</td>\n",
       "      <td>False</td>\n",
       "      <td>False</td>\n",
       "      <td>True</td>\n",
       "      <td>False</td>\n",
       "    </tr>\n",
       "    <tr>\n",
       "      <th>1</th>\n",
       "      <td>False</td>\n",
       "      <td>False</td>\n",
       "      <td>False</td>\n",
       "      <td>False</td>\n",
       "      <td>False</td>\n",
       "      <td>False</td>\n",
       "      <td>False</td>\n",
       "      <td>False</td>\n",
       "      <td>False</td>\n",
       "      <td>False</td>\n",
       "      <td>False</td>\n",
       "      <td>False</td>\n",
       "    </tr>\n",
       "    <tr>\n",
       "      <th>2</th>\n",
       "      <td>False</td>\n",
       "      <td>False</td>\n",
       "      <td>False</td>\n",
       "      <td>False</td>\n",
       "      <td>False</td>\n",
       "      <td>False</td>\n",
       "      <td>False</td>\n",
       "      <td>False</td>\n",
       "      <td>False</td>\n",
       "      <td>False</td>\n",
       "      <td>True</td>\n",
       "      <td>False</td>\n",
       "    </tr>\n",
       "    <tr>\n",
       "      <th>3</th>\n",
       "      <td>False</td>\n",
       "      <td>False</td>\n",
       "      <td>False</td>\n",
       "      <td>False</td>\n",
       "      <td>False</td>\n",
       "      <td>False</td>\n",
       "      <td>False</td>\n",
       "      <td>False</td>\n",
       "      <td>False</td>\n",
       "      <td>False</td>\n",
       "      <td>False</td>\n",
       "      <td>False</td>\n",
       "    </tr>\n",
       "    <tr>\n",
       "      <th>4</th>\n",
       "      <td>False</td>\n",
       "      <td>False</td>\n",
       "      <td>False</td>\n",
       "      <td>False</td>\n",
       "      <td>False</td>\n",
       "      <td>False</td>\n",
       "      <td>False</td>\n",
       "      <td>False</td>\n",
       "      <td>False</td>\n",
       "      <td>False</td>\n",
       "      <td>True</td>\n",
       "      <td>False</td>\n",
       "    </tr>\n",
       "    <tr>\n",
       "      <th>...</th>\n",
       "      <td>...</td>\n",
       "      <td>...</td>\n",
       "      <td>...</td>\n",
       "      <td>...</td>\n",
       "      <td>...</td>\n",
       "      <td>...</td>\n",
       "      <td>...</td>\n",
       "      <td>...</td>\n",
       "      <td>...</td>\n",
       "      <td>...</td>\n",
       "      <td>...</td>\n",
       "      <td>...</td>\n",
       "    </tr>\n",
       "    <tr>\n",
       "      <th>886</th>\n",
       "      <td>False</td>\n",
       "      <td>False</td>\n",
       "      <td>False</td>\n",
       "      <td>False</td>\n",
       "      <td>False</td>\n",
       "      <td>False</td>\n",
       "      <td>False</td>\n",
       "      <td>False</td>\n",
       "      <td>False</td>\n",
       "      <td>False</td>\n",
       "      <td>True</td>\n",
       "      <td>False</td>\n",
       "    </tr>\n",
       "    <tr>\n",
       "      <th>887</th>\n",
       "      <td>False</td>\n",
       "      <td>False</td>\n",
       "      <td>False</td>\n",
       "      <td>False</td>\n",
       "      <td>False</td>\n",
       "      <td>False</td>\n",
       "      <td>False</td>\n",
       "      <td>False</td>\n",
       "      <td>False</td>\n",
       "      <td>False</td>\n",
       "      <td>False</td>\n",
       "      <td>False</td>\n",
       "    </tr>\n",
       "    <tr>\n",
       "      <th>888</th>\n",
       "      <td>False</td>\n",
       "      <td>False</td>\n",
       "      <td>False</td>\n",
       "      <td>False</td>\n",
       "      <td>False</td>\n",
       "      <td>True</td>\n",
       "      <td>False</td>\n",
       "      <td>False</td>\n",
       "      <td>False</td>\n",
       "      <td>False</td>\n",
       "      <td>True</td>\n",
       "      <td>False</td>\n",
       "    </tr>\n",
       "    <tr>\n",
       "      <th>889</th>\n",
       "      <td>False</td>\n",
       "      <td>False</td>\n",
       "      <td>False</td>\n",
       "      <td>False</td>\n",
       "      <td>False</td>\n",
       "      <td>False</td>\n",
       "      <td>False</td>\n",
       "      <td>False</td>\n",
       "      <td>False</td>\n",
       "      <td>False</td>\n",
       "      <td>False</td>\n",
       "      <td>False</td>\n",
       "    </tr>\n",
       "    <tr>\n",
       "      <th>890</th>\n",
       "      <td>False</td>\n",
       "      <td>False</td>\n",
       "      <td>False</td>\n",
       "      <td>False</td>\n",
       "      <td>False</td>\n",
       "      <td>False</td>\n",
       "      <td>False</td>\n",
       "      <td>False</td>\n",
       "      <td>False</td>\n",
       "      <td>False</td>\n",
       "      <td>True</td>\n",
       "      <td>False</td>\n",
       "    </tr>\n",
       "  </tbody>\n",
       "</table>\n",
       "<p>891 rows × 12 columns</p>\n",
       "</div>"
      ],
      "text/plain": [
       "     PassengerId  Survived  Pclass   Name    Sex    Age  SibSp  Parch  Ticket  \\\n",
       "0          False     False   False  False  False  False  False  False   False   \n",
       "1          False     False   False  False  False  False  False  False   False   \n",
       "2          False     False   False  False  False  False  False  False   False   \n",
       "3          False     False   False  False  False  False  False  False   False   \n",
       "4          False     False   False  False  False  False  False  False   False   \n",
       "..           ...       ...     ...    ...    ...    ...    ...    ...     ...   \n",
       "886        False     False   False  False  False  False  False  False   False   \n",
       "887        False     False   False  False  False  False  False  False   False   \n",
       "888        False     False   False  False  False   True  False  False   False   \n",
       "889        False     False   False  False  False  False  False  False   False   \n",
       "890        False     False   False  False  False  False  False  False   False   \n",
       "\n",
       "      Fare  Cabin  Embarked  \n",
       "0    False   True     False  \n",
       "1    False  False     False  \n",
       "2    False   True     False  \n",
       "3    False  False     False  \n",
       "4    False   True     False  \n",
       "..     ...    ...       ...  \n",
       "886  False   True     False  \n",
       "887  False  False     False  \n",
       "888  False   True     False  \n",
       "889  False  False     False  \n",
       "890  False   True     False  \n",
       "\n",
       "[891 rows x 12 columns]"
      ]
     },
     "execution_count": 23,
     "metadata": {},
     "output_type": "execute_result"
    }
   ],
   "source": [
    "data.isnull()"
   ]
  },
  {
   "cell_type": "code",
   "execution_count": 24,
   "id": "realistic-honey",
   "metadata": {},
   "outputs": [
    {
     "data": {
      "text/plain": [
       "PassengerId      0\n",
       "Survived         0\n",
       "Pclass           0\n",
       "Name             0\n",
       "Sex              0\n",
       "Age            177\n",
       "SibSp            0\n",
       "Parch            0\n",
       "Ticket           0\n",
       "Fare             0\n",
       "Cabin          687\n",
       "Embarked         2\n",
       "dtype: int64"
      ]
     },
     "execution_count": 24,
     "metadata": {},
     "output_type": "execute_result"
    }
   ],
   "source": [
    "data.isnull().sum()"
   ]
  },
  {
   "cell_type": "code",
   "execution_count": 25,
   "id": "lined-python",
   "metadata": {},
   "outputs": [
    {
     "data": {
      "image/png": "[encoded data removed]",
      "text/plain": [
       "<Figure size 1296x576 with 2 Axes>"
      ]
     },
     "metadata": {
      "needs_background": "light"
     },
     "output_type": "display_data"
    }
   ],
   "source": [
    "f,ax=plt.subplots(1,2,figsize=(18,8))\n",
    "data['Survived'].value_counts().plot.pie(explode=[0,0.1],autopct='%1.1f%%',ax=ax[0],shadow=True)\n",
    "ax[0].set_title('Survived')\n",
    "ax[0].set_ylabel('')\n",
    "sns.countplot('Survived',data=data,ax=ax[1])\n",
    "ax[1].set_title('Survived')\n",
    "plt.show()"
   ]
  },
  {
   "cell_type": "code",
   "execution_count": 26,
   "id": "operational-stomach",
   "metadata": {},
   "outputs": [
    {
     "data": {
      "text/plain": [
       "Sex     Survived\n",
       "female  0            81\n",
       "        1           233\n",
       "male    0           468\n",
       "        1           109\n",
       "Name: Survived, dtype: int64"
      ]
     },
     "execution_count": 26,
     "metadata": {},
     "output_type": "execute_result"
    }
   ],
   "source": [
    "data.groupby(['Sex','Survived'])['Survived'].count()"
   ]
  },
  {
   "cell_type": "code",
   "execution_count": 27,
   "id": "bigger-damages",
   "metadata": {},
   "outputs": [
    {
     "data": {
      "image/png": "[encoded data removed]",
      "text/plain": [
       "<Figure size 1296x576 with 2 Axes>"
      ]
     },
     "metadata": {
      "needs_background": "light"
     },
     "output_type": "display_data"
    }
   ],
   "source": [
    "f,ax=plt.subplots(1,2,figsize=(18,8))\n",
    "data[['Sex','Survived']].groupby(['Sex']).mean().plot.bar(ax=ax[0])\n",
    "ax[0].set_title('Survived vs Sex')\n",
    "sns.countplot('Sex',hue='Survived',data=data,ax=ax[1])\n",
    "ax[1].set_title('Sex:Survived vs Dead')\n",
    "plt.show()\n"
   ]
  },
  {
   "cell_type": "code",
   "execution_count": 28,
   "id": "stuck-jefferson",
   "metadata": {},
   "outputs": [
    {
     "data": {
      "text/html": [
       "<div>\n",
       "<style scoped>\n",
       "    .dataframe tbody tr th:only-of-type {\n",
       "        vertical-align: middle;\n",
       "    }\n",
       "\n",
       "    .dataframe tbody tr th {\n",
       "        vertical-align: top;\n",
       "    }\n",
       "\n",
       "    .dataframe thead th {\n",
       "        text-align: right;\n",
       "    }\n",
       "</style>\n",
       "<table border=\"1\" class=\"dataframe\">\n",
       "  <thead>\n",
       "    <tr style=\"text-align: right;\">\n",
       "      <th></th>\n",
       "      <th>PassengerId</th>\n",
       "      <th>Survived</th>\n",
       "      <th>Pclass</th>\n",
       "      <th>Age</th>\n",
       "      <th>SibSp</th>\n",
       "      <th>Parch</th>\n",
       "      <th>Fare</th>\n",
       "    </tr>\n",
       "  </thead>\n",
       "  <tbody>\n",
       "    <tr>\n",
       "      <th>PassengerId</th>\n",
       "      <td>1.000000</td>\n",
       "      <td>-0.005007</td>\n",
       "      <td>-0.035144</td>\n",
       "      <td>0.036847</td>\n",
       "      <td>-0.057527</td>\n",
       "      <td>-0.001652</td>\n",
       "      <td>0.012658</td>\n",
       "    </tr>\n",
       "    <tr>\n",
       "      <th>Survived</th>\n",
       "      <td>-0.005007</td>\n",
       "      <td>1.000000</td>\n",
       "      <td>-0.338481</td>\n",
       "      <td>-0.077221</td>\n",
       "      <td>-0.035322</td>\n",
       "      <td>0.081629</td>\n",
       "      <td>0.257307</td>\n",
       "    </tr>\n",
       "    <tr>\n",
       "      <th>Pclass</th>\n",
       "      <td>-0.035144</td>\n",
       "      <td>-0.338481</td>\n",
       "      <td>1.000000</td>\n",
       "      <td>-0.369226</td>\n",
       "      <td>0.083081</td>\n",
       "      <td>0.018443</td>\n",
       "      <td>-0.549500</td>\n",
       "    </tr>\n",
       "    <tr>\n",
       "      <th>Age</th>\n",
       "      <td>0.036847</td>\n",
       "      <td>-0.077221</td>\n",
       "      <td>-0.369226</td>\n",
       "      <td>1.000000</td>\n",
       "      <td>-0.308247</td>\n",
       "      <td>-0.189119</td>\n",
       "      <td>0.096067</td>\n",
       "    </tr>\n",
       "    <tr>\n",
       "      <th>SibSp</th>\n",
       "      <td>-0.057527</td>\n",
       "      <td>-0.035322</td>\n",
       "      <td>0.083081</td>\n",
       "      <td>-0.308247</td>\n",
       "      <td>1.000000</td>\n",
       "      <td>0.414838</td>\n",
       "      <td>0.159651</td>\n",
       "    </tr>\n",
       "    <tr>\n",
       "      <th>Parch</th>\n",
       "      <td>-0.001652</td>\n",
       "      <td>0.081629</td>\n",
       "      <td>0.018443</td>\n",
       "      <td>-0.189119</td>\n",
       "      <td>0.414838</td>\n",
       "      <td>1.000000</td>\n",
       "      <td>0.216225</td>\n",
       "    </tr>\n",
       "    <tr>\n",
       "      <th>Fare</th>\n",
       "      <td>0.012658</td>\n",
       "      <td>0.257307</td>\n",
       "      <td>-0.549500</td>\n",
       "      <td>0.096067</td>\n",
       "      <td>0.159651</td>\n",
       "      <td>0.216225</td>\n",
       "      <td>1.000000</td>\n",
       "    </tr>\n",
       "  </tbody>\n",
       "</table>\n",
       "</div>"
      ],
      "text/plain": [
       "             PassengerId  Survived    Pclass       Age     SibSp     Parch  \\\n",
       "PassengerId     1.000000 -0.005007 -0.035144  0.036847 -0.057527 -0.001652   \n",
       "Survived       -0.005007  1.000000 -0.338481 -0.077221 -0.035322  0.081629   \n",
       "Pclass         -0.035144 -0.338481  1.000000 -0.369226  0.083081  0.018443   \n",
       "Age             0.036847 -0.077221 -0.369226  1.000000 -0.308247 -0.189119   \n",
       "SibSp          -0.057527 -0.035322  0.083081 -0.308247  1.000000  0.414838   \n",
       "Parch          -0.001652  0.081629  0.018443 -0.189119  0.414838  1.000000   \n",
       "Fare            0.012658  0.257307 -0.549500  0.096067  0.159651  0.216225   \n",
       "\n",
       "                 Fare  \n",
       "PassengerId  0.012658  \n",
       "Survived     0.257307  \n",
       "Pclass      -0.549500  \n",
       "Age          0.096067  \n",
       "SibSp        0.159651  \n",
       "Parch        0.216225  \n",
       "Fare         1.000000  "
      ]
     },
     "execution_count": 28,
     "metadata": {},
     "output_type": "execute_result"
    }
   ],
   "source": [
    "df = data.corr('pearson')\n",
    "df"
   ]
  },
  {
   "cell_type": "code",
   "execution_count": 29,
   "id": "collaborative-voltage",
   "metadata": {},
   "outputs": [
    {
     "data": {
      "text/plain": [
       "<seaborn.matrix.ClusterGrid at 0xc445c58>"
      ]
     },
     "execution_count": 29,
     "metadata": {},
     "output_type": "execute_result"
    },
    {
     "data": {
      "image/png": "[encoded data removed]",
      "text/plain": [
       "<Figure size 720x720 with 4 Axes>"
      ]
     },
     "metadata": {
      "needs_background": "light"
     },
     "output_type": "display_data"
    }
   ],
   "source": [
    "sns.clustermap(df, \n",
    "               annot = True,      # 실제 값 화면에 나타내기\n",
    "               cmap = 'RdYlBu_r',  # Red, Yellow, Blue 색상으로 표시\n",
    "               vmin = -1, vmax = 1, #컬러차트 -1 ~ 1 범위로 표시\n",
    "              )\n"
   ]
  },
  {
   "cell_type": "markdown",
   "id": "competitive-martin",
   "metadata": {},
   "source": [
    "# 실습1: Pearson Correlation 함수를 만드시오.\n",
    "\n",
    "이번 실습에서는 dataframe 의 내장 함수 ```corr('pearson')``` 을 함수로 구현합니다."
   ]
  },
  {
   "cell_type": "markdown",
   "id": "understanding-robinson",
   "metadata": {},
   "source": [
    "### TODO 1"
   ]
  },
  {
   "cell_type": "code",
   "execution_count": 30,
   "id": "rural-leader",
   "metadata": {},
   "outputs": [],
   "source": [
    "def pearsonCorrelation(data, source_column, target_column):\n",
    "    result = 0.\n",
    "    # TODO\n",
    "    x = data[source_column]\n",
    "    y = data[target_column]\n",
    "    \n",
    "    x = x - np.mean(x)\n",
    "    y = y - np.mean(y)\n",
    "    cov = np.dot(x,y) / len(x)\n",
    "    result = cov / (np.std(x)*np.std(y))\n",
    "    \n",
    "    return result"
   ]
  },
  {
   "cell_type": "markdown",
   "id": "remarkable-discovery",
   "metadata": {},
   "source": [
    "## 작성한 함수가 정상적으로 작동하는지 확인한다."
   ]
  },
  {
   "cell_type": "code",
   "execution_count": 31,
   "id": "rolled-domain",
   "metadata": {},
   "outputs": [],
   "source": [
    "# DO NOT CHANGE\n",
    "results = []\n",
    "column_names = []"
   ]
  },
  {
   "cell_type": "code",
   "execution_count": 32,
   "id": "developing-mining",
   "metadata": {},
   "outputs": [
    {
     "ename": "TypeError",
     "evalue": "Could not convert Braund, Mr. Owen HarrisCumings, Mrs. John Bradley (Florence Briggs Thayer)Heikkinen, Miss. LainaFutrelle, Mrs. Jacques Heath (Lily May Peel)Allen, Mr. William HenryMoran, Mr. JamesMcCarthy, Mr. Timothy JPalsson, Master. Gosta LeonardJohnson, Mrs. Oscar W (Elisabeth Vilhelmina Berg)Nasser, Mrs. Nicholas (Adele Achem)Sandstrom, Miss. Marguerite RutBonnell, Miss. ElizabethSaundercock, Mr. William HenryAndersson, Mr. Anders JohanVestrom, Miss. Hulda Amanda AdolfinaHewlett, Mrs. (Mary D Kingcome) Rice, Master. EugeneWilliams, Mr. Charles EugeneVander Planke, Mrs. Julius (Emelia Maria Vandemoortele)Masselmani, Mrs. FatimaFynney, Mr. Joseph JBeesley, Mr. LawrenceMcGowan, Miss. Anna \"Annie\"Sloper, Mr. William ThompsonPalsson, Miss. Torborg DaniraAsplund, Mrs. Carl Oscar (Selma Augusta Emilia Johansson)Emir, Mr. Farred ChehabFortune, Mr. Charles AlexanderO'Dwyer, Miss. Ellen \"Nellie\"Todoroff, Mr. LalioUruchurtu, Don. Manuel ESpencer, Mrs. William Augustus (Marie Eugenie)Glynn, Miss. Mary AgathaWheadon, Mr. Edward HMeyer, Mr. Edgar JosephHolverson, Mr. Alexander OskarMamee, Mr. HannaCann, Mr. Ernest CharlesVander Planke, Miss. Augusta MariaNicola-Yarred, Miss. JamilaAhlin, Mrs. Johan (Johanna Persdotter Larsson)Turpin, Mrs. William John Robert (Dorothy Ann Wonnacott)Kraeff, Mr. TheodorLaroche, Miss. Simonne Marie Anne AndreeDevaney, Miss. Margaret DeliaRogers, Mr. William JohnLennon, Mr. DenisO'Driscoll, Miss. BridgetSamaan, Mr. YoussefArnold-Franchi, Mrs. Josef (Josefine Franchi)Panula, Master. Juha NiiloNosworthy, Mr. Richard CaterHarper, Mrs. Henry Sleeper (Myna Haxtun)Faunthorpe, Mrs. Lizzie (Elizabeth Anne Wilkinson)Ostby, Mr. Engelhart CorneliusWoolner, Mr. HughRugg, Miss. EmilyNovel, Mr. MansouerWest, Miss. Constance MiriumGoodwin, Master. William FrederickSirayanian, Mr. OrsenIcard, Miss. AmelieHarris, Mr. Henry BirkhardtSkoog, Master. HaraldStewart, Mr. Albert AMoubarek, Master. GeriosNye, Mrs. (Elizabeth Ramell)Crease, Mr. Ernest JamesAndersson, Miss. Erna AlexandraKink, Mr. VincenzJenkin, Mr. Stephen CurnowGoodwin, Miss. Lillian AmyHood, Mr. Ambrose JrChronopoulos, Mr. ApostolosBing, Mr. LeeMoen, Mr. Sigurd HansenStaneff, Mr. IvanMoutal, Mr. Rahamin HaimCaldwell, Master. Alden GatesDowdell, Miss. ElizabethWaelens, Mr. AchilleSheerlinck, Mr. Jan BaptistMcDermott, Miss. Brigdet DeliaCarrau, Mr. Francisco MIlett, Miss. BerthaBackstrom, Mrs. Karl Alfred (Maria Mathilda Gustafsson)Ford, Mr. William NealSlocovski, Mr. Selman FrancisFortune, Miss. Mabel HelenCelotti, Mr. FrancescoChristmann, Mr. EmilAndreasson, Mr. Paul EdvinChaffee, Mr. Herbert FullerDean, Mr. Bertram FrankCoxon, Mr. DanielShorney, Mr. Charles JosephGoldschmidt, Mr. George BGreenfield, Mr. William BertramDoling, Mrs. John T (Ada Julia Bone)Kantor, Mr. SinaiPetranec, Miss. MatildaPetroff, Mr. Pastcho (\"Pentcho\")White, Mr. Richard FrasarJohansson, Mr. Gustaf JoelGustafsson, Mr. Anders VilhelmMionoff, Mr. StoytchoSalkjelsvik, Miss. Anna KristineMoss, Mr. Albert JohanRekic, Mr. TidoMoran, Miss. BerthaPorter, Mr. Walter ChamberlainZabour, Miss. HileniBarton, Mr. David JohnJussila, Miss. KatriinaAttalah, Miss. MalakePekoniemi, Mr. EdvardConnors, Mr. PatrickTurpin, Mr. William John RobertBaxter, Mr. Quigg EdmondAndersson, Miss. Ellis Anna MariaHickman, Mr. Stanley GeorgeMoore, Mr. Leonard CharlesNasser, Mr. NicholasWebber, Miss. SusanWhite, Mr. Percival WaylandNicola-Yarred, Master. EliasMcMahon, Mr. MartinMadsen, Mr. Fridtjof ArnePeter, Miss. AnnaEkstrom, Mr. JohanDrazenoic, Mr. JozefCoelho, Mr. Domingos FernandeoRobins, Mrs. Alexander A (Grace Charity Laury)Weisz, Mrs. Leopold (Mathilde Francoise Pede)Sobey, Mr. Samuel James HaydenRichard, Mr. EmileNewsom, Miss. Helen MonypenyFutrelle, Mr. Jacques HeathOsen, Mr. Olaf ElonGiglio, Mr. VictorBoulos, Mrs. Joseph (Sultana)Nysten, Miss. Anna SofiaHakkarainen, Mrs. Pekka Pietari (Elin Matilda Dolck)Burke, Mr. JeremiahAndrew, Mr. Edgardo SamuelNicholls, Mr. Joseph CharlesAndersson, Mr. August Edvard (\"Wennerstrom\")Ford, Miss. Robina Maggie \"Ruby\"Navratil, Mr. Michel (\"Louis M Hoffman\")Byles, Rev. Thomas Roussel DavidsBateman, Rev. Robert JamesPears, Mrs. Thomas (Edith Wearne)Meo, Mr. Alfonzovan Billiard, Mr. Austin BlylerOlsen, Mr. Ole MartinWilliams, Mr. Charles DuaneGilnagh, Miss. Katherine \"Katie\"Corn, Mr. HarrySmiljanic, Mr. MileSage, Master. Thomas HenryCribb, Mr. John HatfieldWatt, Mrs. James (Elizabeth \"Bessie\" Inglis Milne)Bengtsson, Mr. John ViktorCalic, Mr. JovoPanula, Master. Eino ViljamiGoldsmith, Master. Frank John William \"Frankie\"Chibnall, Mrs. (Edith Martha Bowerman)Skoog, Mrs. William (Anna Bernhardina Karlsson)Baumann, Mr. John DLing, Mr. LeeVan der hoef, Mr. WyckoffRice, Master. ArthurJohnson, Miss. Eleanor IleenSivola, Mr. Antti WilhelmSmith, Mr. James ClinchKlasen, Mr. Klas AlbinLefebre, Master. Henry ForbesIsham, Miss. Ann ElizabethHale, Mr. ReginaldLeonard, Mr. LionelSage, Miss. Constance GladysPernot, Mr. ReneAsplund, Master. Clarence Gustaf HugoBecker, Master. Richard FKink-Heilmann, Miss. Luise GretchenRood, Mr. Hugh RoscoeO'Brien, Mrs. Thomas (Johanna \"Hannah\" Godfrey)Romaine, Mr. Charles Hallace (\"Mr C Rolmane\")Bourke, Mr. JohnTurcin, Mr. StjepanPinsky, Mrs. (Rosa)Carbines, Mr. WilliamAndersen-Jensen, Miss. Carla Christine NielsineNavratil, Master. Michel MBrown, Mrs. James Joseph (Margaret Tobin)Lurette, Miss. EliseMernagh, Mr. RobertOlsen, Mr. Karl Siegwart AndreasMadigan, Miss. Margaret \"Maggie\"Yrois, Miss. Henriette (\"Mrs Harbeck\")Vande Walle, Mr. Nestor CyrielSage, Mr. FrederickJohanson, Mr. Jakob AlfredYouseff, Mr. GeriousCohen, Mr. Gurshon \"Gus\"Strom, Miss. Telma MatildaBackstrom, Mr. Karl AlfredAlbimona, Mr. Nassef CassemCarr, Miss. Helen \"Ellen\"Blank, Mr. HenryAli, Mr. AhmedCameron, Miss. Clear AnniePerkin, Mr. John HenryGivard, Mr. Hans KristensenKiernan, Mr. PhilipNewell, Miss. MadeleineHonkanen, Miss. EliinaJacobsohn, Mr. Sidney SamuelBazzani, Miss. AlbinaHarris, Mr. WalterSunderland, Mr. Victor FrancisBracken, Mr. James HGreen, Mr. George HenryNenkoff, Mr. ChristoHoyt, Mr. Frederick MaxfieldBerglund, Mr. Karl Ivar SvenMellors, Mr. William JohnLovell, Mr. John Hall (\"Henry\")Fahlstrom, Mr. Arne JonasLefebre, Miss. MathildeHarris, Mrs. Henry Birkhardt (Irene Wallach)Larsson, Mr. Bengt EdvinSjostedt, Mr. Ernst AdolfAsplund, Miss. Lillian GertrudLeyson, Mr. Robert William NormanHarknett, Miss. Alice PhoebeHold, Mr. StephenCollyer, Miss. Marjorie \"Lottie\"Pengelly, Mr. Frederick WilliamHunt, Mr. George HenryZabour, Miss. ThamineMurphy, Miss. Katherine \"Kate\"Coleridge, Mr. Reginald CharlesMaenpaa, Mr. Matti AlexanteriAttalah, Mr. SleimanMinahan, Dr. William EdwardLindahl, Miss. Agda Thorilda ViktoriaHamalainen, Mrs. William (Anna)Beckwith, Mr. Richard LeonardCarter, Rev. Ernest CourtenayReed, Mr. James GeorgeStrom, Mrs. Wilhelm (Elna Matilda Persson)Stead, Mr. William ThomasLobb, Mr. William ArthurRosblom, Mrs. Viktor (Helena Wilhelmina)Touma, Mrs. Darwis (Hanne Youssef Razi)Thorne, Mrs. Gertrude MaybelleCherry, Miss. GladysWard, Miss. AnnaParrish, Mrs. (Lutie Davis)Smith, Mr. ThomasAsplund, Master. Edvin Rojj FelixTaussig, Mr. EmilHarrison, Mr. WilliamHenry, Miss. DeliaReeves, Mr. DavidPanula, Mr. Ernesti ArvidPersson, Mr. Ernst UlrikGraham, Mrs. William Thompson (Edith Junkins)Bissette, Miss. AmeliaCairns, Mr. AlexanderTornquist, Mr. William HenryMellinger, Mrs. (Elizabeth Anne Maidment)Natsch, Mr. Charles HHealy, Miss. Hanora \"Nora\"Andrews, Miss. Kornelia TheodosiaLindblom, Miss. Augusta CharlottaParkes, Mr. Francis \"Frank\"Rice, Master. EricAbbott, Mrs. Stanton (Rosa Hunt)Duane, Mr. FrankOlsson, Mr. Nils Johan Goranssonde Pelsmaeker, Mr. AlfonsDorking, Mr. Edward ArthurSmith, Mr. Richard WilliamStankovic, Mr. Ivande Mulder, Mr. TheodoreNaidenoff, Mr. PenkoHosono, Mr. MasabumiConnolly, Miss. KateBarber, Miss. Ellen \"Nellie\"Bishop, Mrs. Dickinson H (Helen Walton)Levy, Mr. Rene JacquesHaas, Miss. AloisiaMineff, Mr. IvanLewy, Mr. Ervin GHanna, Mr. MansourAllison, Miss. Helen LoraineSaalfeld, Mr. AdolpheBaxter, Mrs. James (Helene DeLaudeniere Chaput)Kelly, Miss. Anna Katherine \"Annie Kate\"McCoy, Mr. BernardJohnson, Mr. William Cahoone JrKeane, Miss. Nora AWilliams, Mr. Howard Hugh \"Harry\"Allison, Master. Hudson TrevorFleming, Miss. MargaretPenasco y Castellana, Mrs. Victor de Satode (Maria Josefa Perez de Soto y Vallejo)Abelson, Mr. SamuelFrancatelli, Miss. Laura MabelHays, Miss. Margaret BechsteinRyerson, Miss. Emily BorieLahtinen, Mrs. William (Anna Sylfven)Hendekovic, Mr. IgnjacHart, Mr. BenjaminNilsson, Miss. Helmina JosefinaKantor, Mrs. Sinai (Miriam Sternin)Moraweck, Dr. ErnestWick, Miss. Mary NatalieSpedden, Mrs. Frederic Oakley (Margaretta Corning Stone)Dennis, Mr. SamuelDanoff, Mr. YotoSlayter, Miss. Hilda MaryCaldwell, Mrs. Albert Francis (Sylvia Mae Harbaugh)Sage, Mr. George John JrYoung, Miss. Marie GriceNysveen, Mr. Johan HansenBall, Mrs. (Ada E Hall)Goldsmith, Mrs. Frank John (Emily Alice Brown)Hippach, Miss. Jean GertrudeMcCoy, Miss. AgnesPartner, Mr. AustenGraham, Mr. George EdwardVander Planke, Mr. Leo EdmondusFrauenthal, Mrs. Henry William (Clara Heinsheimer)Denkoff, Mr. MittoPears, Mr. Thomas ClintonBurns, Miss. Elizabeth MargaretDahl, Mr. Karl EdwartBlackwell, Mr. Stephen WeartNavratil, Master. Edmond RogerFortune, Miss. Alice ElizabethCollander, Mr. Erik GustafSedgwick, Mr. Charles Frederick WaddingtonFox, Mr. Stanley HubertBrown, Miss. Amelia \"Mildred\"Smith, Miss. Marion ElsieDavison, Mrs. Thomas Henry (Mary E Finck)Coutts, Master. William Loch \"William\"Dimic, Mr. JovanOdahl, Mr. Nils MartinWilliams-Lambert, Mr. Fletcher FellowsElias, Mr. TannousArnold-Franchi, Mr. JosefYousif, Mr. WazliVanden Steen, Mr. Leo PeterBowerman, Miss. Elsie EdithFunk, Miss. Annie ClemmerMcGovern, Miss. MaryMockler, Miss. Helen Mary \"Ellie\"Skoog, Mr. Wilhelmdel Carlo, Mr. SebastianoBarbara, Mrs. (Catherine David)Asim, Mr. AdolaO'Brien, Mr. ThomasAdahl, Mr. Mauritz Nils MartinWarren, Mrs. Frank Manley (Anna Sophia Atkinson)Moussa, Mrs. (Mantoura Boulos)Jermyn, Miss. AnnieAubart, Mme. Leontine PaulineHarder, Mr. George AchillesWiklund, Mr. Jakob AlfredBeavan, Mr. William ThomasRinghini, Mr. SantePalsson, Miss. Stina ViolaMeyer, Mrs. Edgar Joseph (Leila Saks)Landergren, Miss. Aurora AdeliaWidener, Mr. Harry ElkinsBetros, Mr. TannousGustafsson, Mr. Karl GideonBidois, Miss. RosalieNakid, Miss. Maria (\"Mary\")Tikkanen, Mr. JuhoHolverson, Mrs. Alexander Oskar (Mary Aline Towner)Plotcharsky, Mr. VasilDavies, Mr. Charles HenryGoodwin, Master. Sidney LeonardBuss, Miss. KateSadlier, Mr. MatthewLehmann, Miss. BerthaCarter, Mr. William ErnestJansson, Mr. Carl OlofGustafsson, Mr. Johan BirgerNewell, Miss. MarjorieSandstrom, Mrs. Hjalmar (Agnes Charlotta Bengtsson)Johansson, Mr. ErikOlsson, Miss. ElinaMcKane, Mr. Peter DavidPain, Dr. AlfredTrout, Mrs. William H (Jessie L)Niskanen, Mr. JuhaAdams, Mr. JohnJussila, Miss. Mari AinaHakkarainen, Mr. Pekka PietariOreskovic, Miss. MarijaGale, Mr. ShadrachWidegren, Mr. Carl/Charles PeterRichards, Master. William RoweBirkeland, Mr. Hans Martin MonsenLefebre, Miss. IdaSdycoff, Mr. TodorHart, Mr. HenryMinahan, Miss. Daisy ECunningham, Mr. Alfred FlemingSundman, Mr. Johan JulianMeek, Mrs. Thomas (Annie Louise Rowley)Drew, Mrs. James Vivian (Lulu Thorne Christian)Silven, Miss. Lyyli KaroliinaMatthews, Mr. William JohnVan Impe, Miss. CatharinaGheorgheff, Mr. StanioCharters, Mr. DavidZimmerman, Mr. LeoDanbom, Mrs. Ernst Gilbert (Anna Sigrid Maria Brogren)Rosblom, Mr. Viktor RichardWiseman, Mr. PhillippeClarke, Mrs. Charles V (Ada Maria Winfield)Phillips, Miss. Kate Florence (\"Mrs Kate Louise Phillips Marshall\")Flynn, Mr. JamesPickard, Mr. Berk (Berk Trembisky)Bjornstrom-Steffansson, Mr. Mauritz HakanThorneycroft, Mrs. Percival (Florence Kate White)Louch, Mrs. Charles Alexander (Alice Adelaide Slow)Kallio, Mr. Nikolai ErlandSilvey, Mr. William BairdCarter, Miss. Lucile PolkFord, Miss. Doolina Margaret \"Daisy\"Richards, Mrs. Sidney (Emily Hocking)Fortune, Mr. MarkKvillner, Mr. Johan Henrik JohannessonHart, Mrs. Benjamin (Esther Ada Bloomfield)Hampe, Mr. LeonPetterson, Mr. Johan EmilReynaldo, Ms. EncarnacionJohannesen-Bratthammer, Mr. BerntDodge, Master. WashingtonMellinger, Miss. Madeleine VioletSeward, Mr. Frederic KimberBaclini, Miss. Marie CatherinePeuchen, Major. Arthur GodfreyWest, Mr. Edwy ArthurHagland, Mr. Ingvald Olai OlsenForeman, Mr. Benjamin LaventallGoldenberg, Mr. Samuel LPeduzzi, Mr. JosephJalsevac, Mr. IvanMillet, Mr. Francis DavisKenyon, Mrs. Frederick R (Marion)Toomey, Miss. EllenO'Connor, Mr. MauriceAnderson, Mr. HarryMorley, Mr. WilliamGee, Mr. Arthur HMilling, Mr. Jacob ChristianMaisner, Mr. SimonGoncalves, Mr. Manuel EstanslasCampbell, Mr. WilliamSmart, Mr. John MontgomeryScanlan, Mr. JamesBaclini, Miss. Helene BarbaraKeefe, Mr. ArthurCacic, Mr. LukaWest, Mrs. Edwy Arthur (Ada Mary Worth)Jerwan, Mrs. Amin S (Marie Marthe Thuillard)Strandberg, Miss. Ida SofiaClifford, Mr. George QuincyRenouf, Mr. Peter HenryBraund, Mr. Lewis RichardKarlsson, Mr. Nils AugustHirvonen, Miss. Hildur EGoodwin, Master. Harold VictorFrost, Mr. Anthony Wood \"Archie\"Rouse, Mr. Richard HenryTurkula, Mrs. (Hedwig)Bishop, Mr. Dickinson HLefebre, Miss. JeannieHoyt, Mrs. Frederick Maxfield (Jane Anne Forby)Kent, Mr. Edward AustinSomerton, Mr. Francis WilliamCoutts, Master. Eden Leslie \"Neville\"Hagland, Mr. Konrad Mathias ReiersenWindelov, Mr. EinarMolson, Mr. Harry MarklandArtagaveytia, Mr. RamonStanley, Mr. Edward RolandYousseff, Mr. GeriousEustis, Miss. Elizabeth MusseyShellard, Mr. Frederick WilliamAllison, Mrs. Hudson J C (Bessie Waldo Daniels)Svensson, Mr. OlofCalic, Mr. PetarCanavan, Miss. MaryO'Sullivan, Miss. Bridget MaryLaitinen, Miss. Kristina SofiaMaioni, Miss. RobertaPenasco y Castellana, Mr. Victor de SatodeQuick, Mrs. Frederick Charles (Jane Richards)Bradley, Mr. George (\"George Arthur Brayton\")Olsen, Mr. Henry MargidoLang, Mr. FangDaly, Mr. Eugene PatrickWebber, Mr. JamesMcGough, Mr. James RobertRothschild, Mrs. Martin (Elizabeth L. Barrett)Coleff, Mr. SatioWalker, Mr. William AndersonLemore, Mrs. (Amelia Milley)Ryan, Mr. PatrickAngle, Mrs. William A (Florence \"Mary\" Agnes Hughes)Pavlovic, Mr. StefoPerreault, Miss. AnneVovk, Mr. JankoLahoud, Mr. SarkisHippach, Mrs. Louis Albert (Ida Sophia Fischer)Kassem, Mr. FaredFarrell, Mr. JamesRidsdale, Miss. LucyFarthing, Mr. JohnSalonen, Mr. Johan WernerHocking, Mr. Richard GeorgeQuick, Miss. Phyllis MayToufik, Mr. NakliElias, Mr. Joseph JrPeter, Mrs. Catherine (Catherine Rizk)Cacic, Miss. MarijaHart, Miss. Eva MiriamButt, Major. Archibald WillinghamLeRoy, Miss. BerthaRisien, Mr. Samuel BeardFrolicher, Miss. Hedwig MargarithaCrosby, Miss. Harriet RAndersson, Miss. Ingeborg ConstanziaAndersson, Miss. Sigrid ElisabethBeane, Mr. EdwardDouglas, Mr. Walter DonaldNicholson, Mr. Arthur ErnestBeane, Mrs. Edward (Ethel Clarke)Padro y Manent, Mr. JulianGoldsmith, Mr. Frank JohnDavies, Master. John Morgan JrThayer, Mr. John Borland JrSharp, Mr. Percival James RO'Brien, Mr. TimothyLeeni, Mr. Fahim (\"Philip Zenni\")Ohman, Miss. VelinWright, Mr. GeorgeDuff Gordon, Lady. (Lucille Christiana Sutherland) (\"Mrs Morgan\")Robbins, Mr. VictorTaussig, Mrs. Emil (Tillie Mandelbaum)de Messemaeker, Mrs. Guillaume Joseph (Emma)Morrow, Mr. Thomas RowanSivic, Mr. HuseinNorman, Mr. Robert DouglasSimmons, Mr. JohnMeanwell, Miss. (Marion Ogden)Davies, Mr. Alfred JStoytcheff, Mr. IliaPalsson, Mrs. Nils (Alma Cornelia Berglund)Doharr, Mr. TannousJonsson, Mr. CarlHarris, Mr. GeorgeAppleton, Mrs. Edward Dale (Charlotte Lamson)Flynn, Mr. John Irwin (\"Irving\")Kelly, Miss. MaryRush, Mr. Alfred George JohnPatchett, Mr. GeorgeGarside, Miss. EthelSilvey, Mrs. William Baird (Alice Munger)Caram, Mrs. Joseph (Maria Elias)Jussila, Mr. EiriikChristy, Miss. Julie RachelThayer, Mrs. John Borland (Marian Longstreth Morris)Downton, Mr. William JamesRoss, Mr. John HugoPaulner, Mr. UscherTaussig, Miss. RuthJarvis, Mr. John DenzilFrolicher-Stehli, Mr. MaxmillianGilinski, Mr. EliezerMurdlin, Mr. JosephRintamaki, Mr. MattiStephenson, Mrs. Walter Bertram (Martha Eustis)Elsbury, Mr. William JamesBourke, Miss. MaryChapman, Mr. John HenryVan Impe, Mr. Jean BaptisteLeitch, Miss. Jessie WillsJohnson, Mr. AlfredBoulos, Mr. HannaDuff Gordon, Sir. Cosmo Edmund (\"Mr Morgan\")Jacobsohn, Mrs. Sidney Samuel (Amy Frances Christy)Slabenoff, Mr. PetcoHarrington, Mr. Charles HTorber, Mr. Ernst WilliamHomer, Mr. Harry (\"Mr E Haven\")Lindell, Mr. Edvard BengtssonKaraic, Mr. MilanDaniel, Mr. Robert WilliamsLaroche, Mrs. Joseph (Juliette Marie Louise Lafargue)Shutes, Miss. Elizabeth WAndersson, Mrs. Anders Johan (Alfrida Konstantia Brogren)Jardin, Mr. Jose NetoMurphy, Miss. Margaret JaneHorgan, Mr. JohnBrocklebank, Mr. William AlfredHerman, Miss. AliceDanbom, Mr. Ernst GilbertLobb, Mrs. William Arthur (Cordelia K Stanlick)Becker, Miss. Marion LouiseGavey, Mr. LawrenceYasbeck, Mr. AntoniKimball, Mr. Edwin Nelson JrNakid, Mr. SahidHansen, Mr. Henry DamsgaardBowen, Mr. David John \"Dai\"Sutton, Mr. FrederickKirkland, Rev. Charles LeonardLongley, Miss. Gretchen FiskeBostandyeff, Mr. GuentchoO'Connell, Mr. Patrick DBarkworth, Mr. Algernon Henry WilsonLundahl, Mr. Johan SvenssonStahelin-Maeglin, Dr. MaxParr, Mr. William Henry MarshSkoog, Miss. MabelDavis, Miss. MaryLeinonen, Mr. Antti GustafCollyer, Mr. HarveyPanula, Mrs. Juha (Maria Emilia Ojala)Thorneycroft, Mr. PercivalJensen, Mr. Hans PederSagesser, Mlle. EmmaSkoog, Miss. Margit ElizabethFoo, Mr. ChoongBaclini, Miss. EugenieHarper, Mr. Henry SleeperCor, Mr. LiudevitSimonius-Blumer, Col. Oberst AlfonsWilley, Mr. EdwardStanley, Miss. Amy Zillah ElsieMitkoff, Mr. MitoDoling, Miss. ElsieKalvik, Mr. Johannes HalvorsenO'Leary, Miss. Hanora \"Norah\"Hegarty, Miss. Hanora \"Nora\"Hickman, Mr. Leonard MarkRadeff, Mr. AlexanderBourke, Mrs. John (Catherine)Eitemiller, Mr. George FloydNewell, Mr. Arthur WebsterFrauenthal, Dr. Henry WilliamBadt, Mr. MohamedColley, Mr. Edward PomeroyColeff, Mr. PejuLindqvist, Mr. Eino WilliamHickman, Mr. LewisButler, Mr. Reginald FentonRommetvedt, Mr. Knud PaustCook, Mr. JacobTaylor, Mrs. Elmer Zebley (Juliet Cummins Wright)Brown, Mrs. Thomas William Solomon (Elizabeth Catherine Ford)Davidson, Mr. ThorntonMitchell, Mr. Henry MichaelWilhelms, Mr. CharlesWatson, Mr. Ennis HastingsEdvardsson, Mr. Gustaf HjalmarSawyer, Mr. Frederick CharlesTurja, Miss. Anna SofiaGoodwin, Mrs. Frederick (Augusta Tyler)Cardeza, Mr. Thomas Drake MartinezPeters, Miss. KatieHassab, Mr. HammadOlsvigen, Mr. Thor AndersonGoodwin, Mr. Charles EdwardBrown, Mr. Thomas William SolomonLaroche, Mr. Joseph Philippe LemercierPanula, Mr. Jaako ArnoldDakic, Mr. BrankoFischer, Mr. Eberhard ThelanderMadill, Miss. Georgette AlexandraDick, Mr. Albert AdrianKarun, Miss. MancaLam, Mr. AliSaad, Mr. KhalilWeir, Col. JohnChapman, Mr. Charles HenryKelly, Mr. JamesMullens, Miss. Katherine \"Katie\"Thayer, Mr. John BorlandHumblen, Mr. Adolf Mathias Nicolai OlsenAstor, Mrs. John Jacob (Madeleine Talmadge Force)Silverthorne, Mr. Spencer VictorBarbara, Miss. SaiideGallagher, Mr. MartinHansen, Mr. Henrik JuulMorley, Mr. Henry Samuel (\"Mr Henry Marshall\")Kelly, Mrs. Florence \"Fannie\"Calderhead, Mr. Edward PenningtonCleaver, Miss. AliceMoubarek, Master. Halim Gonios (\"William George\")Mayne, Mlle. Berthe Antonine (\"Mrs de Villiers\")Klaber, Mr. HermanTaylor, Mr. Elmer ZebleyLarsson, Mr. August ViktorGreenberg, Mr. SamuelSoholt, Mr. Peter Andreas Lauritz AndersenEndres, Miss. Caroline LouiseTroutt, Miss. Edwina Celia \"Winnie\"McEvoy, Mr. MichaelJohnson, Mr. Malkolm JoackimHarper, Miss. Annie Jessie \"Nina\"Jensen, Mr. Svend LauritzGillespie, Mr. William HenryHodges, Mr. Henry PriceChambers, Mr. Norman CampbellOreskovic, Mr. LukaRenouf, Mrs. Peter Henry (Lillian Jefferys)Mannion, Miss. MargarethBryhl, Mr. Kurt Arnold GottfridIlmakangas, Miss. Pieta SofiaAllen, Miss. Elisabeth WaltonHassan, Mr. Houssein G NKnight, Mr. Robert JBerriman, Mr. William JohnTroupiansky, Mr. Moses AaronWilliams, Mr. LeslieFord, Mrs. Edward (Margaret Ann Watson)Lesurer, Mr. Gustave JIvanoff, Mr. KanioNankoff, Mr. MinkoHawksford, Mr. Walter JamesCavendish, Mr. Tyrell WilliamRyerson, Miss. Susan Parker \"Suzette\"McNamee, Mr. NealStranden, Mr. JuhoCrosby, Capt. Edward GiffordAbbott, Mr. Rossmore EdwardSinkkonen, Miss. AnnaMarvin, Mr. Daniel WarnerConnaghton, Mr. MichaelWells, Miss. JoanMoor, Master. MeierVande Velde, Mr. Johannes JosephJonkoff, Mr. LalioHerman, Mrs. Samuel (Jane Laver)Hamalainen, Master. ViljoCarlsson, Mr. August SigfridBailey, Mr. Percy AndrewTheobald, Mr. Thomas LeonardRothes, the Countess. of (Lucy Noel Martha Dyer-Edwards)Garfirth, Mr. JohnNirva, Mr. Iisakki Antino AijoBarah, Mr. Hanna AssiCarter, Mrs. William Ernest (Lucile Polk)Eklund, Mr. Hans LinusHogeboom, Mrs. John C (Anna Andrews)Brewe, Dr. Arthur JacksonMangan, Miss. MaryMoran, Mr. Daniel JGronnestad, Mr. Daniel DanielsenLievens, Mr. Rene AimeJensen, Mr. Niels PederMack, Mrs. (Mary)Elias, Mr. DiboHocking, Mrs. Elizabeth (Eliza Needs)Myhrman, Mr. Pehr Fabian Oliver MalkolmTobin, Mr. RogerEmanuel, Miss. Virginia EthelKilgannon, Mr. Thomas JRobert, Mrs. Edward Scott (Elisabeth Walton McMillan)Ayoub, Miss. BanouraDick, Mrs. Albert Adrian (Vera Gillespie)Long, Mr. Milton ClydeJohnston, Mr. Andrew GAli, Mr. WilliamHarmer, Mr. Abraham (David Lishin)Sjoblom, Miss. Anna SofiaRice, Master. George HughDean, Master. Bertram VereGuggenheim, Mr. BenjaminKeane, Mr. Andrew \"Andy\"Gaskell, Mr. AlfredSage, Miss. Stella AnnaHoyt, Mr. William FisherDantcheff, Mr. RistiuOtter, Mr. RichardLeader, Dr. Alice (Farnham)Osman, Mrs. MaraIbrahim Shawah, Mr. YousseffVan Impe, Mrs. Jean Baptiste (Rosalie Paula Govaert)Ponesell, Mr. MartinCollyer, Mrs. Harvey (Charlotte Annie Tate)Carter, Master. William Thornton IIThomas, Master. Assad AlexanderHedman, Mr. Oskar ArvidJohansson, Mr. Karl JohanAndrews, Mr. Thomas JrPettersson, Miss. Ellen NataliaMeyer, Mr. AugustChambers, Mrs. Norman Campbell (Bertha Griggs)Alexander, Mr. WilliamLester, Mr. JamesSlemen, Mr. Richard JamesAndersson, Miss. Ebba Iris AlfridaTomlin, Mr. Ernest PortageFry, Mr. RichardHeininen, Miss. Wendla MariaMallet, Mr. AlbertHolm, Mr. John Fredrik AlexanderSkoog, Master. Karl ThorstenHays, Mrs. Charles Melville (Clara Jennings Gregg)Lulic, Mr. NikolaReuchlin, Jonkheer. John GeorgeMoor, Mrs. (Beila)Panula, Master. Urho AbrahamFlynn, Mr. JohnLam, Mr. LenMallet, Master. AndreMcCormack, Mr. Thomas JosephStone, Mrs. George Nelson (Martha Evelyn)Yasbeck, Mrs. Antoni (Selini Alexander)Richards, Master. George SibleySaad, Mr. AminAugustsson, Mr. AlbertAllum, Mr. Owen GeorgeCompton, Miss. Sara RebeccaPasic, Mr. JakobSirota, Mr. MauriceChip, Mr. ChangMarechal, Mr. PierreAlhomaki, Mr. Ilmari RudolfMudd, Mr. Thomas CharlesSerepeca, Miss. AugustaLemberopolous, Mr. Peter LCulumovic, Mr. JesoAbbing, Mr. AnthonySage, Mr. Douglas BullenMarkoff, Mr. MarinHarper, Rev. JohnGoldenberg, Mrs. Samuel L (Edwiga Grabowska)Andersson, Master. Sigvard Harald EliasSvensson, Mr. JohanBoulos, Miss. NourelainLines, Miss. Mary ConoverCarter, Mrs. Ernest Courtenay (Lilian Hughes)Aks, Mrs. Sam (Leah Rosen)Wick, Mrs. George Dennick (Mary Hitchcock)Daly, Mr. Peter Denis Baclini, Mrs. Solomon (Latifa Qurban)Razi, Mr. RaihedHansen, Mr. Claus PeterGiles, Mr. Frederick EdwardSwift, Mrs. Frederick Joel (Margaret Welles Barron)Sage, Miss. Dorothy Edith \"Dolly\"Gill, Mr. John WilliamBystrom, Mrs. (Karolina)Duran y More, Miss. AsuncionRoebling, Mr. Washington Augustus IIvan Melkebeke, Mr. PhilemonJohnson, Master. Harold TheodorBalkic, Mr. CerinBeckwith, Mrs. Richard Leonard (Sallie Monypeny)Carlsson, Mr. Frans OlofVander Cruyssen, Mr. VictorAbelson, Mrs. Samuel (Hannah Wizosky)Najib, Miss. Adele Kiamie \"Jane\"Gustafsson, Mr. Alfred OssianPetroff, Mr. NedelioLaleff, Mr. KristoPotter, Mrs. Thomas Jr (Lily Alexenia Wilson)Shelley, Mrs. William (Imanita Parrish Hall)Markun, Mr. JohannDahlberg, Miss. Gerda UlrikaBanfield, Mr. Frederick JamesSutehall, Mr. Henry JrRice, Mrs. William (Margaret Norton)Montvila, Rev. JuozasGraham, Miss. Margaret EdithJohnston, Miss. Catherine Helen \"Carrie\"Behr, Mr. Karl HowellDooley, Mr. Patrick to numeric",
     "output_type": "error",
     "traceback": [
      "\u001b[1;31m---------------------------------------------------------------------------\u001b[0m",
      "\u001b[1;31mValueError\u001b[0m                                Traceback (most recent call last)",
      "\u001b[1;32mc:\\python38\\lib\\site-packages\\pandas\\core\\nanops.py\u001b[0m in \u001b[0;36m_ensure_numeric\u001b[1;34m(x)\u001b[0m\n\u001b[0;32m   1601\u001b[0m         \u001b[1;32mtry\u001b[0m\u001b[1;33m:\u001b[0m\u001b[1;33m\u001b[0m\u001b[1;33m\u001b[0m\u001b[0m\n\u001b[1;32m-> 1602\u001b[1;33m             \u001b[0mx\u001b[0m \u001b[1;33m=\u001b[0m \u001b[0mfloat\u001b[0m\u001b[1;33m(\u001b[0m\u001b[0mx\u001b[0m\u001b[1;33m)\u001b[0m\u001b[1;33m\u001b[0m\u001b[1;33m\u001b[0m\u001b[0m\n\u001b[0m\u001b[0;32m   1603\u001b[0m         \u001b[1;32mexcept\u001b[0m \u001b[1;33m(\u001b[0m\u001b[0mTypeError\u001b[0m\u001b[1;33m,\u001b[0m \u001b[0mValueError\u001b[0m\u001b[1;33m)\u001b[0m\u001b[1;33m:\u001b[0m\u001b[1;33m\u001b[0m\u001b[1;33m\u001b[0m\u001b[0m\n",
      "\u001b[1;31mValueError\u001b[0m: could not convert string to float: 'Braund, Mr. Owen HarrisCumings, Mrs. John Bradley (Florence Briggs Thayer)Heikkinen, Miss. LainaFutrelle, Mrs. Jacques Heath (Lily May Peel)Allen, Mr. William HenryMoran, Mr. JamesMcCarthy, Mr. Timothy JPalsson, Master. Gosta LeonardJohnson, Mrs. Oscar W (Elisabeth Vilhelmina Berg)Nasser, Mrs. Nicholas (Adele Achem)Sandstrom, Miss. Marguerite RutBonnell, Miss. ElizabethSaundercock, Mr. William HenryAndersson, Mr. Anders JohanVestrom, Miss. Hulda Amanda AdolfinaHewlett, Mrs. (Mary D Kingcome) Rice, Master. EugeneWilliams, Mr. Charles EugeneVander Planke, Mrs. Julius (Emelia Maria Vandemoortele)Masselmani, Mrs. FatimaFynney, Mr. Joseph JBeesley, Mr. LawrenceMcGowan, Miss. Anna \"Annie\"Sloper, Mr. William ThompsonPalsson, Miss. Torborg DaniraAsplund, Mrs. Carl Oscar (Selma Augusta Emilia Johansson)Emir, Mr. Farred ChehabFortune, Mr. Charles AlexanderO\\'Dwyer, Miss. Ellen \"Nellie\"Todoroff, Mr. LalioUruchurtu, Don. Manuel ESpencer, Mrs. William Augustus (Marie Eugenie)Glynn, Miss. Mary AgathaWheadon, Mr. Edward HMeyer, Mr. Edgar JosephHolverson, Mr. Alexander OskarMamee, Mr. HannaCann, Mr. Ernest CharlesVander Planke, Miss. Augusta MariaNicola-Yarred, Miss. JamilaAhlin, Mrs. Johan (Johanna Persdotter Larsson)Turpin, Mrs. William John Robert (Dorothy Ann Wonnacott)Kraeff, Mr. TheodorLaroche, Miss. Simonne Marie Anne AndreeDevaney, Miss. Margaret DeliaRogers, Mr. William JohnLennon, Mr. DenisO\\'Driscoll, Miss. BridgetSamaan, Mr. YoussefArnold-Franchi, Mrs. Josef (Josefine Franchi)Panula, Master. Juha NiiloNosworthy, Mr. Richard CaterHarper, Mrs. Henry Sleeper (Myna Haxtun)Faunthorpe, Mrs. Lizzie (Elizabeth Anne Wilkinson)Ostby, Mr. Engelhart CorneliusWoolner, Mr. HughRugg, Miss. EmilyNovel, Mr. MansouerWest, Miss. Constance MiriumGoodwin, Master. William FrederickSirayanian, Mr. OrsenIcard, Miss. AmelieHarris, Mr. Henry BirkhardtSkoog, Master. HaraldStewart, Mr. Albert AMoubarek, Master. GeriosNye, Mrs. (Elizabeth Ramell)Crease, Mr. Ernest JamesAndersson, Miss. Erna AlexandraKink, Mr. VincenzJenkin, Mr. Stephen CurnowGoodwin, Miss. Lillian AmyHood, Mr. Ambrose JrChronopoulos, Mr. ApostolosBing, Mr. LeeMoen, Mr. Sigurd HansenStaneff, Mr. IvanMoutal, Mr. Rahamin HaimCaldwell, Master. Alden GatesDowdell, Miss. ElizabethWaelens, Mr. AchilleSheerlinck, Mr. Jan BaptistMcDermott, Miss. Brigdet DeliaCarrau, Mr. Francisco MIlett, Miss. BerthaBackstrom, Mrs. Karl Alfred (Maria Mathilda Gustafsson)Ford, Mr. William NealSlocovski, Mr. Selman FrancisFortune, Miss. Mabel HelenCelotti, Mr. FrancescoChristmann, Mr. EmilAndreasson, Mr. Paul EdvinChaffee, Mr. Herbert FullerDean, Mr. Bertram FrankCoxon, Mr. DanielShorney, Mr. Charles JosephGoldschmidt, Mr. George BGreenfield, Mr. William BertramDoling, Mrs. John T (Ada Julia Bone)Kantor, Mr. SinaiPetranec, Miss. MatildaPetroff, Mr. Pastcho (\"Pentcho\")White, Mr. Richard FrasarJohansson, Mr. Gustaf JoelGustafsson, Mr. Anders VilhelmMionoff, Mr. StoytchoSalkjelsvik, Miss. Anna KristineMoss, Mr. Albert JohanRekic, Mr. TidoMoran, Miss. BerthaPorter, Mr. Walter ChamberlainZabour, Miss. HileniBarton, Mr. David JohnJussila, Miss. KatriinaAttalah, Miss. MalakePekoniemi, Mr. EdvardConnors, Mr. PatrickTurpin, Mr. William John RobertBaxter, Mr. Quigg EdmondAndersson, Miss. Ellis Anna MariaHickman, Mr. Stanley GeorgeMoore, Mr. Leonard CharlesNasser, Mr. NicholasWebber, Miss. SusanWhite, Mr. Percival WaylandNicola-Yarred, Master. EliasMcMahon, Mr. MartinMadsen, Mr. Fridtjof ArnePeter, Miss. AnnaEkstrom, Mr. JohanDrazenoic, Mr. JozefCoelho, Mr. Domingos FernandeoRobins, Mrs. Alexander A (Grace Charity Laury)Weisz, Mrs. Leopold (Mathilde Francoise Pede)Sobey, Mr. Samuel James HaydenRichard, Mr. EmileNewsom, Miss. Helen MonypenyFutrelle, Mr. Jacques HeathOsen, Mr. Olaf ElonGiglio, Mr. VictorBoulos, Mrs. Joseph (Sultana)Nysten, Miss. Anna SofiaHakkarainen, Mrs. Pekka Pietari (Elin Matilda Dolck)Burke, Mr. JeremiahAndrew, Mr. Edgardo SamuelNicholls, Mr. Joseph CharlesAndersson, Mr. August Edvard (\"Wennerstrom\")Ford, Miss. Robina Maggie \"Ruby\"Navratil, Mr. Michel (\"Louis M Hoffman\")Byles, Rev. Thomas Roussel DavidsBateman, Rev. Robert JamesPears, Mrs. Thomas (Edith Wearne)Meo, Mr. Alfonzovan Billiard, Mr. Austin BlylerOlsen, Mr. Ole MartinWilliams, Mr. Charles DuaneGilnagh, Miss. Katherine \"Katie\"Corn, Mr. HarrySmiljanic, Mr. MileSage, Master. Thomas HenryCribb, Mr. John HatfieldWatt, Mrs. James (Elizabeth \"Bessie\" Inglis Milne)Bengtsson, Mr. John ViktorCalic, Mr. JovoPanula, Master. Eino ViljamiGoldsmith, Master. Frank John William \"Frankie\"Chibnall, Mrs. (Edith Martha Bowerman)Skoog, Mrs. William (Anna Bernhardina Karlsson)Baumann, Mr. John DLing, Mr. LeeVan der hoef, Mr. WyckoffRice, Master. ArthurJohnson, Miss. Eleanor IleenSivola, Mr. Antti WilhelmSmith, Mr. James ClinchKlasen, Mr. Klas AlbinLefebre, Master. Henry ForbesIsham, Miss. Ann ElizabethHale, Mr. ReginaldLeonard, Mr. LionelSage, Miss. Constance GladysPernot, Mr. ReneAsplund, Master. Clarence Gustaf HugoBecker, Master. Richard FKink-Heilmann, Miss. Luise GretchenRood, Mr. Hugh RoscoeO\\'Brien, Mrs. Thomas (Johanna \"Hannah\" Godfrey)Romaine, Mr. Charles Hallace (\"Mr C Rolmane\")Bourke, Mr. JohnTurcin, Mr. StjepanPinsky, Mrs. (Rosa)Carbines, Mr. WilliamAndersen-Jensen, Miss. Carla Christine NielsineNavratil, Master. Michel MBrown, Mrs. James Joseph (Margaret Tobin)Lurette, Miss. EliseMernagh, Mr. RobertOlsen, Mr. Karl Siegwart AndreasMadigan, Miss. Margaret \"Maggie\"Yrois, Miss. Henriette (\"Mrs Harbeck\")Vande Walle, Mr. Nestor CyrielSage, Mr. FrederickJohanson, Mr. Jakob AlfredYouseff, Mr. GeriousCohen, Mr. Gurshon \"Gus\"Strom, Miss. Telma MatildaBackstrom, Mr. Karl AlfredAlbimona, Mr. Nassef CassemCarr, Miss. Helen \"Ellen\"Blank, Mr. HenryAli, Mr. AhmedCameron, Miss. Clear AnniePerkin, Mr. John HenryGivard, Mr. Hans KristensenKiernan, Mr. PhilipNewell, Miss. MadeleineHonkanen, Miss. EliinaJacobsohn, Mr. Sidney SamuelBazzani, Miss. AlbinaHarris, Mr. WalterSunderland, Mr. Victor FrancisBracken, Mr. James HGreen, Mr. George HenryNenkoff, Mr. ChristoHoyt, Mr. Frederick MaxfieldBerglund, Mr. Karl Ivar SvenMellors, Mr. William JohnLovell, Mr. John Hall (\"Henry\")Fahlstrom, Mr. Arne JonasLefebre, Miss. MathildeHarris, Mrs. Henry Birkhardt (Irene Wallach)Larsson, Mr. Bengt EdvinSjostedt, Mr. Ernst AdolfAsplund, Miss. Lillian GertrudLeyson, Mr. Robert William NormanHarknett, Miss. Alice PhoebeHold, Mr. StephenCollyer, Miss. Marjorie \"Lottie\"Pengelly, Mr. Frederick WilliamHunt, Mr. George HenryZabour, Miss. ThamineMurphy, Miss. Katherine \"Kate\"Coleridge, Mr. Reginald CharlesMaenpaa, Mr. Matti AlexanteriAttalah, Mr. SleimanMinahan, Dr. William EdwardLindahl, Miss. Agda Thorilda ViktoriaHamalainen, Mrs. William (Anna)Beckwith, Mr. Richard LeonardCarter, Rev. Ernest CourtenayReed, Mr. James GeorgeStrom, Mrs. Wilhelm (Elna Matilda Persson)Stead, Mr. William ThomasLobb, Mr. William ArthurRosblom, Mrs. Viktor (Helena Wilhelmina)Touma, Mrs. Darwis (Hanne Youssef Razi)Thorne, Mrs. Gertrude MaybelleCherry, Miss. GladysWard, Miss. AnnaParrish, Mrs. (Lutie Davis)Smith, Mr. ThomasAsplund, Master. Edvin Rojj FelixTaussig, Mr. EmilHarrison, Mr. WilliamHenry, Miss. DeliaReeves, Mr. DavidPanula, Mr. Ernesti ArvidPersson, Mr. Ernst UlrikGraham, Mrs. William Thompson (Edith Junkins)Bissette, Miss. AmeliaCairns, Mr. AlexanderTornquist, Mr. William HenryMellinger, Mrs. (Elizabeth Anne Maidment)Natsch, Mr. Charles HHealy, Miss. Hanora \"Nora\"Andrews, Miss. Kornelia TheodosiaLindblom, Miss. Augusta CharlottaParkes, Mr. Francis \"Frank\"Rice, Master. EricAbbott, Mrs. Stanton (Rosa Hunt)Duane, Mr. FrankOlsson, Mr. Nils Johan Goranssonde Pelsmaeker, Mr. AlfonsDorking, Mr. Edward ArthurSmith, Mr. Richard WilliamStankovic, Mr. Ivande Mulder, Mr. TheodoreNaidenoff, Mr. PenkoHosono, Mr. MasabumiConnolly, Miss. KateBarber, Miss. Ellen \"Nellie\"Bishop, Mrs. Dickinson H (Helen Walton)Levy, Mr. Rene JacquesHaas, Miss. AloisiaMineff, Mr. IvanLewy, Mr. Ervin GHanna, Mr. MansourAllison, Miss. Helen LoraineSaalfeld, Mr. AdolpheBaxter, Mrs. James (Helene DeLaudeniere Chaput)Kelly, Miss. Anna Katherine \"Annie Kate\"McCoy, Mr. BernardJohnson, Mr. William Cahoone JrKeane, Miss. Nora AWilliams, Mr. Howard Hugh \"Harry\"Allison, Master. Hudson TrevorFleming, Miss. MargaretPenasco y Castellana, Mrs. Victor de Satode (Maria Josefa Perez de Soto y Vallejo)Abelson, Mr. SamuelFrancatelli, Miss. Laura MabelHays, Miss. Margaret BechsteinRyerson, Miss. Emily BorieLahtinen, Mrs. William (Anna Sylfven)Hendekovic, Mr. IgnjacHart, Mr. BenjaminNilsson, Miss. Helmina JosefinaKantor, Mrs. Sinai (Miriam Sternin)Moraweck, Dr. ErnestWick, Miss. Mary NatalieSpedden, Mrs. Frederic Oakley (Margaretta Corning Stone)Dennis, Mr. SamuelDanoff, Mr. YotoSlayter, Miss. Hilda MaryCaldwell, Mrs. Albert Francis (Sylvia Mae Harbaugh)Sage, Mr. George John JrYoung, Miss. Marie GriceNysveen, Mr. Johan HansenBall, Mrs. (Ada E Hall)Goldsmith, Mrs. Frank John (Emily Alice Brown)Hippach, Miss. Jean GertrudeMcCoy, Miss. AgnesPartner, Mr. AustenGraham, Mr. George EdwardVander Planke, Mr. Leo EdmondusFrauenthal, Mrs. Henry William (Clara Heinsheimer)Denkoff, Mr. MittoPears, Mr. Thomas ClintonBurns, Miss. Elizabeth MargaretDahl, Mr. Karl EdwartBlackwell, Mr. Stephen WeartNavratil, Master. Edmond RogerFortune, Miss. Alice ElizabethCollander, Mr. Erik GustafSedgwick, Mr. Charles Frederick WaddingtonFox, Mr. Stanley HubertBrown, Miss. Amelia \"Mildred\"Smith, Miss. Marion ElsieDavison, Mrs. Thomas Henry (Mary E Finck)Coutts, Master. William Loch \"William\"Dimic, Mr. JovanOdahl, Mr. Nils MartinWilliams-Lambert, Mr. Fletcher FellowsElias, Mr. TannousArnold-Franchi, Mr. JosefYousif, Mr. WazliVanden Steen, Mr. Leo PeterBowerman, Miss. Elsie EdithFunk, Miss. Annie ClemmerMcGovern, Miss. MaryMockler, Miss. Helen Mary \"Ellie\"Skoog, Mr. Wilhelmdel Carlo, Mr. SebastianoBarbara, Mrs. (Catherine David)Asim, Mr. AdolaO\\'Brien, Mr. ThomasAdahl, Mr. Mauritz Nils MartinWarren, Mrs. Frank Manley (Anna Sophia Atkinson)Moussa, Mrs. (Mantoura Boulos)Jermyn, Miss. AnnieAubart, Mme. Leontine PaulineHarder, Mr. George AchillesWiklund, Mr. Jakob AlfredBeavan, Mr. William ThomasRinghini, Mr. SantePalsson, Miss. Stina ViolaMeyer, Mrs. Edgar Joseph (Leila Saks)Landergren, Miss. Aurora AdeliaWidener, Mr. Harry ElkinsBetros, Mr. TannousGustafsson, Mr. Karl GideonBidois, Miss. RosalieNakid, Miss. Maria (\"Mary\")Tikkanen, Mr. JuhoHolverson, Mrs. Alexander Oskar (Mary Aline Towner)Plotcharsky, Mr. VasilDavies, Mr. Charles HenryGoodwin, Master. Sidney LeonardBuss, Miss. KateSadlier, Mr. MatthewLehmann, Miss. BerthaCarter, Mr. William ErnestJansson, Mr. Carl OlofGustafsson, Mr. Johan BirgerNewell, Miss. MarjorieSandstrom, Mrs. Hjalmar (Agnes Charlotta Bengtsson)Johansson, Mr. ErikOlsson, Miss. ElinaMcKane, Mr. Peter DavidPain, Dr. AlfredTrout, Mrs. William H (Jessie L)Niskanen, Mr. JuhaAdams, Mr. JohnJussila, Miss. Mari AinaHakkarainen, Mr. Pekka PietariOreskovic, Miss. MarijaGale, Mr. ShadrachWidegren, Mr. Carl/Charles PeterRichards, Master. William RoweBirkeland, Mr. Hans Martin MonsenLefebre, Miss. IdaSdycoff, Mr. TodorHart, Mr. HenryMinahan, Miss. Daisy ECunningham, Mr. Alfred FlemingSundman, Mr. Johan JulianMeek, Mrs. Thomas (Annie Louise Rowley)Drew, Mrs. James Vivian (Lulu Thorne Christian)Silven, Miss. Lyyli KaroliinaMatthews, Mr. William JohnVan Impe, Miss. CatharinaGheorgheff, Mr. StanioCharters, Mr. DavidZimmerman, Mr. LeoDanbom, Mrs. Ernst Gilbert (Anna Sigrid Maria Brogren)Rosblom, Mr. Viktor RichardWiseman, Mr. PhillippeClarke, Mrs. Charles V (Ada Maria Winfield)Phillips, Miss. Kate Florence (\"Mrs Kate Louise Phillips Marshall\")Flynn, Mr. JamesPickard, Mr. Berk (Berk Trembisky)Bjornstrom-Steffansson, Mr. Mauritz HakanThorneycroft, Mrs. Percival (Florence Kate White)Louch, Mrs. Charles Alexander (Alice Adelaide Slow)Kallio, Mr. Nikolai ErlandSilvey, Mr. William BairdCarter, Miss. Lucile PolkFord, Miss. Doolina Margaret \"Daisy\"Richards, Mrs. Sidney (Emily Hocking)Fortune, Mr. MarkKvillner, Mr. Johan Henrik JohannessonHart, Mrs. Benjamin (Esther Ada Bloomfield)Hampe, Mr. LeonPetterson, Mr. Johan EmilReynaldo, Ms. EncarnacionJohannesen-Bratthammer, Mr. BerntDodge, Master. WashingtonMellinger, Miss. Madeleine VioletSeward, Mr. Frederic KimberBaclini, Miss. Marie CatherinePeuchen, Major. Arthur GodfreyWest, Mr. Edwy ArthurHagland, Mr. Ingvald Olai OlsenForeman, Mr. Benjamin LaventallGoldenberg, Mr. Samuel LPeduzzi, Mr. JosephJalsevac, Mr. IvanMillet, Mr. Francis DavisKenyon, Mrs. Frederick R (Marion)Toomey, Miss. EllenO\\'Connor, Mr. MauriceAnderson, Mr. HarryMorley, Mr. WilliamGee, Mr. Arthur HMilling, Mr. Jacob ChristianMaisner, Mr. SimonGoncalves, Mr. Manuel EstanslasCampbell, Mr. WilliamSmart, Mr. John MontgomeryScanlan, Mr. JamesBaclini, Miss. Helene BarbaraKeefe, Mr. ArthurCacic, Mr. LukaWest, Mrs. Edwy Arthur (Ada Mary Worth)Jerwan, Mrs. Amin S (Marie Marthe Thuillard)Strandberg, Miss. Ida SofiaClifford, Mr. George QuincyRenouf, Mr. Peter HenryBraund, Mr. Lewis RichardKarlsson, Mr. Nils AugustHirvonen, Miss. Hildur EGoodwin, Master. Harold VictorFrost, Mr. Anthony Wood \"Archie\"Rouse, Mr. Richard HenryTurkula, Mrs. (Hedwig)Bishop, Mr. Dickinson HLefebre, Miss. JeannieHoyt, Mrs. Frederick Maxfield (Jane Anne Forby)Kent, Mr. Edward AustinSomerton, Mr. Francis WilliamCoutts, Master. Eden Leslie \"Neville\"Hagland, Mr. Konrad Mathias ReiersenWindelov, Mr. EinarMolson, Mr. Harry MarklandArtagaveytia, Mr. RamonStanley, Mr. Edward RolandYousseff, Mr. GeriousEustis, Miss. Elizabeth MusseyShellard, Mr. Frederick WilliamAllison, Mrs. Hudson J C (Bessie Waldo Daniels)Svensson, Mr. OlofCalic, Mr. PetarCanavan, Miss. MaryO\\'Sullivan, Miss. Bridget MaryLaitinen, Miss. Kristina SofiaMaioni, Miss. RobertaPenasco y Castellana, Mr. Victor de SatodeQuick, Mrs. Frederick Charles (Jane Richards)Bradley, Mr. George (\"George Arthur Brayton\")Olsen, Mr. Henry MargidoLang, Mr. FangDaly, Mr. Eugene PatrickWebber, Mr. JamesMcGough, Mr. James RobertRothschild, Mrs. Martin (Elizabeth L. Barrett)Coleff, Mr. SatioWalker, Mr. William AndersonLemore, Mrs. (Amelia Milley)Ryan, Mr. PatrickAngle, Mrs. William A (Florence \"Mary\" Agnes Hughes)Pavlovic, Mr. StefoPerreault, Miss. AnneVovk, Mr. JankoLahoud, Mr. SarkisHippach, Mrs. Louis Albert (Ida Sophia Fischer)Kassem, Mr. FaredFarrell, Mr. JamesRidsdale, Miss. LucyFarthing, Mr. JohnSalonen, Mr. Johan WernerHocking, Mr. Richard GeorgeQuick, Miss. Phyllis MayToufik, Mr. NakliElias, Mr. Joseph JrPeter, Mrs. Catherine (Catherine Rizk)Cacic, Miss. MarijaHart, Miss. Eva MiriamButt, Major. Archibald WillinghamLeRoy, Miss. BerthaRisien, Mr. Samuel BeardFrolicher, Miss. Hedwig MargarithaCrosby, Miss. Harriet RAndersson, Miss. Ingeborg ConstanziaAndersson, Miss. Sigrid ElisabethBeane, Mr. EdwardDouglas, Mr. Walter DonaldNicholson, Mr. Arthur ErnestBeane, Mrs. Edward (Ethel Clarke)Padro y Manent, Mr. JulianGoldsmith, Mr. Frank JohnDavies, Master. John Morgan JrThayer, Mr. John Borland JrSharp, Mr. Percival James RO\\'Brien, Mr. TimothyLeeni, Mr. Fahim (\"Philip Zenni\")Ohman, Miss. VelinWright, Mr. GeorgeDuff Gordon, Lady. (Lucille Christiana Sutherland) (\"Mrs Morgan\")Robbins, Mr. VictorTaussig, Mrs. Emil (Tillie Mandelbaum)de Messemaeker, Mrs. Guillaume Joseph (Emma)Morrow, Mr. Thomas RowanSivic, Mr. HuseinNorman, Mr. Robert DouglasSimmons, Mr. JohnMeanwell, Miss. (Marion Ogden)Davies, Mr. Alfred JStoytcheff, Mr. IliaPalsson, Mrs. Nils (Alma Cornelia Berglund)Doharr, Mr. TannousJonsson, Mr. CarlHarris, Mr. GeorgeAppleton, Mrs. Edward Dale (Charlotte Lamson)Flynn, Mr. John Irwin (\"Irving\")Kelly, Miss. MaryRush, Mr. Alfred George JohnPatchett, Mr. GeorgeGarside, Miss. EthelSilvey, Mrs. William Baird (Alice Munger)Caram, Mrs. Joseph (Maria Elias)Jussila, Mr. EiriikChristy, Miss. Julie RachelThayer, Mrs. John Borland (Marian Longstreth Morris)Downton, Mr. William JamesRoss, Mr. John HugoPaulner, Mr. UscherTaussig, Miss. RuthJarvis, Mr. John DenzilFrolicher-Stehli, Mr. MaxmillianGilinski, Mr. EliezerMurdlin, Mr. JosephRintamaki, Mr. MattiStephenson, Mrs. Walter Bertram (Martha Eustis)Elsbury, Mr. William JamesBourke, Miss. MaryChapman, Mr. John HenryVan Impe, Mr. Jean BaptisteLeitch, Miss. Jessie WillsJohnson, Mr. AlfredBoulos, Mr. HannaDuff Gordon, Sir. Cosmo Edmund (\"Mr Morgan\")Jacobsohn, Mrs. Sidney Samuel (Amy Frances Christy)Slabenoff, Mr. PetcoHarrington, Mr. Charles HTorber, Mr. Ernst WilliamHomer, Mr. Harry (\"Mr E Haven\")Lindell, Mr. Edvard BengtssonKaraic, Mr. MilanDaniel, Mr. Robert WilliamsLaroche, Mrs. Joseph (Juliette Marie Louise Lafargue)Shutes, Miss. Elizabeth WAndersson, Mrs. Anders Johan (Alfrida Konstantia Brogren)Jardin, Mr. Jose NetoMurphy, Miss. Margaret JaneHorgan, Mr. JohnBrocklebank, Mr. William AlfredHerman, Miss. AliceDanbom, Mr. Ernst GilbertLobb, Mrs. William Arthur (Cordelia K Stanlick)Becker, Miss. Marion LouiseGavey, Mr. LawrenceYasbeck, Mr. AntoniKimball, Mr. Edwin Nelson JrNakid, Mr. SahidHansen, Mr. Henry DamsgaardBowen, Mr. David John \"Dai\"Sutton, Mr. FrederickKirkland, Rev. Charles LeonardLongley, Miss. Gretchen FiskeBostandyeff, Mr. GuentchoO\\'Connell, Mr. Patrick DBarkworth, Mr. Algernon Henry WilsonLundahl, Mr. Johan SvenssonStahelin-Maeglin, Dr. MaxParr, Mr. William Henry MarshSkoog, Miss. MabelDavis, Miss. MaryLeinonen, Mr. Antti GustafCollyer, Mr. HarveyPanula, Mrs. Juha (Maria Emilia Ojala)Thorneycroft, Mr. PercivalJensen, Mr. Hans PederSagesser, Mlle. EmmaSkoog, Miss. Margit ElizabethFoo, Mr. ChoongBaclini, Miss. EugenieHarper, Mr. Henry SleeperCor, Mr. LiudevitSimonius-Blumer, Col. Oberst AlfonsWilley, Mr. EdwardStanley, Miss. Amy Zillah ElsieMitkoff, Mr. MitoDoling, Miss. ElsieKalvik, Mr. Johannes HalvorsenO\\'Leary, Miss. Hanora \"Norah\"Hegarty, Miss. Hanora \"Nora\"Hickman, Mr. Leonard MarkRadeff, Mr. AlexanderBourke, Mrs. John (Catherine)Eitemiller, Mr. George FloydNewell, Mr. Arthur WebsterFrauenthal, Dr. Henry WilliamBadt, Mr. MohamedColley, Mr. Edward PomeroyColeff, Mr. PejuLindqvist, Mr. Eino WilliamHickman, Mr. LewisButler, Mr. Reginald FentonRommetvedt, Mr. Knud PaustCook, Mr. JacobTaylor, Mrs. Elmer Zebley (Juliet Cummins Wright)Brown, Mrs. Thomas William Solomon (Elizabeth Catherine Ford)Davidson, Mr. ThorntonMitchell, Mr. Henry MichaelWilhelms, Mr. CharlesWatson, Mr. Ennis HastingsEdvardsson, Mr. Gustaf HjalmarSawyer, Mr. Frederick CharlesTurja, Miss. Anna SofiaGoodwin, Mrs. Frederick (Augusta Tyler)Cardeza, Mr. Thomas Drake MartinezPeters, Miss. KatieHassab, Mr. HammadOlsvigen, Mr. Thor AndersonGoodwin, Mr. Charles EdwardBrown, Mr. Thomas William SolomonLaroche, Mr. Joseph Philippe LemercierPanula, Mr. Jaako ArnoldDakic, Mr. BrankoFischer, Mr. Eberhard ThelanderMadill, Miss. Georgette AlexandraDick, Mr. Albert AdrianKarun, Miss. MancaLam, Mr. AliSaad, Mr. KhalilWeir, Col. JohnChapman, Mr. Charles HenryKelly, Mr. JamesMullens, Miss. Katherine \"Katie\"Thayer, Mr. John BorlandHumblen, Mr. Adolf Mathias Nicolai OlsenAstor, Mrs. John Jacob (Madeleine Talmadge Force)Silverthorne, Mr. Spencer VictorBarbara, Miss. SaiideGallagher, Mr. MartinHansen, Mr. Henrik JuulMorley, Mr. Henry Samuel (\"Mr Henry Marshall\")Kelly, Mrs. Florence \"Fannie\"Calderhead, Mr. Edward PenningtonCleaver, Miss. AliceMoubarek, Master. Halim Gonios (\"William George\")Mayne, Mlle. Berthe Antonine (\"Mrs de Villiers\")Klaber, Mr. HermanTaylor, Mr. Elmer ZebleyLarsson, Mr. August ViktorGreenberg, Mr. SamuelSoholt, Mr. Peter Andreas Lauritz AndersenEndres, Miss. Caroline LouiseTroutt, Miss. Edwina Celia \"Winnie\"McEvoy, Mr. MichaelJohnson, Mr. Malkolm JoackimHarper, Miss. Annie Jessie \"Nina\"Jensen, Mr. Svend LauritzGillespie, Mr. William HenryHodges, Mr. Henry PriceChambers, Mr. Norman CampbellOreskovic, Mr. LukaRenouf, Mrs. Peter Henry (Lillian Jefferys)Mannion, Miss. MargarethBryhl, Mr. Kurt Arnold GottfridIlmakangas, Miss. Pieta SofiaAllen, Miss. Elisabeth WaltonHassan, Mr. Houssein G NKnight, Mr. Robert JBerriman, Mr. William JohnTroupiansky, Mr. Moses AaronWilliams, Mr. LeslieFord, Mrs. Edward (Margaret Ann Watson)Lesurer, Mr. Gustave JIvanoff, Mr. KanioNankoff, Mr. MinkoHawksford, Mr. Walter JamesCavendish, Mr. Tyrell WilliamRyerson, Miss. Susan Parker \"Suzette\"McNamee, Mr. NealStranden, Mr. JuhoCrosby, Capt. Edward GiffordAbbott, Mr. Rossmore EdwardSinkkonen, Miss. AnnaMarvin, Mr. Daniel WarnerConnaghton, Mr. MichaelWells, Miss. JoanMoor, Master. MeierVande Velde, Mr. Johannes JosephJonkoff, Mr. LalioHerman, Mrs. Samuel (Jane Laver)Hamalainen, Master. ViljoCarlsson, Mr. August SigfridBailey, Mr. Percy AndrewTheobald, Mr. Thomas LeonardRothes, the Countess. of (Lucy Noel Martha Dyer-Edwards)Garfirth, Mr. JohnNirva, Mr. Iisakki Antino AijoBarah, Mr. Hanna AssiCarter, Mrs. William Ernest (Lucile Polk)Eklund, Mr. Hans LinusHogeboom, Mrs. John C (Anna Andrews)Brewe, Dr. Arthur JacksonMangan, Miss. MaryMoran, Mr. Daniel JGronnestad, Mr. Daniel DanielsenLievens, Mr. Rene AimeJensen, Mr. Niels PederMack, Mrs. (Mary)Elias, Mr. DiboHocking, Mrs. Elizabeth (Eliza Needs)Myhrman, Mr. Pehr Fabian Oliver MalkolmTobin, Mr. RogerEmanuel, Miss. Virginia EthelKilgannon, Mr. Thomas JRobert, Mrs. Edward Scott (Elisabeth Walton McMillan)Ayoub, Miss. BanouraDick, Mrs. Albert Adrian (Vera Gillespie)Long, Mr. Milton ClydeJohnston, Mr. Andrew GAli, Mr. WilliamHarmer, Mr. Abraham (David Lishin)Sjoblom, Miss. Anna SofiaRice, Master. George HughDean, Master. Bertram VereGuggenheim, Mr. BenjaminKeane, Mr. Andrew \"Andy\"Gaskell, Mr. AlfredSage, Miss. Stella AnnaHoyt, Mr. William FisherDantcheff, Mr. RistiuOtter, Mr. RichardLeader, Dr. Alice (Farnham)Osman, Mrs. MaraIbrahim Shawah, Mr. YousseffVan Impe, Mrs. Jean Baptiste (Rosalie Paula Govaert)Ponesell, Mr. MartinCollyer, Mrs. Harvey (Charlotte Annie Tate)Carter, Master. William Thornton IIThomas, Master. Assad AlexanderHedman, Mr. Oskar ArvidJohansson, Mr. Karl JohanAndrews, Mr. Thomas JrPettersson, Miss. Ellen NataliaMeyer, Mr. AugustChambers, Mrs. Norman Campbell (Bertha Griggs)Alexander, Mr. WilliamLester, Mr. JamesSlemen, Mr. Richard JamesAndersson, Miss. Ebba Iris AlfridaTomlin, Mr. Ernest PortageFry, Mr. RichardHeininen, Miss. Wendla MariaMallet, Mr. AlbertHolm, Mr. John Fredrik AlexanderSkoog, Master. Karl ThorstenHays, Mrs. Charles Melville (Clara Jennings Gregg)Lulic, Mr. NikolaReuchlin, Jonkheer. John GeorgeMoor, Mrs. (Beila)Panula, Master. Urho AbrahamFlynn, Mr. JohnLam, Mr. LenMallet, Master. AndreMcCormack, Mr. Thomas JosephStone, Mrs. George Nelson (Martha Evelyn)Yasbeck, Mrs. Antoni (Selini Alexander)Richards, Master. George SibleySaad, Mr. AminAugustsson, Mr. AlbertAllum, Mr. Owen GeorgeCompton, Miss. Sara RebeccaPasic, Mr. JakobSirota, Mr. MauriceChip, Mr. ChangMarechal, Mr. PierreAlhomaki, Mr. Ilmari RudolfMudd, Mr. Thomas CharlesSerepeca, Miss. AugustaLemberopolous, Mr. Peter LCulumovic, Mr. JesoAbbing, Mr. AnthonySage, Mr. Douglas BullenMarkoff, Mr. MarinHarper, Rev. JohnGoldenberg, Mrs. Samuel L (Edwiga Grabowska)Andersson, Master. Sigvard Harald EliasSvensson, Mr. JohanBoulos, Miss. NourelainLines, Miss. Mary ConoverCarter, Mrs. Ernest Courtenay (Lilian Hughes)Aks, Mrs. Sam (Leah Rosen)Wick, Mrs. George Dennick (Mary Hitchcock)Daly, Mr. Peter Denis Baclini, Mrs. Solomon (Latifa Qurban)Razi, Mr. RaihedHansen, Mr. Claus PeterGiles, Mr. Frederick EdwardSwift, Mrs. Frederick Joel (Margaret Welles Barron)Sage, Miss. Dorothy Edith \"Dolly\"Gill, Mr. John WilliamBystrom, Mrs. (Karolina)Duran y More, Miss. AsuncionRoebling, Mr. Washington Augustus IIvan Melkebeke, Mr. PhilemonJohnson, Master. Harold TheodorBalkic, Mr. CerinBeckwith, Mrs. Richard Leonard (Sallie Monypeny)Carlsson, Mr. Frans OlofVander Cruyssen, Mr. VictorAbelson, Mrs. Samuel (Hannah Wizosky)Najib, Miss. Adele Kiamie \"Jane\"Gustafsson, Mr. Alfred OssianPetroff, Mr. NedelioLaleff, Mr. KristoPotter, Mrs. Thomas Jr (Lily Alexenia Wilson)Shelley, Mrs. William (Imanita Parrish Hall)Markun, Mr. JohannDahlberg, Miss. Gerda UlrikaBanfield, Mr. Frederick JamesSutehall, Mr. Henry JrRice, Mrs. William (Margaret Norton)Montvila, Rev. JuozasGraham, Miss. Margaret EdithJohnston, Miss. Catherine Helen \"Carrie\"Behr, Mr. Karl HowellDooley, Mr. Patrick'",
      "\nDuring handling of the above exception, another exception occurred:\n",
      "\u001b[1;31mValueError\u001b[0m                                Traceback (most recent call last)",
      "\u001b[1;32mc:\\python38\\lib\\site-packages\\pandas\\core\\nanops.py\u001b[0m in \u001b[0;36m_ensure_numeric\u001b[1;34m(x)\u001b[0m\n\u001b[0;32m   1605\u001b[0m             \u001b[1;32mtry\u001b[0m\u001b[1;33m:\u001b[0m\u001b[1;33m\u001b[0m\u001b[1;33m\u001b[0m\u001b[0m\n\u001b[1;32m-> 1606\u001b[1;33m                 \u001b[0mx\u001b[0m \u001b[1;33m=\u001b[0m \u001b[0mcomplex\u001b[0m\u001b[1;33m(\u001b[0m\u001b[0mx\u001b[0m\u001b[1;33m)\u001b[0m\u001b[1;33m\u001b[0m\u001b[1;33m\u001b[0m\u001b[0m\n\u001b[0m\u001b[0;32m   1607\u001b[0m             \u001b[1;32mexcept\u001b[0m \u001b[0mValueError\u001b[0m \u001b[1;32mas\u001b[0m \u001b[0merr\u001b[0m\u001b[1;33m:\u001b[0m\u001b[1;33m\u001b[0m\u001b[1;33m\u001b[0m\u001b[0m\n",
      "\u001b[1;31mValueError\u001b[0m: complex() arg is a malformed string",
      "\nThe above exception was the direct cause of the following exception:\n",
      "\u001b[1;31mTypeError\u001b[0m                                 Traceback (most recent call last)",
      "\u001b[1;32m<ipython-input-32-3187907613c3>\u001b[0m in \u001b[0;36m<module>\u001b[1;34m\u001b[0m\n\u001b[0;32m      3\u001b[0m     \u001b[0msource_results\u001b[0m \u001b[1;33m=\u001b[0m \u001b[1;33m[\u001b[0m\u001b[1;33m]\u001b[0m\u001b[1;33m\u001b[0m\u001b[1;33m\u001b[0m\u001b[0m\n\u001b[0;32m      4\u001b[0m     \u001b[1;32mfor\u001b[0m \u001b[0mtarget_column\u001b[0m \u001b[1;32min\u001b[0m \u001b[0mdata\u001b[0m\u001b[1;33m.\u001b[0m\u001b[0mcolumns\u001b[0m\u001b[1;33m:\u001b[0m\u001b[1;33m\u001b[0m\u001b[1;33m\u001b[0m\u001b[0m\n\u001b[1;32m----> 5\u001b[1;33m         \u001b[0msource_results\u001b[0m\u001b[1;33m.\u001b[0m\u001b[0mappend\u001b[0m\u001b[1;33m(\u001b[0m\u001b[0mpearsonCorrelation\u001b[0m\u001b[1;33m(\u001b[0m\u001b[0mdata\u001b[0m\u001b[1;33m,\u001b[0m \u001b[0msource_column\u001b[0m\u001b[1;33m,\u001b[0m \u001b[0mtarget_column\u001b[0m\u001b[1;33m)\u001b[0m\u001b[1;33m)\u001b[0m\u001b[1;33m\u001b[0m\u001b[1;33m\u001b[0m\u001b[0m\n\u001b[0m\u001b[0;32m      6\u001b[0m     \u001b[0mresults\u001b[0m\u001b[1;33m.\u001b[0m\u001b[0mappend\u001b[0m\u001b[1;33m(\u001b[0m\u001b[0msource_results\u001b[0m\u001b[1;33m)\u001b[0m\u001b[1;33m\u001b[0m\u001b[1;33m\u001b[0m\u001b[0m\n\u001b[0;32m      7\u001b[0m     \u001b[0mcolumn_names\u001b[0m\u001b[1;33m.\u001b[0m\u001b[0mappend\u001b[0m\u001b[1;33m(\u001b[0m\u001b[0msource_column\u001b[0m\u001b[1;33m)\u001b[0m\u001b[1;33m\u001b[0m\u001b[1;33m\u001b[0m\u001b[0m\n",
      "\u001b[1;32m<ipython-input-30-99b2889ccbd4>\u001b[0m in \u001b[0;36mpearsonCorrelation\u001b[1;34m(data, source_column, target_column)\u001b[0m\n\u001b[0;32m      6\u001b[0m \u001b[1;33m\u001b[0m\u001b[0m\n\u001b[0;32m      7\u001b[0m     \u001b[0mx\u001b[0m \u001b[1;33m=\u001b[0m \u001b[0mx\u001b[0m \u001b[1;33m-\u001b[0m \u001b[0mnp\u001b[0m\u001b[1;33m.\u001b[0m\u001b[0mmean\u001b[0m\u001b[1;33m(\u001b[0m\u001b[0mx\u001b[0m\u001b[1;33m)\u001b[0m\u001b[1;33m\u001b[0m\u001b[1;33m\u001b[0m\u001b[0m\n\u001b[1;32m----> 8\u001b[1;33m     \u001b[0my\u001b[0m \u001b[1;33m=\u001b[0m \u001b[0my\u001b[0m \u001b[1;33m-\u001b[0m \u001b[0mnp\u001b[0m\u001b[1;33m.\u001b[0m\u001b[0mmean\u001b[0m\u001b[1;33m(\u001b[0m\u001b[0my\u001b[0m\u001b[1;33m)\u001b[0m\u001b[1;33m\u001b[0m\u001b[1;33m\u001b[0m\u001b[0m\n\u001b[0m\u001b[0;32m      9\u001b[0m     \u001b[0mcov\u001b[0m \u001b[1;33m=\u001b[0m \u001b[0mnp\u001b[0m\u001b[1;33m.\u001b[0m\u001b[0mdot\u001b[0m\u001b[1;33m(\u001b[0m\u001b[0mx\u001b[0m\u001b[1;33m,\u001b[0m\u001b[0my\u001b[0m\u001b[1;33m)\u001b[0m \u001b[1;33m/\u001b[0m \u001b[0mlen\u001b[0m\u001b[1;33m(\u001b[0m\u001b[0mx\u001b[0m\u001b[1;33m)\u001b[0m\u001b[1;33m\u001b[0m\u001b[1;33m\u001b[0m\u001b[0m\n\u001b[0;32m     10\u001b[0m     \u001b[0mresult\u001b[0m \u001b[1;33m=\u001b[0m \u001b[0mcov\u001b[0m \u001b[1;33m/\u001b[0m \u001b[1;33m(\u001b[0m\u001b[0mnp\u001b[0m\u001b[1;33m.\u001b[0m\u001b[0mstd\u001b[0m\u001b[1;33m(\u001b[0m\u001b[0mx\u001b[0m\u001b[1;33m)\u001b[0m\u001b[1;33m*\u001b[0m\u001b[0mnp\u001b[0m\u001b[1;33m.\u001b[0m\u001b[0mstd\u001b[0m\u001b[1;33m(\u001b[0m\u001b[0my\u001b[0m\u001b[1;33m)\u001b[0m\u001b[1;33m)\u001b[0m\u001b[1;33m\u001b[0m\u001b[1;33m\u001b[0m\u001b[0m\n",
      "\u001b[1;32m<__array_function__ internals>\u001b[0m in \u001b[0;36mmean\u001b[1;34m(*args, **kwargs)\u001b[0m\n",
      "\u001b[1;32mc:\\python38\\lib\\site-packages\\numpy\\core\\fromnumeric.py\u001b[0m in \u001b[0;36mmean\u001b[1;34m(a, axis, dtype, out, keepdims, where)\u001b[0m\n\u001b[0;32m   3415\u001b[0m             \u001b[1;32mpass\u001b[0m\u001b[1;33m\u001b[0m\u001b[1;33m\u001b[0m\u001b[0m\n\u001b[0;32m   3416\u001b[0m         \u001b[1;32melse\u001b[0m\u001b[1;33m:\u001b[0m\u001b[1;33m\u001b[0m\u001b[1;33m\u001b[0m\u001b[0m\n\u001b[1;32m-> 3417\u001b[1;33m             \u001b[1;32mreturn\u001b[0m \u001b[0mmean\u001b[0m\u001b[1;33m(\u001b[0m\u001b[0maxis\u001b[0m\u001b[1;33m=\u001b[0m\u001b[0maxis\u001b[0m\u001b[1;33m,\u001b[0m \u001b[0mdtype\u001b[0m\u001b[1;33m=\u001b[0m\u001b[0mdtype\u001b[0m\u001b[1;33m,\u001b[0m \u001b[0mout\u001b[0m\u001b[1;33m=\u001b[0m\u001b[0mout\u001b[0m\u001b[1;33m,\u001b[0m \u001b[1;33m**\u001b[0m\u001b[0mkwargs\u001b[0m\u001b[1;33m)\u001b[0m\u001b[1;33m\u001b[0m\u001b[1;33m\u001b[0m\u001b[0m\n\u001b[0m\u001b[0;32m   3418\u001b[0m \u001b[1;33m\u001b[0m\u001b[0m\n\u001b[0;32m   3419\u001b[0m     return _methods._mean(a, axis=axis, dtype=dtype,\n",
      "\u001b[1;32mc:\\python38\\lib\\site-packages\\pandas\\core\\generic.py\u001b[0m in \u001b[0;36mmean\u001b[1;34m(self, axis, skipna, level, numeric_only, **kwargs)\u001b[0m\n\u001b[0;32m  10749\u001b[0m         )\n\u001b[0;32m  10750\u001b[0m         \u001b[1;32mdef\u001b[0m \u001b[0mmean\u001b[0m\u001b[1;33m(\u001b[0m\u001b[0mself\u001b[0m\u001b[1;33m,\u001b[0m \u001b[0maxis\u001b[0m\u001b[1;33m=\u001b[0m\u001b[1;32mNone\u001b[0m\u001b[1;33m,\u001b[0m \u001b[0mskipna\u001b[0m\u001b[1;33m=\u001b[0m\u001b[1;32mNone\u001b[0m\u001b[1;33m,\u001b[0m \u001b[0mlevel\u001b[0m\u001b[1;33m=\u001b[0m\u001b[1;32mNone\u001b[0m\u001b[1;33m,\u001b[0m \u001b[0mnumeric_only\u001b[0m\u001b[1;33m=\u001b[0m\u001b[1;32mNone\u001b[0m\u001b[1;33m,\u001b[0m \u001b[1;33m**\u001b[0m\u001b[0mkwargs\u001b[0m\u001b[1;33m)\u001b[0m\u001b[1;33m:\u001b[0m\u001b[1;33m\u001b[0m\u001b[1;33m\u001b[0m\u001b[0m\n\u001b[1;32m> 10751\u001b[1;33m             \u001b[1;32mreturn\u001b[0m \u001b[0mNDFrame\u001b[0m\u001b[1;33m.\u001b[0m\u001b[0mmean\u001b[0m\u001b[1;33m(\u001b[0m\u001b[0mself\u001b[0m\u001b[1;33m,\u001b[0m \u001b[0maxis\u001b[0m\u001b[1;33m,\u001b[0m \u001b[0mskipna\u001b[0m\u001b[1;33m,\u001b[0m \u001b[0mlevel\u001b[0m\u001b[1;33m,\u001b[0m \u001b[0mnumeric_only\u001b[0m\u001b[1;33m,\u001b[0m \u001b[1;33m**\u001b[0m\u001b[0mkwargs\u001b[0m\u001b[1;33m)\u001b[0m\u001b[1;33m\u001b[0m\u001b[1;33m\u001b[0m\u001b[0m\n\u001b[0m\u001b[0;32m  10752\u001b[0m \u001b[1;33m\u001b[0m\u001b[0m\n\u001b[0;32m  10753\u001b[0m         \u001b[0msetattr\u001b[0m\u001b[1;33m(\u001b[0m\u001b[0mcls\u001b[0m\u001b[1;33m,\u001b[0m \u001b[1;34m\"mean\"\u001b[0m\u001b[1;33m,\u001b[0m \u001b[0mmean\u001b[0m\u001b[1;33m)\u001b[0m\u001b[1;33m\u001b[0m\u001b[1;33m\u001b[0m\u001b[0m\n",
      "\u001b[1;32mc:\\python38\\lib\\site-packages\\pandas\\core\\generic.py\u001b[0m in \u001b[0;36mmean\u001b[1;34m(self, axis, skipna, level, numeric_only, **kwargs)\u001b[0m\n\u001b[0;32m  10367\u001b[0m \u001b[1;33m\u001b[0m\u001b[0m\n\u001b[0;32m  10368\u001b[0m     \u001b[1;32mdef\u001b[0m \u001b[0mmean\u001b[0m\u001b[1;33m(\u001b[0m\u001b[0mself\u001b[0m\u001b[1;33m,\u001b[0m \u001b[0maxis\u001b[0m\u001b[1;33m=\u001b[0m\u001b[1;32mNone\u001b[0m\u001b[1;33m,\u001b[0m \u001b[0mskipna\u001b[0m\u001b[1;33m=\u001b[0m\u001b[1;32mNone\u001b[0m\u001b[1;33m,\u001b[0m \u001b[0mlevel\u001b[0m\u001b[1;33m=\u001b[0m\u001b[1;32mNone\u001b[0m\u001b[1;33m,\u001b[0m \u001b[0mnumeric_only\u001b[0m\u001b[1;33m=\u001b[0m\u001b[1;32mNone\u001b[0m\u001b[1;33m,\u001b[0m \u001b[1;33m**\u001b[0m\u001b[0mkwargs\u001b[0m\u001b[1;33m)\u001b[0m\u001b[1;33m:\u001b[0m\u001b[1;33m\u001b[0m\u001b[1;33m\u001b[0m\u001b[0m\n\u001b[1;32m> 10369\u001b[1;33m         return self._stat_function(\n\u001b[0m\u001b[0;32m  10370\u001b[0m             \u001b[1;34m\"mean\"\u001b[0m\u001b[1;33m,\u001b[0m \u001b[0mnanops\u001b[0m\u001b[1;33m.\u001b[0m\u001b[0mnanmean\u001b[0m\u001b[1;33m,\u001b[0m \u001b[0maxis\u001b[0m\u001b[1;33m,\u001b[0m \u001b[0mskipna\u001b[0m\u001b[1;33m,\u001b[0m \u001b[0mlevel\u001b[0m\u001b[1;33m,\u001b[0m \u001b[0mnumeric_only\u001b[0m\u001b[1;33m,\u001b[0m \u001b[1;33m**\u001b[0m\u001b[0mkwargs\u001b[0m\u001b[1;33m\u001b[0m\u001b[1;33m\u001b[0m\u001b[0m\n\u001b[0;32m  10371\u001b[0m         )\n",
      "\u001b[1;32mc:\\python38\\lib\\site-packages\\pandas\\core\\generic.py\u001b[0m in \u001b[0;36m_stat_function\u001b[1;34m(self, name, func, axis, skipna, level, numeric_only, **kwargs)\u001b[0m\n\u001b[0;32m  10352\u001b[0m                 \u001b[0mname\u001b[0m\u001b[1;33m,\u001b[0m \u001b[0maxis\u001b[0m\u001b[1;33m=\u001b[0m\u001b[0maxis\u001b[0m\u001b[1;33m,\u001b[0m \u001b[0mlevel\u001b[0m\u001b[1;33m=\u001b[0m\u001b[0mlevel\u001b[0m\u001b[1;33m,\u001b[0m \u001b[0mskipna\u001b[0m\u001b[1;33m=\u001b[0m\u001b[0mskipna\u001b[0m\u001b[1;33m,\u001b[0m \u001b[0mnumeric_only\u001b[0m\u001b[1;33m=\u001b[0m\u001b[0mnumeric_only\u001b[0m\u001b[1;33m\u001b[0m\u001b[1;33m\u001b[0m\u001b[0m\n\u001b[0;32m  10353\u001b[0m             )\n\u001b[1;32m> 10354\u001b[1;33m         return self._reduce(\n\u001b[0m\u001b[0;32m  10355\u001b[0m             \u001b[0mfunc\u001b[0m\u001b[1;33m,\u001b[0m \u001b[0mname\u001b[0m\u001b[1;33m=\u001b[0m\u001b[0mname\u001b[0m\u001b[1;33m,\u001b[0m \u001b[0maxis\u001b[0m\u001b[1;33m=\u001b[0m\u001b[0maxis\u001b[0m\u001b[1;33m,\u001b[0m \u001b[0mskipna\u001b[0m\u001b[1;33m=\u001b[0m\u001b[0mskipna\u001b[0m\u001b[1;33m,\u001b[0m \u001b[0mnumeric_only\u001b[0m\u001b[1;33m=\u001b[0m\u001b[0mnumeric_only\u001b[0m\u001b[1;33m\u001b[0m\u001b[1;33m\u001b[0m\u001b[0m\n\u001b[0;32m  10356\u001b[0m         )\n",
      "\u001b[1;32mc:\\python38\\lib\\site-packages\\pandas\\core\\series.py\u001b[0m in \u001b[0;36m_reduce\u001b[1;34m(self, op, name, axis, skipna, numeric_only, filter_type, **kwds)\u001b[0m\n\u001b[0;32m   4390\u001b[0m                 )\n\u001b[0;32m   4391\u001b[0m             \u001b[1;32mwith\u001b[0m \u001b[0mnp\u001b[0m\u001b[1;33m.\u001b[0m\u001b[0merrstate\u001b[0m\u001b[1;33m(\u001b[0m\u001b[0mall\u001b[0m\u001b[1;33m=\u001b[0m\u001b[1;34m\"ignore\"\u001b[0m\u001b[1;33m)\u001b[0m\u001b[1;33m:\u001b[0m\u001b[1;33m\u001b[0m\u001b[1;33m\u001b[0m\u001b[0m\n\u001b[1;32m-> 4392\u001b[1;33m                 \u001b[1;32mreturn\u001b[0m \u001b[0mop\u001b[0m\u001b[1;33m(\u001b[0m\u001b[0mdelegate\u001b[0m\u001b[1;33m,\u001b[0m \u001b[0mskipna\u001b[0m\u001b[1;33m=\u001b[0m\u001b[0mskipna\u001b[0m\u001b[1;33m,\u001b[0m \u001b[1;33m**\u001b[0m\u001b[0mkwds\u001b[0m\u001b[1;33m)\u001b[0m\u001b[1;33m\u001b[0m\u001b[1;33m\u001b[0m\u001b[0m\n\u001b[0m\u001b[0;32m   4393\u001b[0m \u001b[1;33m\u001b[0m\u001b[0m\n\u001b[0;32m   4394\u001b[0m     def _reindex_indexer(\n",
      "\u001b[1;32mc:\\python38\\lib\\site-packages\\pandas\\core\\nanops.py\u001b[0m in \u001b[0;36m_f\u001b[1;34m(*args, **kwargs)\u001b[0m\n\u001b[0;32m     91\u001b[0m             \u001b[1;32mtry\u001b[0m\u001b[1;33m:\u001b[0m\u001b[1;33m\u001b[0m\u001b[1;33m\u001b[0m\u001b[0m\n\u001b[0;32m     92\u001b[0m                 \u001b[1;32mwith\u001b[0m \u001b[0mnp\u001b[0m\u001b[1;33m.\u001b[0m\u001b[0merrstate\u001b[0m\u001b[1;33m(\u001b[0m\u001b[0minvalid\u001b[0m\u001b[1;33m=\u001b[0m\u001b[1;34m\"ignore\"\u001b[0m\u001b[1;33m)\u001b[0m\u001b[1;33m:\u001b[0m\u001b[1;33m\u001b[0m\u001b[1;33m\u001b[0m\u001b[0m\n\u001b[1;32m---> 93\u001b[1;33m                     \u001b[1;32mreturn\u001b[0m \u001b[0mf\u001b[0m\u001b[1;33m(\u001b[0m\u001b[1;33m*\u001b[0m\u001b[0margs\u001b[0m\u001b[1;33m,\u001b[0m \u001b[1;33m**\u001b[0m\u001b[0mkwargs\u001b[0m\u001b[1;33m)\u001b[0m\u001b[1;33m\u001b[0m\u001b[1;33m\u001b[0m\u001b[0m\n\u001b[0m\u001b[0;32m     94\u001b[0m             \u001b[1;32mexcept\u001b[0m \u001b[0mValueError\u001b[0m \u001b[1;32mas\u001b[0m \u001b[0me\u001b[0m\u001b[1;33m:\u001b[0m\u001b[1;33m\u001b[0m\u001b[1;33m\u001b[0m\u001b[0m\n\u001b[0;32m     95\u001b[0m                 \u001b[1;31m# we want to transform an object array\u001b[0m\u001b[1;33m\u001b[0m\u001b[1;33m\u001b[0m\u001b[1;33m\u001b[0m\u001b[0m\n",
      "\u001b[1;32mc:\\python38\\lib\\site-packages\\pandas\\core\\nanops.py\u001b[0m in \u001b[0;36mf\u001b[1;34m(values, axis, skipna, **kwds)\u001b[0m\n\u001b[0;32m    153\u001b[0m                     \u001b[0mresult\u001b[0m \u001b[1;33m=\u001b[0m \u001b[0malt\u001b[0m\u001b[1;33m(\u001b[0m\u001b[0mvalues\u001b[0m\u001b[1;33m,\u001b[0m \u001b[0maxis\u001b[0m\u001b[1;33m=\u001b[0m\u001b[0maxis\u001b[0m\u001b[1;33m,\u001b[0m \u001b[0mskipna\u001b[0m\u001b[1;33m=\u001b[0m\u001b[0mskipna\u001b[0m\u001b[1;33m,\u001b[0m \u001b[1;33m**\u001b[0m\u001b[0mkwds\u001b[0m\u001b[1;33m)\u001b[0m\u001b[1;33m\u001b[0m\u001b[1;33m\u001b[0m\u001b[0m\n\u001b[0;32m    154\u001b[0m             \u001b[1;32melse\u001b[0m\u001b[1;33m:\u001b[0m\u001b[1;33m\u001b[0m\u001b[1;33m\u001b[0m\u001b[0m\n\u001b[1;32m--> 155\u001b[1;33m                 \u001b[0mresult\u001b[0m \u001b[1;33m=\u001b[0m \u001b[0malt\u001b[0m\u001b[1;33m(\u001b[0m\u001b[0mvalues\u001b[0m\u001b[1;33m,\u001b[0m \u001b[0maxis\u001b[0m\u001b[1;33m=\u001b[0m\u001b[0maxis\u001b[0m\u001b[1;33m,\u001b[0m \u001b[0mskipna\u001b[0m\u001b[1;33m=\u001b[0m\u001b[0mskipna\u001b[0m\u001b[1;33m,\u001b[0m \u001b[1;33m**\u001b[0m\u001b[0mkwds\u001b[0m\u001b[1;33m)\u001b[0m\u001b[1;33m\u001b[0m\u001b[1;33m\u001b[0m\u001b[0m\n\u001b[0m\u001b[0;32m    156\u001b[0m \u001b[1;33m\u001b[0m\u001b[0m\n\u001b[0;32m    157\u001b[0m             \u001b[1;32mreturn\u001b[0m \u001b[0mresult\u001b[0m\u001b[1;33m\u001b[0m\u001b[1;33m\u001b[0m\u001b[0m\n",
      "\u001b[1;32mc:\\python38\\lib\\site-packages\\pandas\\core\\nanops.py\u001b[0m in \u001b[0;36mnew_func\u001b[1;34m(values, axis, skipna, mask, **kwargs)\u001b[0m\n\u001b[0;32m    408\u001b[0m             \u001b[0mmask\u001b[0m \u001b[1;33m=\u001b[0m \u001b[0misna\u001b[0m\u001b[1;33m(\u001b[0m\u001b[0mvalues\u001b[0m\u001b[1;33m)\u001b[0m\u001b[1;33m\u001b[0m\u001b[1;33m\u001b[0m\u001b[0m\n\u001b[0;32m    409\u001b[0m \u001b[1;33m\u001b[0m\u001b[0m\n\u001b[1;32m--> 410\u001b[1;33m         \u001b[0mresult\u001b[0m \u001b[1;33m=\u001b[0m \u001b[0mfunc\u001b[0m\u001b[1;33m(\u001b[0m\u001b[0mvalues\u001b[0m\u001b[1;33m,\u001b[0m \u001b[0maxis\u001b[0m\u001b[1;33m=\u001b[0m\u001b[0maxis\u001b[0m\u001b[1;33m,\u001b[0m \u001b[0mskipna\u001b[0m\u001b[1;33m=\u001b[0m\u001b[0mskipna\u001b[0m\u001b[1;33m,\u001b[0m \u001b[0mmask\u001b[0m\u001b[1;33m=\u001b[0m\u001b[0mmask\u001b[0m\u001b[1;33m,\u001b[0m \u001b[1;33m**\u001b[0m\u001b[0mkwargs\u001b[0m\u001b[1;33m)\u001b[0m\u001b[1;33m\u001b[0m\u001b[1;33m\u001b[0m\u001b[0m\n\u001b[0m\u001b[0;32m    411\u001b[0m \u001b[1;33m\u001b[0m\u001b[0m\n\u001b[0;32m    412\u001b[0m         \u001b[1;32mif\u001b[0m \u001b[0mdatetimelike\u001b[0m\u001b[1;33m:\u001b[0m\u001b[1;33m\u001b[0m\u001b[1;33m\u001b[0m\u001b[0m\n",
      "\u001b[1;32mc:\\python38\\lib\\site-packages\\pandas\\core\\nanops.py\u001b[0m in \u001b[0;36mnanmean\u001b[1;34m(values, axis, skipna, mask)\u001b[0m\n\u001b[0;32m    663\u001b[0m \u001b[1;33m\u001b[0m\u001b[0m\n\u001b[0;32m    664\u001b[0m     \u001b[0mcount\u001b[0m \u001b[1;33m=\u001b[0m \u001b[0m_get_counts\u001b[0m\u001b[1;33m(\u001b[0m\u001b[0mvalues\u001b[0m\u001b[1;33m.\u001b[0m\u001b[0mshape\u001b[0m\u001b[1;33m,\u001b[0m \u001b[0mmask\u001b[0m\u001b[1;33m,\u001b[0m \u001b[0maxis\u001b[0m\u001b[1;33m,\u001b[0m \u001b[0mdtype\u001b[0m\u001b[1;33m=\u001b[0m\u001b[0mdtype_count\u001b[0m\u001b[1;33m)\u001b[0m\u001b[1;33m\u001b[0m\u001b[1;33m\u001b[0m\u001b[0m\n\u001b[1;32m--> 665\u001b[1;33m     \u001b[0mthe_sum\u001b[0m \u001b[1;33m=\u001b[0m \u001b[0m_ensure_numeric\u001b[0m\u001b[1;33m(\u001b[0m\u001b[0mvalues\u001b[0m\u001b[1;33m.\u001b[0m\u001b[0msum\u001b[0m\u001b[1;33m(\u001b[0m\u001b[0maxis\u001b[0m\u001b[1;33m,\u001b[0m \u001b[0mdtype\u001b[0m\u001b[1;33m=\u001b[0m\u001b[0mdtype_sum\u001b[0m\u001b[1;33m)\u001b[0m\u001b[1;33m)\u001b[0m\u001b[1;33m\u001b[0m\u001b[1;33m\u001b[0m\u001b[0m\n\u001b[0m\u001b[0;32m    666\u001b[0m \u001b[1;33m\u001b[0m\u001b[0m\n\u001b[0;32m    667\u001b[0m     \u001b[1;32mif\u001b[0m \u001b[0maxis\u001b[0m \u001b[1;32mis\u001b[0m \u001b[1;32mnot\u001b[0m \u001b[1;32mNone\u001b[0m \u001b[1;32mand\u001b[0m \u001b[0mgetattr\u001b[0m\u001b[1;33m(\u001b[0m\u001b[0mthe_sum\u001b[0m\u001b[1;33m,\u001b[0m \u001b[1;34m\"ndim\"\u001b[0m\u001b[1;33m,\u001b[0m \u001b[1;32mFalse\u001b[0m\u001b[1;33m)\u001b[0m\u001b[1;33m:\u001b[0m\u001b[1;33m\u001b[0m\u001b[1;33m\u001b[0m\u001b[0m\n",
      "\u001b[1;32mc:\\python38\\lib\\site-packages\\pandas\\core\\nanops.py\u001b[0m in \u001b[0;36m_ensure_numeric\u001b[1;34m(x)\u001b[0m\n\u001b[0;32m   1607\u001b[0m             \u001b[1;32mexcept\u001b[0m \u001b[0mValueError\u001b[0m \u001b[1;32mas\u001b[0m \u001b[0merr\u001b[0m\u001b[1;33m:\u001b[0m\u001b[1;33m\u001b[0m\u001b[1;33m\u001b[0m\u001b[0m\n\u001b[0;32m   1608\u001b[0m                 \u001b[1;31m# e.g. \"foo\"\u001b[0m\u001b[1;33m\u001b[0m\u001b[1;33m\u001b[0m\u001b[1;33m\u001b[0m\u001b[0m\n\u001b[1;32m-> 1609\u001b[1;33m                 \u001b[1;32mraise\u001b[0m \u001b[0mTypeError\u001b[0m\u001b[1;33m(\u001b[0m\u001b[1;34mf\"Could not convert {x} to numeric\"\u001b[0m\u001b[1;33m)\u001b[0m \u001b[1;32mfrom\u001b[0m \u001b[0merr\u001b[0m\u001b[1;33m\u001b[0m\u001b[1;33m\u001b[0m\u001b[0m\n\u001b[0m\u001b[0;32m   1610\u001b[0m     \u001b[1;32mreturn\u001b[0m \u001b[0mx\u001b[0m\u001b[1;33m\u001b[0m\u001b[1;33m\u001b[0m\u001b[0m\n\u001b[0;32m   1611\u001b[0m \u001b[1;33m\u001b[0m\u001b[0m\n",
      "\u001b[1;31mTypeError\u001b[0m: Could not convert Braund, Mr. Owen HarrisCumings, Mrs. John Bradley (Florence Briggs Thayer)Heikkinen, Miss. LainaFutrelle, Mrs. Jacques Heath (Lily May Peel)Allen, Mr. William HenryMoran, Mr. JamesMcCarthy, Mr. Timothy JPalsson, Master. Gosta LeonardJohnson, Mrs. Oscar W (Elisabeth Vilhelmina Berg)Nasser, Mrs. Nicholas (Adele Achem)Sandstrom, Miss. Marguerite RutBonnell, Miss. ElizabethSaundercock, Mr. William HenryAndersson, Mr. Anders JohanVestrom, Miss. Hulda Amanda AdolfinaHewlett, Mrs. (Mary D Kingcome) Rice, Master. EugeneWilliams, Mr. Charles EugeneVander Planke, Mrs. Julius (Emelia Maria Vandemoortele)Masselmani, Mrs. FatimaFynney, Mr. Joseph JBeesley, Mr. LawrenceMcGowan, Miss. Anna \"Annie\"Sloper, Mr. William ThompsonPalsson, Miss. Torborg DaniraAsplund, Mrs. Carl Oscar (Selma Augusta Emilia Johansson)Emir, Mr. Farred ChehabFortune, Mr. Charles AlexanderO'Dwyer, Miss. Ellen \"Nellie\"Todoroff, Mr. LalioUruchurtu, Don. Manuel ESpencer, Mrs. William Augustus (Marie Eugenie)Glynn, Miss. Mary AgathaWheadon, Mr. Edward HMeyer, Mr. Edgar JosephHolverson, Mr. Alexander OskarMamee, Mr. HannaCann, Mr. Ernest CharlesVander Planke, Miss. Augusta MariaNicola-Yarred, Miss. JamilaAhlin, Mrs. Johan (Johanna Persdotter Larsson)Turpin, Mrs. William John Robert (Dorothy Ann Wonnacott)Kraeff, Mr. TheodorLaroche, Miss. Simonne Marie Anne AndreeDevaney, Miss. Margaret DeliaRogers, Mr. William JohnLennon, Mr. DenisO'Driscoll, Miss. BridgetSamaan, Mr. YoussefArnold-Franchi, Mrs. Josef (Josefine Franchi)Panula, Master. Juha NiiloNosworthy, Mr. Richard CaterHarper, Mrs. Henry Sleeper (Myna Haxtun)Faunthorpe, Mrs. Lizzie (Elizabeth Anne Wilkinson)Ostby, Mr. Engelhart CorneliusWoolner, Mr. HughRugg, Miss. EmilyNovel, Mr. MansouerWest, Miss. Constance MiriumGoodwin, Master. William FrederickSirayanian, Mr. OrsenIcard, Miss. AmelieHarris, Mr. Henry BirkhardtSkoog, Master. HaraldStewart, Mr. Albert AMoubarek, Master. GeriosNye, Mrs. (Elizabeth Ramell)Crease, Mr. Ernest JamesAndersson, Miss. Erna AlexandraKink, Mr. VincenzJenkin, Mr. Stephen CurnowGoodwin, Miss. Lillian AmyHood, Mr. Ambrose JrChronopoulos, Mr. ApostolosBing, Mr. LeeMoen, Mr. Sigurd HansenStaneff, Mr. IvanMoutal, Mr. Rahamin HaimCaldwell, Master. Alden GatesDowdell, Miss. ElizabethWaelens, Mr. AchilleSheerlinck, Mr. Jan BaptistMcDermott, Miss. Brigdet DeliaCarrau, Mr. Francisco MIlett, Miss. BerthaBackstrom, Mrs. Karl Alfred (Maria Mathilda Gustafsson)Ford, Mr. William NealSlocovski, Mr. Selman FrancisFortune, Miss. Mabel HelenCelotti, Mr. FrancescoChristmann, Mr. EmilAndreasson, Mr. Paul EdvinChaffee, Mr. Herbert FullerDean, Mr. Bertram FrankCoxon, Mr. DanielShorney, Mr. Charles JosephGoldschmidt, Mr. George BGreenfield, Mr. William BertramDoling, Mrs. John T (Ada Julia Bone)Kantor, Mr. SinaiPetranec, Miss. MatildaPetroff, Mr. Pastcho (\"Pentcho\")White, Mr. Richard FrasarJohansson, Mr. Gustaf JoelGustafsson, Mr. Anders VilhelmMionoff, Mr. StoytchoSalkjelsvik, Miss. Anna KristineMoss, Mr. Albert JohanRekic, Mr. TidoMoran, Miss. BerthaPorter, Mr. Walter ChamberlainZabour, Miss. HileniBarton, Mr. David JohnJussila, Miss. KatriinaAttalah, Miss. MalakePekoniemi, Mr. EdvardConnors, Mr. PatrickTurpin, Mr. William John RobertBaxter, Mr. Quigg EdmondAndersson, Miss. Ellis Anna MariaHickman, Mr. Stanley GeorgeMoore, Mr. Leonard CharlesNasser, Mr. NicholasWebber, Miss. SusanWhite, Mr. Percival WaylandNicola-Yarred, Master. EliasMcMahon, Mr. MartinMadsen, Mr. Fridtjof ArnePeter, Miss. AnnaEkstrom, Mr. JohanDrazenoic, Mr. JozefCoelho, Mr. Domingos FernandeoRobins, Mrs. Alexander A (Grace Charity Laury)Weisz, Mrs. Leopold (Mathilde Francoise Pede)Sobey, Mr. Samuel James HaydenRichard, Mr. EmileNewsom, Miss. Helen MonypenyFutrelle, Mr. Jacques HeathOsen, Mr. Olaf ElonGiglio, Mr. VictorBoulos, Mrs. Joseph (Sultana)Nysten, Miss. Anna SofiaHakkarainen, Mrs. Pekka Pietari (Elin Matilda Dolck)Burke, Mr. JeremiahAndrew, Mr. Edgardo SamuelNicholls, Mr. Joseph CharlesAndersson, Mr. August Edvard (\"Wennerstrom\")Ford, Miss. Robina Maggie \"Ruby\"Navratil, Mr. Michel (\"Louis M Hoffman\")Byles, Rev. Thomas Roussel DavidsBateman, Rev. Robert JamesPears, Mrs. Thomas (Edith Wearne)Meo, Mr. Alfonzovan Billiard, Mr. Austin BlylerOlsen, Mr. Ole MartinWilliams, Mr. Charles DuaneGilnagh, Miss. Katherine \"Katie\"Corn, Mr. HarrySmiljanic, Mr. MileSage, Master. Thomas HenryCribb, Mr. John HatfieldWatt, Mrs. James (Elizabeth \"Bessie\" Inglis Milne)Bengtsson, Mr. John ViktorCalic, Mr. JovoPanula, Master. Eino ViljamiGoldsmith, Master. Frank John William \"Frankie\"Chibnall, Mrs. (Edith Martha Bowerman)Skoog, Mrs. William (Anna Bernhardina Karlsson)Baumann, Mr. John DLing, Mr. LeeVan der hoef, Mr. WyckoffRice, Master. ArthurJohnson, Miss. Eleanor IleenSivola, Mr. Antti WilhelmSmith, Mr. James ClinchKlasen, Mr. Klas AlbinLefebre, Master. Henry ForbesIsham, Miss. Ann ElizabethHale, Mr. ReginaldLeonard, Mr. LionelSage, Miss. Constance GladysPernot, Mr. ReneAsplund, Master. Clarence Gustaf HugoBecker, Master. Richard FKink-Heilmann, Miss. Luise GretchenRood, Mr. Hugh RoscoeO'Brien, Mrs. Thomas (Johanna \"Hannah\" Godfrey)Romaine, Mr. Charles Hallace (\"Mr C Rolmane\")Bourke, Mr. JohnTurcin, Mr. StjepanPinsky, Mrs. (Rosa)Carbines, Mr. WilliamAndersen-Jensen, Miss. Carla Christine NielsineNavratil, Master. Michel MBrown, Mrs. James Joseph (Margaret Tobin)Lurette, Miss. EliseMernagh, Mr. RobertOlsen, Mr. Karl Siegwart AndreasMadigan, Miss. Margaret \"Maggie\"Yrois, Miss. Henriette (\"Mrs Harbeck\")Vande Walle, Mr. Nestor CyrielSage, Mr. FrederickJohanson, Mr. Jakob AlfredYouseff, Mr. GeriousCohen, Mr. Gurshon \"Gus\"Strom, Miss. Telma MatildaBackstrom, Mr. Karl AlfredAlbimona, Mr. Nassef CassemCarr, Miss. Helen \"Ellen\"Blank, Mr. HenryAli, Mr. AhmedCameron, Miss. Clear AnniePerkin, Mr. John HenryGivard, Mr. Hans KristensenKiernan, Mr. PhilipNewell, Miss. MadeleineHonkanen, Miss. EliinaJacobsohn, Mr. Sidney SamuelBazzani, Miss. AlbinaHarris, Mr. WalterSunderland, Mr. Victor FrancisBracken, Mr. James HGreen, Mr. George HenryNenkoff, Mr. ChristoHoyt, Mr. Frederick MaxfieldBerglund, Mr. Karl Ivar SvenMellors, Mr. William JohnLovell, Mr. John Hall (\"Henry\")Fahlstrom, Mr. Arne JonasLefebre, Miss. MathildeHarris, Mrs. Henry Birkhardt (Irene Wallach)Larsson, Mr. Bengt EdvinSjostedt, Mr. Ernst AdolfAsplund, Miss. Lillian GertrudLeyson, Mr. Robert William NormanHarknett, Miss. Alice PhoebeHold, Mr. StephenCollyer, Miss. Marjorie \"Lottie\"Pengelly, Mr. Frederick WilliamHunt, Mr. George HenryZabour, Miss. ThamineMurphy, Miss. Katherine \"Kate\"Coleridge, Mr. Reginald CharlesMaenpaa, Mr. Matti AlexanteriAttalah, Mr. SleimanMinahan, Dr. William EdwardLindahl, Miss. Agda Thorilda ViktoriaHamalainen, Mrs. William (Anna)Beckwith, Mr. Richard LeonardCarter, Rev. Ernest CourtenayReed, Mr. James GeorgeStrom, Mrs. Wilhelm (Elna Matilda Persson)Stead, Mr. William ThomasLobb, Mr. William ArthurRosblom, Mrs. Viktor (Helena Wilhelmina)Touma, Mrs. Darwis (Hanne Youssef Razi)Thorne, Mrs. Gertrude MaybelleCherry, Miss. GladysWard, Miss. AnnaParrish, Mrs. (Lutie Davis)Smith, Mr. ThomasAsplund, Master. Edvin Rojj FelixTaussig, Mr. EmilHarrison, Mr. WilliamHenry, Miss. DeliaReeves, Mr. DavidPanula, Mr. Ernesti ArvidPersson, Mr. Ernst UlrikGraham, Mrs. William Thompson (Edith Junkins)Bissette, Miss. AmeliaCairns, Mr. AlexanderTornquist, Mr. William HenryMellinger, Mrs. (Elizabeth Anne Maidment)Natsch, Mr. Charles HHealy, Miss. Hanora \"Nora\"Andrews, Miss. Kornelia TheodosiaLindblom, Miss. Augusta CharlottaParkes, Mr. Francis \"Frank\"Rice, Master. EricAbbott, Mrs. Stanton (Rosa Hunt)Duane, Mr. FrankOlsson, Mr. Nils Johan Goranssonde Pelsmaeker, Mr. AlfonsDorking, Mr. Edward ArthurSmith, Mr. Richard WilliamStankovic, Mr. Ivande Mulder, Mr. TheodoreNaidenoff, Mr. PenkoHosono, Mr. MasabumiConnolly, Miss. KateBarber, Miss. Ellen \"Nellie\"Bishop, Mrs. Dickinson H (Helen Walton)Levy, Mr. Rene JacquesHaas, Miss. AloisiaMineff, Mr. IvanLewy, Mr. Ervin GHanna, Mr. MansourAllison, Miss. Helen LoraineSaalfeld, Mr. AdolpheBaxter, Mrs. James (Helene DeLaudeniere Chaput)Kelly, Miss. Anna Katherine \"Annie Kate\"McCoy, Mr. BernardJohnson, Mr. William Cahoone JrKeane, Miss. Nora AWilliams, Mr. Howard Hugh \"Harry\"Allison, Master. Hudson TrevorFleming, Miss. MargaretPenasco y Castellana, Mrs. Victor de Satode (Maria Josefa Perez de Soto y Vallejo)Abelson, Mr. SamuelFrancatelli, Miss. Laura MabelHays, Miss. Margaret BechsteinRyerson, Miss. Emily BorieLahtinen, Mrs. William (Anna Sylfven)Hendekovic, Mr. IgnjacHart, Mr. BenjaminNilsson, Miss. Helmina JosefinaKantor, Mrs. Sinai (Miriam Sternin)Moraweck, Dr. ErnestWick, Miss. Mary NatalieSpedden, Mrs. Frederic Oakley (Margaretta Corning Stone)Dennis, Mr. SamuelDanoff, Mr. YotoSlayter, Miss. Hilda MaryCaldwell, Mrs. Albert Francis (Sylvia Mae Harbaugh)Sage, Mr. George John JrYoung, Miss. Marie GriceNysveen, Mr. Johan HansenBall, Mrs. (Ada E Hall)Goldsmith, Mrs. Frank John (Emily Alice Brown)Hippach, Miss. Jean GertrudeMcCoy, Miss. AgnesPartner, Mr. AustenGraham, Mr. George EdwardVander Planke, Mr. Leo EdmondusFrauenthal, Mrs. Henry William (Clara Heinsheimer)Denkoff, Mr. MittoPears, Mr. Thomas ClintonBurns, Miss. Elizabeth MargaretDahl, Mr. Karl EdwartBlackwell, Mr. Stephen WeartNavratil, Master. Edmond RogerFortune, Miss. Alice ElizabethCollander, Mr. Erik GustafSedgwick, Mr. Charles Frederick WaddingtonFox, Mr. Stanley HubertBrown, Miss. Amelia \"Mildred\"Smith, Miss. Marion ElsieDavison, Mrs. Thomas Henry (Mary E Finck)Coutts, Master. William Loch \"William\"Dimic, Mr. JovanOdahl, Mr. Nils MartinWilliams-Lambert, Mr. Fletcher FellowsElias, Mr. TannousArnold-Franchi, Mr. JosefYousif, Mr. WazliVanden Steen, Mr. Leo PeterBowerman, Miss. Elsie EdithFunk, Miss. Annie ClemmerMcGovern, Miss. MaryMockler, Miss. Helen Mary \"Ellie\"Skoog, Mr. Wilhelmdel Carlo, Mr. SebastianoBarbara, Mrs. (Catherine David)Asim, Mr. AdolaO'Brien, Mr. ThomasAdahl, Mr. Mauritz Nils MartinWarren, Mrs. Frank Manley (Anna Sophia Atkinson)Moussa, Mrs. (Mantoura Boulos)Jermyn, Miss. AnnieAubart, Mme. Leontine PaulineHarder, Mr. George AchillesWiklund, Mr. Jakob AlfredBeavan, Mr. William ThomasRinghini, Mr. SantePalsson, Miss. Stina ViolaMeyer, Mrs. Edgar Joseph (Leila Saks)Landergren, Miss. Aurora AdeliaWidener, Mr. Harry ElkinsBetros, Mr. TannousGustafsson, Mr. Karl GideonBidois, Miss. RosalieNakid, Miss. Maria (\"Mary\")Tikkanen, Mr. JuhoHolverson, Mrs. Alexander Oskar (Mary Aline Towner)Plotcharsky, Mr. VasilDavies, Mr. Charles HenryGoodwin, Master. Sidney LeonardBuss, Miss. KateSadlier, Mr. MatthewLehmann, Miss. BerthaCarter, Mr. William ErnestJansson, Mr. Carl OlofGustafsson, Mr. Johan BirgerNewell, Miss. MarjorieSandstrom, Mrs. Hjalmar (Agnes Charlotta Bengtsson)Johansson, Mr. ErikOlsson, Miss. ElinaMcKane, Mr. Peter DavidPain, Dr. AlfredTrout, Mrs. William H (Jessie L)Niskanen, Mr. JuhaAdams, Mr. JohnJussila, Miss. Mari AinaHakkarainen, Mr. Pekka PietariOreskovic, Miss. MarijaGale, Mr. ShadrachWidegren, Mr. Carl/Charles PeterRichards, Master. William RoweBirkeland, Mr. Hans Martin MonsenLefebre, Miss. IdaSdycoff, Mr. TodorHart, Mr. HenryMinahan, Miss. Daisy ECunningham, Mr. Alfred FlemingSundman, Mr. Johan JulianMeek, Mrs. Thomas (Annie Louise Rowley)Drew, Mrs. James Vivian (Lulu Thorne Christian)Silven, Miss. Lyyli KaroliinaMatthews, Mr. William JohnVan Impe, Miss. CatharinaGheorgheff, Mr. StanioCharters, Mr. DavidZimmerman, Mr. LeoDanbom, Mrs. Ernst Gilbert (Anna Sigrid Maria Brogren)Rosblom, Mr. Viktor RichardWiseman, Mr. PhillippeClarke, Mrs. Charles V (Ada Maria Winfield)Phillips, Miss. Kate Florence (\"Mrs Kate Louise Phillips Marshall\")Flynn, Mr. JamesPickard, Mr. Berk (Berk Trembisky)Bjornstrom-Steffansson, Mr. Mauritz HakanThorneycroft, Mrs. Percival (Florence Kate White)Louch, Mrs. Charles Alexander (Alice Adelaide Slow)Kallio, Mr. Nikolai ErlandSilvey, Mr. William BairdCarter, Miss. Lucile PolkFord, Miss. Doolina Margaret \"Daisy\"Richards, Mrs. Sidney (Emily Hocking)Fortune, Mr. MarkKvillner, Mr. Johan Henrik JohannessonHart, Mrs. Benjamin (Esther Ada Bloomfield)Hampe, Mr. LeonPetterson, Mr. Johan EmilReynaldo, Ms. EncarnacionJohannesen-Bratthammer, Mr. BerntDodge, Master. WashingtonMellinger, Miss. Madeleine VioletSeward, Mr. Frederic KimberBaclini, Miss. Marie CatherinePeuchen, Major. Arthur GodfreyWest, Mr. Edwy ArthurHagland, Mr. Ingvald Olai OlsenForeman, Mr. Benjamin LaventallGoldenberg, Mr. Samuel LPeduzzi, Mr. JosephJalsevac, Mr. IvanMillet, Mr. Francis DavisKenyon, Mrs. Frederick R (Marion)Toomey, Miss. EllenO'Connor, Mr. MauriceAnderson, Mr. HarryMorley, Mr. WilliamGee, Mr. Arthur HMilling, Mr. Jacob ChristianMaisner, Mr. SimonGoncalves, Mr. Manuel EstanslasCampbell, Mr. WilliamSmart, Mr. John MontgomeryScanlan, Mr. JamesBaclini, Miss. Helene BarbaraKeefe, Mr. ArthurCacic, Mr. LukaWest, Mrs. Edwy Arthur (Ada Mary Worth)Jerwan, Mrs. Amin S (Marie Marthe Thuillard)Strandberg, Miss. Ida SofiaClifford, Mr. George QuincyRenouf, Mr. Peter HenryBraund, Mr. Lewis RichardKarlsson, Mr. Nils AugustHirvonen, Miss. Hildur EGoodwin, Master. Harold VictorFrost, Mr. Anthony Wood \"Archie\"Rouse, Mr. Richard HenryTurkula, Mrs. (Hedwig)Bishop, Mr. Dickinson HLefebre, Miss. JeannieHoyt, Mrs. Frederick Maxfield (Jane Anne Forby)Kent, Mr. Edward AustinSomerton, Mr. Francis WilliamCoutts, Master. Eden Leslie \"Neville\"Hagland, Mr. Konrad Mathias ReiersenWindelov, Mr. EinarMolson, Mr. Harry MarklandArtagaveytia, Mr. RamonStanley, Mr. Edward RolandYousseff, Mr. GeriousEustis, Miss. Elizabeth MusseyShellard, Mr. Frederick WilliamAllison, Mrs. Hudson J C (Bessie Waldo Daniels)Svensson, Mr. OlofCalic, Mr. PetarCanavan, Miss. MaryO'Sullivan, Miss. Bridget MaryLaitinen, Miss. Kristina SofiaMaioni, Miss. RobertaPenasco y Castellana, Mr. Victor de SatodeQuick, Mrs. Frederick Charles (Jane Richards)Bradley, Mr. George (\"George Arthur Brayton\")Olsen, Mr. Henry MargidoLang, Mr. FangDaly, Mr. Eugene PatrickWebber, Mr. JamesMcGough, Mr. James RobertRothschild, Mrs. Martin (Elizabeth L. Barrett)Coleff, Mr. SatioWalker, Mr. William AndersonLemore, Mrs. (Amelia Milley)Ryan, Mr. PatrickAngle, Mrs. William A (Florence \"Mary\" Agnes Hughes)Pavlovic, Mr. StefoPerreault, Miss. AnneVovk, Mr. JankoLahoud, Mr. SarkisHippach, Mrs. Louis Albert (Ida Sophia Fischer)Kassem, Mr. FaredFarrell, Mr. JamesRidsdale, Miss. LucyFarthing, Mr. JohnSalonen, Mr. Johan WernerHocking, Mr. Richard GeorgeQuick, Miss. Phyllis MayToufik, Mr. NakliElias, Mr. Joseph JrPeter, Mrs. Catherine (Catherine Rizk)Cacic, Miss. MarijaHart, Miss. Eva MiriamButt, Major. Archibald WillinghamLeRoy, Miss. BerthaRisien, Mr. Samuel BeardFrolicher, Miss. Hedwig MargarithaCrosby, Miss. Harriet RAndersson, Miss. Ingeborg ConstanziaAndersson, Miss. Sigrid ElisabethBeane, Mr. EdwardDouglas, Mr. Walter DonaldNicholson, Mr. Arthur ErnestBeane, Mrs. Edward (Ethel Clarke)Padro y Manent, Mr. JulianGoldsmith, Mr. Frank JohnDavies, Master. John Morgan JrThayer, Mr. John Borland JrSharp, Mr. Percival James RO'Brien, Mr. TimothyLeeni, Mr. Fahim (\"Philip Zenni\")Ohman, Miss. VelinWright, Mr. GeorgeDuff Gordon, Lady. (Lucille Christiana Sutherland) (\"Mrs Morgan\")Robbins, Mr. VictorTaussig, Mrs. Emil (Tillie Mandelbaum)de Messemaeker, Mrs. Guillaume Joseph (Emma)Morrow, Mr. Thomas RowanSivic, Mr. HuseinNorman, Mr. Robert DouglasSimmons, Mr. JohnMeanwell, Miss. (Marion Ogden)Davies, Mr. Alfred JStoytcheff, Mr. IliaPalsson, Mrs. Nils (Alma Cornelia Berglund)Doharr, Mr. TannousJonsson, Mr. CarlHarris, Mr. GeorgeAppleton, Mrs. Edward Dale (Charlotte Lamson)Flynn, Mr. John Irwin (\"Irving\")Kelly, Miss. MaryRush, Mr. Alfred George JohnPatchett, Mr. GeorgeGarside, Miss. EthelSilvey, Mrs. William Baird (Alice Munger)Caram, Mrs. Joseph (Maria Elias)Jussila, Mr. EiriikChristy, Miss. Julie RachelThayer, Mrs. John Borland (Marian Longstreth Morris)Downton, Mr. William JamesRoss, Mr. John HugoPaulner, Mr. UscherTaussig, Miss. RuthJarvis, Mr. John DenzilFrolicher-Stehli, Mr. MaxmillianGilinski, Mr. EliezerMurdlin, Mr. JosephRintamaki, Mr. MattiStephenson, Mrs. Walter Bertram (Martha Eustis)Elsbury, Mr. William JamesBourke, Miss. MaryChapman, Mr. John HenryVan Impe, Mr. Jean BaptisteLeitch, Miss. Jessie WillsJohnson, Mr. AlfredBoulos, Mr. HannaDuff Gordon, Sir. Cosmo Edmund (\"Mr Morgan\")Jacobsohn, Mrs. Sidney Samuel (Amy Frances Christy)Slabenoff, Mr. PetcoHarrington, Mr. Charles HTorber, Mr. Ernst WilliamHomer, Mr. Harry (\"Mr E Haven\")Lindell, Mr. Edvard BengtssonKaraic, Mr. MilanDaniel, Mr. Robert WilliamsLaroche, Mrs. Joseph (Juliette Marie Louise Lafargue)Shutes, Miss. Elizabeth WAndersson, Mrs. Anders Johan (Alfrida Konstantia Brogren)Jardin, Mr. Jose NetoMurphy, Miss. Margaret JaneHorgan, Mr. JohnBrocklebank, Mr. William AlfredHerman, Miss. AliceDanbom, Mr. Ernst GilbertLobb, Mrs. William Arthur (Cordelia K Stanlick)Becker, Miss. Marion LouiseGavey, Mr. LawrenceYasbeck, Mr. AntoniKimball, Mr. Edwin Nelson JrNakid, Mr. SahidHansen, Mr. Henry DamsgaardBowen, Mr. David John \"Dai\"Sutton, Mr. FrederickKirkland, Rev. Charles LeonardLongley, Miss. Gretchen FiskeBostandyeff, Mr. GuentchoO'Connell, Mr. Patrick DBarkworth, Mr. Algernon Henry WilsonLundahl, Mr. Johan SvenssonStahelin-Maeglin, Dr. MaxParr, Mr. William Henry MarshSkoog, Miss. MabelDavis, Miss. MaryLeinonen, Mr. Antti GustafCollyer, Mr. HarveyPanula, Mrs. Juha (Maria Emilia Ojala)Thorneycroft, Mr. PercivalJensen, Mr. Hans PederSagesser, Mlle. EmmaSkoog, Miss. Margit ElizabethFoo, Mr. ChoongBaclini, Miss. EugenieHarper, Mr. Henry SleeperCor, Mr. LiudevitSimonius-Blumer, Col. Oberst AlfonsWilley, Mr. EdwardStanley, Miss. Amy Zillah ElsieMitkoff, Mr. MitoDoling, Miss. ElsieKalvik, Mr. Johannes HalvorsenO'Leary, Miss. Hanora \"Norah\"Hegarty, Miss. Hanora \"Nora\"Hickman, Mr. Leonard MarkRadeff, Mr. AlexanderBourke, Mrs. John (Catherine)Eitemiller, Mr. George FloydNewell, Mr. Arthur WebsterFrauenthal, Dr. Henry WilliamBadt, Mr. MohamedColley, Mr. Edward PomeroyColeff, Mr. PejuLindqvist, Mr. Eino WilliamHickman, Mr. LewisButler, Mr. Reginald FentonRommetvedt, Mr. Knud PaustCook, Mr. JacobTaylor, Mrs. Elmer Zebley (Juliet Cummins Wright)Brown, Mrs. Thomas William Solomon (Elizabeth Catherine Ford)Davidson, Mr. ThorntonMitchell, Mr. Henry MichaelWilhelms, Mr. CharlesWatson, Mr. Ennis HastingsEdvardsson, Mr. Gustaf HjalmarSawyer, Mr. Frederick CharlesTurja, Miss. Anna SofiaGoodwin, Mrs. Frederick (Augusta Tyler)Cardeza, Mr. Thomas Drake MartinezPeters, Miss. KatieHassab, Mr. HammadOlsvigen, Mr. Thor AndersonGoodwin, Mr. Charles EdwardBrown, Mr. Thomas William SolomonLaroche, Mr. Joseph Philippe LemercierPanula, Mr. Jaako ArnoldDakic, Mr. BrankoFischer, Mr. Eberhard ThelanderMadill, Miss. Georgette AlexandraDick, Mr. Albert AdrianKarun, Miss. MancaLam, Mr. AliSaad, Mr. KhalilWeir, Col. JohnChapman, Mr. Charles HenryKelly, Mr. JamesMullens, Miss. Katherine \"Katie\"Thayer, Mr. John BorlandHumblen, Mr. Adolf Mathias Nicolai OlsenAstor, Mrs. John Jacob (Madeleine Talmadge Force)Silverthorne, Mr. Spencer VictorBarbara, Miss. SaiideGallagher, Mr. MartinHansen, Mr. Henrik JuulMorley, Mr. Henry Samuel (\"Mr Henry Marshall\")Kelly, Mrs. Florence \"Fannie\"Calderhead, Mr. Edward PenningtonCleaver, Miss. AliceMoubarek, Master. Halim Gonios (\"William George\")Mayne, Mlle. Berthe Antonine (\"Mrs de Villiers\")Klaber, Mr. HermanTaylor, Mr. Elmer ZebleyLarsson, Mr. August ViktorGreenberg, Mr. SamuelSoholt, Mr. Peter Andreas Lauritz AndersenEndres, Miss. Caroline LouiseTroutt, Miss. Edwina Celia \"Winnie\"McEvoy, Mr. MichaelJohnson, Mr. Malkolm JoackimHarper, Miss. Annie Jessie \"Nina\"Jensen, Mr. Svend LauritzGillespie, Mr. William HenryHodges, Mr. Henry PriceChambers, Mr. Norman CampbellOreskovic, Mr. LukaRenouf, Mrs. Peter Henry (Lillian Jefferys)Mannion, Miss. MargarethBryhl, Mr. Kurt Arnold GottfridIlmakangas, Miss. Pieta SofiaAllen, Miss. Elisabeth WaltonHassan, Mr. Houssein G NKnight, Mr. Robert JBerriman, Mr. William JohnTroupiansky, Mr. Moses AaronWilliams, Mr. LeslieFord, Mrs. Edward (Margaret Ann Watson)Lesurer, Mr. Gustave JIvanoff, Mr. KanioNankoff, Mr. MinkoHawksford, Mr. Walter JamesCavendish, Mr. Tyrell WilliamRyerson, Miss. Susan Parker \"Suzette\"McNamee, Mr. NealStranden, Mr. JuhoCrosby, Capt. Edward GiffordAbbott, Mr. Rossmore EdwardSinkkonen, Miss. AnnaMarvin, Mr. Daniel WarnerConnaghton, Mr. MichaelWells, Miss. JoanMoor, Master. MeierVande Velde, Mr. Johannes JosephJonkoff, Mr. LalioHerman, Mrs. Samuel (Jane Laver)Hamalainen, Master. ViljoCarlsson, Mr. August SigfridBailey, Mr. Percy AndrewTheobald, Mr. Thomas LeonardRothes, the Countess. of (Lucy Noel Martha Dyer-Edwards)Garfirth, Mr. JohnNirva, Mr. Iisakki Antino AijoBarah, Mr. Hanna AssiCarter, Mrs. William Ernest (Lucile Polk)Eklund, Mr. Hans LinusHogeboom, Mrs. John C (Anna Andrews)Brewe, Dr. Arthur JacksonMangan, Miss. MaryMoran, Mr. Daniel JGronnestad, Mr. Daniel DanielsenLievens, Mr. Rene AimeJensen, Mr. Niels PederMack, Mrs. (Mary)Elias, Mr. DiboHocking, Mrs. Elizabeth (Eliza Needs)Myhrman, Mr. Pehr Fabian Oliver MalkolmTobin, Mr. RogerEmanuel, Miss. Virginia EthelKilgannon, Mr. Thomas JRobert, Mrs. Edward Scott (Elisabeth Walton McMillan)Ayoub, Miss. BanouraDick, Mrs. Albert Adrian (Vera Gillespie)Long, Mr. Milton ClydeJohnston, Mr. Andrew GAli, Mr. WilliamHarmer, Mr. Abraham (David Lishin)Sjoblom, Miss. Anna SofiaRice, Master. George HughDean, Master. Bertram VereGuggenheim, Mr. BenjaminKeane, Mr. Andrew \"Andy\"Gaskell, Mr. AlfredSage, Miss. Stella AnnaHoyt, Mr. William FisherDantcheff, Mr. RistiuOtter, Mr. RichardLeader, Dr. Alice (Farnham)Osman, Mrs. MaraIbrahim Shawah, Mr. YousseffVan Impe, Mrs. Jean Baptiste (Rosalie Paula Govaert)Ponesell, Mr. MartinCollyer, Mrs. Harvey (Charlotte Annie Tate)Carter, Master. William Thornton IIThomas, Master. Assad AlexanderHedman, Mr. Oskar ArvidJohansson, Mr. Karl JohanAndrews, Mr. Thomas JrPettersson, Miss. Ellen NataliaMeyer, Mr. AugustChambers, Mrs. Norman Campbell (Bertha Griggs)Alexander, Mr. WilliamLester, Mr. JamesSlemen, Mr. Richard JamesAndersson, Miss. Ebba Iris AlfridaTomlin, Mr. Ernest PortageFry, Mr. RichardHeininen, Miss. Wendla MariaMallet, Mr. AlbertHolm, Mr. John Fredrik AlexanderSkoog, Master. Karl ThorstenHays, Mrs. Charles Melville (Clara Jennings Gregg)Lulic, Mr. NikolaReuchlin, Jonkheer. John GeorgeMoor, Mrs. (Beila)Panula, Master. Urho AbrahamFlynn, Mr. JohnLam, Mr. LenMallet, Master. AndreMcCormack, Mr. Thomas JosephStone, Mrs. George Nelson (Martha Evelyn)Yasbeck, Mrs. Antoni (Selini Alexander)Richards, Master. George SibleySaad, Mr. AminAugustsson, Mr. AlbertAllum, Mr. Owen GeorgeCompton, Miss. Sara RebeccaPasic, Mr. JakobSirota, Mr. MauriceChip, Mr. ChangMarechal, Mr. PierreAlhomaki, Mr. Ilmari RudolfMudd, Mr. Thomas CharlesSerepeca, Miss. AugustaLemberopolous, Mr. Peter LCulumovic, Mr. JesoAbbing, Mr. AnthonySage, Mr. Douglas BullenMarkoff, Mr. MarinHarper, Rev. JohnGoldenberg, Mrs. Samuel L (Edwiga Grabowska)Andersson, Master. Sigvard Harald EliasSvensson, Mr. JohanBoulos, Miss. NourelainLines, Miss. Mary ConoverCarter, Mrs. Ernest Courtenay (Lilian Hughes)Aks, Mrs. Sam (Leah Rosen)Wick, Mrs. George Dennick (Mary Hitchcock)Daly, Mr. Peter Denis Baclini, Mrs. Solomon (Latifa Qurban)Razi, Mr. RaihedHansen, Mr. Claus PeterGiles, Mr. Frederick EdwardSwift, Mrs. Frederick Joel (Margaret Welles Barron)Sage, Miss. Dorothy Edith \"Dolly\"Gill, Mr. John WilliamBystrom, Mrs. (Karolina)Duran y More, Miss. AsuncionRoebling, Mr. Washington Augustus IIvan Melkebeke, Mr. PhilemonJohnson, Master. Harold TheodorBalkic, Mr. CerinBeckwith, Mrs. Richard Leonard (Sallie Monypeny)Carlsson, Mr. Frans OlofVander Cruyssen, Mr. VictorAbelson, Mrs. Samuel (Hannah Wizosky)Najib, Miss. Adele Kiamie \"Jane\"Gustafsson, Mr. Alfred OssianPetroff, Mr. NedelioLaleff, Mr. KristoPotter, Mrs. Thomas Jr (Lily Alexenia Wilson)Shelley, Mrs. William (Imanita Parrish Hall)Markun, Mr. JohannDahlberg, Miss. Gerda UlrikaBanfield, Mr. Frederick JamesSutehall, Mr. Henry JrRice, Mrs. William (Margaret Norton)Montvila, Rev. JuozasGraham, Miss. Margaret EdithJohnston, Miss. Catherine Helen \"Carrie\"Behr, Mr. Karl HowellDooley, Mr. Patrick to numeric"
     ]
    }
   ],
   "source": [
    "# DO NOT CHANGE\n",
    "for source_column in data.columns:\n",
    "    source_results = []\n",
    "    for target_column in data.columns:\n",
    "        source_results.append(pearsonCorrelation(data, source_column, target_column))\n",
    "    results.append(source_results)\n",
    "    column_names.append(source_column)"
   ]
  },
  {
   "cell_type": "markdown",
   "id": "indoor-soccer",
   "metadata": {},
   "source": [
    "# 실습2: Improved Correlation Heatmap\n",
    "\n",
    "\n",
    "위의 결과에서 pearson correlation 을 활용할 수 없는 column 이 있음을 확인하였다.\n",
    "```Name, Ticket, Cabin column``` 을 삭제하고 실험을 다시 진행한다."
   ]
  },
  {
   "cell_type": "code",
   "execution_count": 33,
   "id": "durable-prophet",
   "metadata": {},
   "outputs": [
    {
     "data": {
      "text/html": [
       "<div>\n",
       "<style scoped>\n",
       "    .dataframe tbody tr th:only-of-type {\n",
       "        vertical-align: middle;\n",
       "    }\n",
       "\n",
       "    .dataframe tbody tr th {\n",
       "        vertical-align: top;\n",
       "    }\n",
       "\n",
       "    .dataframe thead th {\n",
       "        text-align: right;\n",
       "    }\n",
       "</style>\n",
       "<table border=\"1\" class=\"dataframe\">\n",
       "  <thead>\n",
       "    <tr style=\"text-align: right;\">\n",
       "      <th></th>\n",
       "      <th>PassengerId</th>\n",
       "      <th>Survived</th>\n",
       "      <th>Pclass</th>\n",
       "      <th>Sex</th>\n",
       "      <th>Age</th>\n",
       "      <th>SibSp</th>\n",
       "      <th>Parch</th>\n",
       "      <th>Fare</th>\n",
       "      <th>Embarked</th>\n",
       "    </tr>\n",
       "  </thead>\n",
       "  <tbody>\n",
       "    <tr>\n",
       "      <th>0</th>\n",
       "      <td>1</td>\n",
       "      <td>0</td>\n",
       "      <td>3</td>\n",
       "      <td>male</td>\n",
       "      <td>22.0</td>\n",
       "      <td>1</td>\n",
       "      <td>0</td>\n",
       "      <td>7.2500</td>\n",
       "      <td>S</td>\n",
       "    </tr>\n",
       "    <tr>\n",
       "      <th>1</th>\n",
       "      <td>2</td>\n",
       "      <td>1</td>\n",
       "      <td>1</td>\n",
       "      <td>female</td>\n",
       "      <td>38.0</td>\n",
       "      <td>1</td>\n",
       "      <td>0</td>\n",
       "      <td>71.2833</td>\n",
       "      <td>C</td>\n",
       "    </tr>\n",
       "    <tr>\n",
       "      <th>2</th>\n",
       "      <td>3</td>\n",
       "      <td>1</td>\n",
       "      <td>3</td>\n",
       "      <td>female</td>\n",
       "      <td>26.0</td>\n",
       "      <td>0</td>\n",
       "      <td>0</td>\n",
       "      <td>7.9250</td>\n",
       "      <td>S</td>\n",
       "    </tr>\n",
       "    <tr>\n",
       "      <th>3</th>\n",
       "      <td>4</td>\n",
       "      <td>1</td>\n",
       "      <td>1</td>\n",
       "      <td>female</td>\n",
       "      <td>35.0</td>\n",
       "      <td>1</td>\n",
       "      <td>0</td>\n",
       "      <td>53.1000</td>\n",
       "      <td>S</td>\n",
       "    </tr>\n",
       "    <tr>\n",
       "      <th>4</th>\n",
       "      <td>5</td>\n",
       "      <td>0</td>\n",
       "      <td>3</td>\n",
       "      <td>male</td>\n",
       "      <td>35.0</td>\n",
       "      <td>0</td>\n",
       "      <td>0</td>\n",
       "      <td>8.0500</td>\n",
       "      <td>S</td>\n",
       "    </tr>\n",
       "    <tr>\n",
       "      <th>...</th>\n",
       "      <td>...</td>\n",
       "      <td>...</td>\n",
       "      <td>...</td>\n",
       "      <td>...</td>\n",
       "      <td>...</td>\n",
       "      <td>...</td>\n",
       "      <td>...</td>\n",
       "      <td>...</td>\n",
       "      <td>...</td>\n",
       "    </tr>\n",
       "    <tr>\n",
       "      <th>886</th>\n",
       "      <td>887</td>\n",
       "      <td>0</td>\n",
       "      <td>2</td>\n",
       "      <td>male</td>\n",
       "      <td>27.0</td>\n",
       "      <td>0</td>\n",
       "      <td>0</td>\n",
       "      <td>13.0000</td>\n",
       "      <td>S</td>\n",
       "    </tr>\n",
       "    <tr>\n",
       "      <th>887</th>\n",
       "      <td>888</td>\n",
       "      <td>1</td>\n",
       "      <td>1</td>\n",
       "      <td>female</td>\n",
       "      <td>19.0</td>\n",
       "      <td>0</td>\n",
       "      <td>0</td>\n",
       "      <td>30.0000</td>\n",
       "      <td>S</td>\n",
       "    </tr>\n",
       "    <tr>\n",
       "      <th>888</th>\n",
       "      <td>889</td>\n",
       "      <td>0</td>\n",
       "      <td>3</td>\n",
       "      <td>female</td>\n",
       "      <td>NaN</td>\n",
       "      <td>1</td>\n",
       "      <td>2</td>\n",
       "      <td>23.4500</td>\n",
       "      <td>S</td>\n",
       "    </tr>\n",
       "    <tr>\n",
       "      <th>889</th>\n",
       "      <td>890</td>\n",
       "      <td>1</td>\n",
       "      <td>1</td>\n",
       "      <td>male</td>\n",
       "      <td>26.0</td>\n",
       "      <td>0</td>\n",
       "      <td>0</td>\n",
       "      <td>30.0000</td>\n",
       "      <td>C</td>\n",
       "    </tr>\n",
       "    <tr>\n",
       "      <th>890</th>\n",
       "      <td>891</td>\n",
       "      <td>0</td>\n",
       "      <td>3</td>\n",
       "      <td>male</td>\n",
       "      <td>32.0</td>\n",
       "      <td>0</td>\n",
       "      <td>0</td>\n",
       "      <td>7.7500</td>\n",
       "      <td>Q</td>\n",
       "    </tr>\n",
       "  </tbody>\n",
       "</table>\n",
       "<p>891 rows × 9 columns</p>\n",
       "</div>"
      ],
      "text/plain": [
       "     PassengerId  Survived  Pclass     Sex   Age  SibSp  Parch     Fare  \\\n",
       "0              1         0       3    male  22.0      1      0   7.2500   \n",
       "1              2         1       1  female  38.0      1      0  71.2833   \n",
       "2              3         1       3  female  26.0      0      0   7.9250   \n",
       "3              4         1       1  female  35.0      1      0  53.1000   \n",
       "4              5         0       3    male  35.0      0      0   8.0500   \n",
       "..           ...       ...     ...     ...   ...    ...    ...      ...   \n",
       "886          887         0       2    male  27.0      0      0  13.0000   \n",
       "887          888         1       1  female  19.0      0      0  30.0000   \n",
       "888          889         0       3  female   NaN      1      2  23.4500   \n",
       "889          890         1       1    male  26.0      0      0  30.0000   \n",
       "890          891         0       3    male  32.0      0      0   7.7500   \n",
       "\n",
       "    Embarked  \n",
       "0          S  \n",
       "1          C  \n",
       "2          S  \n",
       "3          S  \n",
       "4          S  \n",
       "..       ...  \n",
       "886        S  \n",
       "887        S  \n",
       "888        S  \n",
       "889        C  \n",
       "890        Q  \n",
       "\n",
       "[891 rows x 9 columns]"
      ]
     },
     "execution_count": 33,
     "metadata": {},
     "output_type": "execute_result"
    }
   ],
   "source": [
    "# DO NOT CHANGE\n",
    "dropped_data = data.drop(columns=['Name', 'Ticket', 'Cabin'])\n",
    "dropped_data"
   ]
  },
  {
   "cell_type": "markdown",
   "id": "latin-involvement",
   "metadata": {},
   "source": [
    "## 설명\n",
    "```Pearson Correlation``` 을 이용하기 위해선 ```Nan```, ```String``` 데이터가 있으면 안된다. 적절한 조치를 취하여 해당 문제를 해결한다."
   ]
  },
  {
   "cell_type": "code",
   "execution_count": 34,
   "id": "placed-ratio",
   "metadata": {},
   "outputs": [
    {
     "data": {
      "text/plain": [
       "PassengerId      0\n",
       "Survived         0\n",
       "Pclass           0\n",
       "Sex              0\n",
       "Age            177\n",
       "SibSp            0\n",
       "Parch            0\n",
       "Fare             0\n",
       "Embarked         2\n",
       "dtype: int64"
      ]
     },
     "execution_count": 34,
     "metadata": {},
     "output_type": "execute_result"
    }
   ],
   "source": [
    "# DO NOT CHANGE\n",
    "dropped_data.isnull().sum()"
   ]
  },
  {
   "cell_type": "markdown",
   "id": "annual-rugby",
   "metadata": {},
   "source": [
    "### TODO 2\n",
    "\n",
    "표시되어야할 Column 은 다음과 같습니다.\n",
    "\n",
    "```['PassengerId', 'Survived', 'Pclass', 'Sex', 'Age', 'SibSp', 'Parch', 'Fare', 'Embarked']```"
   ]
  },
  {
   "cell_type": "code",
   "execution_count": 35,
   "id": "reasonable-ballot",
   "metadata": {},
   "outputs": [
    {
     "data": {
      "text/html": [
       "<div>\n",
       "<style scoped>\n",
       "    .dataframe tbody tr th:only-of-type {\n",
       "        vertical-align: middle;\n",
       "    }\n",
       "\n",
       "    .dataframe tbody tr th {\n",
       "        vertical-align: top;\n",
       "    }\n",
       "\n",
       "    .dataframe thead th {\n",
       "        text-align: right;\n",
       "    }\n",
       "</style>\n",
       "<table border=\"1\" class=\"dataframe\">\n",
       "  <thead>\n",
       "    <tr style=\"text-align: right;\">\n",
       "      <th></th>\n",
       "      <th>PassengerId</th>\n",
       "      <th>Survived</th>\n",
       "      <th>Pclass</th>\n",
       "      <th>Sex</th>\n",
       "      <th>Age</th>\n",
       "      <th>SibSp</th>\n",
       "      <th>Parch</th>\n",
       "      <th>Fare</th>\n",
       "      <th>Embarked</th>\n",
       "    </tr>\n",
       "  </thead>\n",
       "  <tbody>\n",
       "    <tr>\n",
       "      <th>0</th>\n",
       "      <td>1</td>\n",
       "      <td>0</td>\n",
       "      <td>3</td>\n",
       "      <td>1</td>\n",
       "      <td>22.000000</td>\n",
       "      <td>1</td>\n",
       "      <td>0</td>\n",
       "      <td>7.2500</td>\n",
       "      <td>3</td>\n",
       "    </tr>\n",
       "    <tr>\n",
       "      <th>1</th>\n",
       "      <td>2</td>\n",
       "      <td>1</td>\n",
       "      <td>1</td>\n",
       "      <td>0</td>\n",
       "      <td>38.000000</td>\n",
       "      <td>1</td>\n",
       "      <td>0</td>\n",
       "      <td>71.2833</td>\n",
       "      <td>1</td>\n",
       "    </tr>\n",
       "    <tr>\n",
       "      <th>2</th>\n",
       "      <td>3</td>\n",
       "      <td>1</td>\n",
       "      <td>3</td>\n",
       "      <td>0</td>\n",
       "      <td>26.000000</td>\n",
       "      <td>0</td>\n",
       "      <td>0</td>\n",
       "      <td>7.9250</td>\n",
       "      <td>3</td>\n",
       "    </tr>\n",
       "    <tr>\n",
       "      <th>3</th>\n",
       "      <td>4</td>\n",
       "      <td>1</td>\n",
       "      <td>1</td>\n",
       "      <td>0</td>\n",
       "      <td>35.000000</td>\n",
       "      <td>1</td>\n",
       "      <td>0</td>\n",
       "      <td>53.1000</td>\n",
       "      <td>3</td>\n",
       "    </tr>\n",
       "    <tr>\n",
       "      <th>4</th>\n",
       "      <td>5</td>\n",
       "      <td>0</td>\n",
       "      <td>3</td>\n",
       "      <td>1</td>\n",
       "      <td>35.000000</td>\n",
       "      <td>0</td>\n",
       "      <td>0</td>\n",
       "      <td>8.0500</td>\n",
       "      <td>3</td>\n",
       "    </tr>\n",
       "    <tr>\n",
       "      <th>...</th>\n",
       "      <td>...</td>\n",
       "      <td>...</td>\n",
       "      <td>...</td>\n",
       "      <td>...</td>\n",
       "      <td>...</td>\n",
       "      <td>...</td>\n",
       "      <td>...</td>\n",
       "      <td>...</td>\n",
       "      <td>...</td>\n",
       "    </tr>\n",
       "    <tr>\n",
       "      <th>886</th>\n",
       "      <td>887</td>\n",
       "      <td>0</td>\n",
       "      <td>2</td>\n",
       "      <td>1</td>\n",
       "      <td>27.000000</td>\n",
       "      <td>0</td>\n",
       "      <td>0</td>\n",
       "      <td>13.0000</td>\n",
       "      <td>3</td>\n",
       "    </tr>\n",
       "    <tr>\n",
       "      <th>887</th>\n",
       "      <td>888</td>\n",
       "      <td>1</td>\n",
       "      <td>1</td>\n",
       "      <td>0</td>\n",
       "      <td>19.000000</td>\n",
       "      <td>0</td>\n",
       "      <td>0</td>\n",
       "      <td>30.0000</td>\n",
       "      <td>3</td>\n",
       "    </tr>\n",
       "    <tr>\n",
       "      <th>888</th>\n",
       "      <td>889</td>\n",
       "      <td>0</td>\n",
       "      <td>3</td>\n",
       "      <td>0</td>\n",
       "      <td>29.699118</td>\n",
       "      <td>1</td>\n",
       "      <td>2</td>\n",
       "      <td>23.4500</td>\n",
       "      <td>3</td>\n",
       "    </tr>\n",
       "    <tr>\n",
       "      <th>889</th>\n",
       "      <td>890</td>\n",
       "      <td>1</td>\n",
       "      <td>1</td>\n",
       "      <td>1</td>\n",
       "      <td>26.000000</td>\n",
       "      <td>0</td>\n",
       "      <td>0</td>\n",
       "      <td>30.0000</td>\n",
       "      <td>1</td>\n",
       "    </tr>\n",
       "    <tr>\n",
       "      <th>890</th>\n",
       "      <td>891</td>\n",
       "      <td>0</td>\n",
       "      <td>3</td>\n",
       "      <td>1</td>\n",
       "      <td>32.000000</td>\n",
       "      <td>0</td>\n",
       "      <td>0</td>\n",
       "      <td>7.7500</td>\n",
       "      <td>2</td>\n",
       "    </tr>\n",
       "  </tbody>\n",
       "</table>\n",
       "<p>891 rows × 9 columns</p>\n",
       "</div>"
      ],
      "text/plain": [
       "     PassengerId  Survived  Pclass Sex        Age  SibSp  Parch     Fare  \\\n",
       "0              1         0       3   1  22.000000      1      0   7.2500   \n",
       "1              2         1       1   0  38.000000      1      0  71.2833   \n",
       "2              3         1       3   0  26.000000      0      0   7.9250   \n",
       "3              4         1       1   0  35.000000      1      0  53.1000   \n",
       "4              5         0       3   1  35.000000      0      0   8.0500   \n",
       "..           ...       ...     ...  ..        ...    ...    ...      ...   \n",
       "886          887         0       2   1  27.000000      0      0  13.0000   \n",
       "887          888         1       1   0  19.000000      0      0  30.0000   \n",
       "888          889         0       3   0  29.699118      1      2  23.4500   \n",
       "889          890         1       1   1  26.000000      0      0  30.0000   \n",
       "890          891         0       3   1  32.000000      0      0   7.7500   \n",
       "\n",
       "    Embarked  \n",
       "0          3  \n",
       "1          1  \n",
       "2          3  \n",
       "3          3  \n",
       "4          3  \n",
       "..       ...  \n",
       "886        3  \n",
       "887        3  \n",
       "888        3  \n",
       "889        1  \n",
       "890        2  \n",
       "\n",
       "[891 rows x 9 columns]"
      ]
     },
     "execution_count": 35,
     "metadata": {},
     "output_type": "execute_result"
    }
   ],
   "source": [
    "# TODO\n",
    "# 아래에 데이터 수정을 통해 pearson correlation 함수가 정상적으로 작동하게 하라.\n",
    "\n",
    "# Sex\n",
    "dropped_data.loc[dropped_data.Sex == 'male', 'Sex'] = 1\n",
    "dropped_data.loc[dropped_data.Sex == 'female', 'Sex'] = 0\n",
    "#Age\n",
    "m = np.mean(dropped_data['Age'])\n",
    "dropped_data.loc[dropped_data.Age.isnull(), 'Age'] = m\n",
    "#Embarked\n",
    "dropped_data.loc[dropped_data.Embarked.isnull(), 'Embarked'] = 'S'\n",
    "dropped_data.loc[dropped_data.Embarked == 'C', 'Embarked'] = 1\n",
    "dropped_data.loc[dropped_data.Embarked == 'Q', 'Embarked'] = 2\n",
    "dropped_data.loc[dropped_data.Embarked == 'S', 'Embarked'] = 3\n",
    "\n",
    "# Do NOT CHANGE\n",
    "dropped_data"
   ]
  },
  {
   "cell_type": "code",
   "execution_count": 36,
   "id": "demonstrated-trading",
   "metadata": {},
   "outputs": [],
   "source": [
    "# DO NOT CHANGE\n",
    "results = []\n",
    "column_names = []\n",
    "\n",
    "for source_column in dropped_data.columns:\n",
    "    source_results = []\n",
    "    for target_column in dropped_data.columns:\n",
    "        source_results.append(pearsonCorrelation(dropped_data, source_column, target_column))\n",
    "    results.append(source_results)\n",
    "    column_names.append(source_column)"
   ]
  },
  {
   "cell_type": "markdown",
   "id": "czech-collins",
   "metadata": {},
   "source": [
    "## ```results``` 를 ```pd.DataFrame``` 으로 바꾸고 Heatmap 으로 바꾸시오."
   ]
  },
  {
   "cell_type": "markdown",
   "id": "productive-official",
   "metadata": {},
   "source": [
    "### TODO 3\n",
    "\n",
    "Pearson Correlation Coefficient 를 Visualizing 하시오."
   ]
  },
  {
   "cell_type": "code",
   "execution_count": 37,
   "id": "humanitarian-upgrade",
   "metadata": {},
   "outputs": [
    {
     "data": {
      "text/html": [
       "<div>\n",
       "<style scoped>\n",
       "    .dataframe tbody tr th:only-of-type {\n",
       "        vertical-align: middle;\n",
       "    }\n",
       "\n",
       "    .dataframe tbody tr th {\n",
       "        vertical-align: top;\n",
       "    }\n",
       "\n",
       "    .dataframe thead th {\n",
       "        text-align: right;\n",
       "    }\n",
       "</style>\n",
       "<table border=\"1\" class=\"dataframe\">\n",
       "  <thead>\n",
       "    <tr style=\"text-align: right;\">\n",
       "      <th></th>\n",
       "      <th>PassengerId</th>\n",
       "      <th>Survived</th>\n",
       "      <th>Pclass</th>\n",
       "      <th>Sex</th>\n",
       "      <th>Age</th>\n",
       "      <th>SibSp</th>\n",
       "      <th>Parch</th>\n",
       "      <th>Fare</th>\n",
       "      <th>Embarked</th>\n",
       "    </tr>\n",
       "  </thead>\n",
       "  <tbody>\n",
       "    <tr>\n",
       "      <th>PassengerId</th>\n",
       "      <td>1.000000</td>\n",
       "      <td>-0.005007</td>\n",
       "      <td>-0.035144</td>\n",
       "      <td>0.042939</td>\n",
       "      <td>0.033207</td>\n",
       "      <td>-0.057527</td>\n",
       "      <td>-0.001652</td>\n",
       "      <td>0.012658</td>\n",
       "      <td>0.013128</td>\n",
       "    </tr>\n",
       "    <tr>\n",
       "      <th>Survived</th>\n",
       "      <td>-0.005007</td>\n",
       "      <td>1.000000</td>\n",
       "      <td>-0.338481</td>\n",
       "      <td>-0.543351</td>\n",
       "      <td>-0.069809</td>\n",
       "      <td>-0.035322</td>\n",
       "      <td>0.081629</td>\n",
       "      <td>0.257307</td>\n",
       "      <td>-0.167675</td>\n",
       "    </tr>\n",
       "    <tr>\n",
       "      <th>Pclass</th>\n",
       "      <td>-0.035144</td>\n",
       "      <td>-0.338481</td>\n",
       "      <td>1.000000</td>\n",
       "      <td>0.131900</td>\n",
       "      <td>-0.331339</td>\n",
       "      <td>0.083081</td>\n",
       "      <td>0.018443</td>\n",
       "      <td>-0.549500</td>\n",
       "      <td>0.162098</td>\n",
       "    </tr>\n",
       "    <tr>\n",
       "      <th>Sex</th>\n",
       "      <td>0.042939</td>\n",
       "      <td>-0.543351</td>\n",
       "      <td>0.131900</td>\n",
       "      <td>1.000000</td>\n",
       "      <td>0.084153</td>\n",
       "      <td>-0.114631</td>\n",
       "      <td>-0.245489</td>\n",
       "      <td>-0.182333</td>\n",
       "      <td>0.108262</td>\n",
       "    </tr>\n",
       "    <tr>\n",
       "      <th>Age</th>\n",
       "      <td>0.033207</td>\n",
       "      <td>-0.069809</td>\n",
       "      <td>-0.331339</td>\n",
       "      <td>0.084153</td>\n",
       "      <td>1.000000</td>\n",
       "      <td>-0.232625</td>\n",
       "      <td>-0.179191</td>\n",
       "      <td>0.091566</td>\n",
       "      <td>-0.026749</td>\n",
       "    </tr>\n",
       "    <tr>\n",
       "      <th>SibSp</th>\n",
       "      <td>-0.057527</td>\n",
       "      <td>-0.035322</td>\n",
       "      <td>0.083081</td>\n",
       "      <td>-0.114631</td>\n",
       "      <td>-0.232625</td>\n",
       "      <td>1.000000</td>\n",
       "      <td>0.414838</td>\n",
       "      <td>0.159651</td>\n",
       "      <td>0.068230</td>\n",
       "    </tr>\n",
       "    <tr>\n",
       "      <th>Parch</th>\n",
       "      <td>-0.001652</td>\n",
       "      <td>0.081629</td>\n",
       "      <td>0.018443</td>\n",
       "      <td>-0.245489</td>\n",
       "      <td>-0.179191</td>\n",
       "      <td>0.414838</td>\n",
       "      <td>1.000000</td>\n",
       "      <td>0.216225</td>\n",
       "      <td>0.039798</td>\n",
       "    </tr>\n",
       "    <tr>\n",
       "      <th>Fare</th>\n",
       "      <td>0.012658</td>\n",
       "      <td>0.257307</td>\n",
       "      <td>-0.549500</td>\n",
       "      <td>-0.182333</td>\n",
       "      <td>0.091566</td>\n",
       "      <td>0.159651</td>\n",
       "      <td>0.216225</td>\n",
       "      <td>1.000000</td>\n",
       "      <td>-0.224719</td>\n",
       "    </tr>\n",
       "    <tr>\n",
       "      <th>Embarked</th>\n",
       "      <td>0.013128</td>\n",
       "      <td>-0.167675</td>\n",
       "      <td>0.162098</td>\n",
       "      <td>0.108262</td>\n",
       "      <td>-0.026749</td>\n",
       "      <td>0.068230</td>\n",
       "      <td>0.039798</td>\n",
       "      <td>-0.224719</td>\n",
       "      <td>1.000000</td>\n",
       "    </tr>\n",
       "  </tbody>\n",
       "</table>\n",
       "</div>"
      ],
      "text/plain": [
       "             PassengerId  Survived    Pclass       Sex       Age     SibSp  \\\n",
       "PassengerId     1.000000 -0.005007 -0.035144  0.042939  0.033207 -0.057527   \n",
       "Survived       -0.005007  1.000000 -0.338481 -0.543351 -0.069809 -0.035322   \n",
       "Pclass         -0.035144 -0.338481  1.000000  0.131900 -0.331339  0.083081   \n",
       "Sex             0.042939 -0.543351  0.131900  1.000000  0.084153 -0.114631   \n",
       "Age             0.033207 -0.069809 -0.331339  0.084153  1.000000 -0.232625   \n",
       "SibSp          -0.057527 -0.035322  0.083081 -0.114631 -0.232625  1.000000   \n",
       "Parch          -0.001652  0.081629  0.018443 -0.245489 -0.179191  0.414838   \n",
       "Fare            0.012658  0.257307 -0.549500 -0.182333  0.091566  0.159651   \n",
       "Embarked        0.013128 -0.167675  0.162098  0.108262 -0.026749  0.068230   \n",
       "\n",
       "                Parch      Fare  Embarked  \n",
       "PassengerId -0.001652  0.012658  0.013128  \n",
       "Survived     0.081629  0.257307 -0.167675  \n",
       "Pclass       0.018443 -0.549500  0.162098  \n",
       "Sex         -0.245489 -0.182333  0.108262  \n",
       "Age         -0.179191  0.091566 -0.026749  \n",
       "SibSp        0.414838  0.159651  0.068230  \n",
       "Parch        1.000000  0.216225  0.039798  \n",
       "Fare         0.216225  1.000000 -0.224719  \n",
       "Embarked     0.039798 -0.224719  1.000000  "
      ]
     },
     "execution_count": 37,
     "metadata": {},
     "output_type": "execute_result"
    }
   ],
   "source": [
    "# TODO\n",
    "\n",
    "\n",
    "improved_data = pd.DataFrame(results, columns = column_names, index = column_names)\n",
    "\n",
    "# Show dataframe table\n",
    "improved_data"
   ]
  },
  {
   "cell_type": "code",
   "execution_count": 38,
   "id": "tutorial-cedar",
   "metadata": {},
   "outputs": [
    {
     "data": {
      "text/plain": [
       "<seaborn.matrix.ClusterGrid at 0x5c5db08>"
      ]
     },
     "execution_count": 38,
     "metadata": {},
     "output_type": "execute_result"
    },
    {
     "data": {
      "image/png": "[encoded data removed]",
      "text/plain": [
       "<Figure size 720x720 with 4 Axes>"
      ]
     },
     "metadata": {
      "needs_background": "light"
     },
     "output_type": "display_data"
    }
   ],
   "source": [
    "# Show Heatmap using sns library\n",
    "sns.clustermap(improved_data, \n",
    "               annot = True,      # 실제 값 화면에 나타내기\n",
    "               cmap = 'RdYlBu_r',  # Red, Yellow, Blue 색상으로 표시\n",
    "               vmin = -1, vmax = 1, #컬러차트 -1 ~ 1 범위로 표시\n",
    "              )\n"
   ]
  },
  {
   "cell_type": "markdown",
   "id": "handy-albany",
   "metadata": {},
   "source": [
    "# 실습4\n",
    "\n",
    "지난 실습에서는 데이터의 column 간의 correlation 을 확인하여 survived 에 영향을 크게 주는 column 을 확인하였다. \n",
    "\n",
    "이 정보를 바탕으로 데이터를 분석하여 어떠한 상황에서 생존률을 예측할 수 있는지를 분석내용과 함께 4가지를 제시하라.\n",
    "\n",
    "### 주의사항\n",
    "1. 머신러닝은 사용하지 않는다.\n",
    "2. 그림, 그래프, 도표로 표시한다.\n",
    "3. 해당 과제 내용을 바탕으로 Week 3 가 진행된다.\n",
    "4. 타당한 수치로 생존율과 연관이 있어야 한다."
   ]
  },
  {
   "cell_type": "markdown",
   "id": "portable-worry",
   "metadata": {},
   "source": [
    "### 예시\n",
    "아래의 예시들은 나이와 생존의 관계이다."
   ]
  },
  {
   "cell_type": "markdown",
   "id": "minus-jimmy",
   "metadata": {},
   "source": [
    "16세 이하의 생존율은 55% 로 다른 나이에 비해 생존율이 높다."
   ]
  },
  {
   "cell_type": "code",
   "execution_count": 39,
   "id": "adjacent-cassette",
   "metadata": {},
   "outputs": [
    {
     "data": {
      "image/png": "[encoded data removed]",
      "text/plain": [
       "<Figure size 648x576 with 1 Axes>"
      ]
     },
     "metadata": {
      "needs_background": "light"
     },
     "output_type": "display_data"
    },
    {
     "name": "stdout",
     "output_type": "stream",
     "text": [
      "16세 이하의 생존율 55.00000000000001%\n"
     ]
    }
   ],
   "source": [
    "# 16세 이하의 생존률\n",
    "dropped_data[(data['Age'] <= 16) & (data['Survived'] == 1)]['Survived'].count() / dropped_data[data['Age'] <= 16]['Survived'].count()\n",
    "data1 = dropped_data[(data['Age'] <= 16)]\n",
    "\n",
    "f,ax=plt.subplots(1, 1,figsize=(9,8))\n",
    "sns.countplot('Survived',data=data1,ax=ax)\n",
    "ax.set_title('Age <=16 Survived')\n",
    "plt.show()\n",
    "print(f\"16세 이하의 생존율 {dropped_data[(data['Age'] <= 16) & (data['Survived'] == 1)]['Survived'].count() / dropped_data[data['Age'] <= 16]['Survived'].count() * 100}%\")"
   ]
  },
  {
   "cell_type": "code",
   "execution_count": 40,
   "id": "stable-action",
   "metadata": {},
   "outputs": [
    {
     "data": {
      "text/plain": [
       "0.3699421965317919"
      ]
     },
     "execution_count": 40,
     "metadata": {},
     "output_type": "execute_result"
    }
   ],
   "source": [
    "# 16 ~ 32세의 생존률\n",
    "dropped_data[(data['Age'] > 16) & (data['Age'] <= 32) & (data['Survived'] == 1)]['Survived'].count() / dropped_data[(data['Age'] > 16) & (data['Age'] <= 32)]['Survived'].count()\n"
   ]
  },
  {
   "cell_type": "code",
   "execution_count": 41,
   "id": "correct-grade",
   "metadata": {},
   "outputs": [
    {
     "data": {
      "text/plain": [
       "0.21965317919075145"
      ]
     },
     "execution_count": 41,
     "metadata": {},
     "output_type": "execute_result"
    }
   ],
   "source": [
    "# 32 ~ 48세의 생존률\n",
    "dropped_data[(data['Age'] > 32) & (data['Age'] <= 48) & (data['Survived'] == 1)]['Survived'].count() / dropped_data[(data['Age'] > 16) & (data['Age'] <= 32)]['Survived'].count()\n",
    "\n"
   ]
  },
  {
   "cell_type": "code",
   "execution_count": 42,
   "id": "impaired-myrtle",
   "metadata": {},
   "outputs": [
    {
     "data": {
      "text/plain": [
       "0.43478260869565216"
      ]
     },
     "execution_count": 42,
     "metadata": {},
     "output_type": "execute_result"
    }
   ],
   "source": [
    "# 48 ~ 64세의 생존률\n",
    "dropped_data[(data['Age'] > 48) & (data['Age'] <= 64) & (data['Survived'] == 1)]['Survived'].count() / dropped_data[(data['Age'] > 48) & (data['Age'] <= 64)]['Survived'].count()\n",
    "\n"
   ]
  },
  {
   "cell_type": "code",
   "execution_count": 43,
   "id": "starting-mouse",
   "metadata": {},
   "outputs": [
    {
     "data": {
      "text/plain": [
       "0.09090909090909091"
      ]
     },
     "execution_count": 43,
     "metadata": {},
     "output_type": "execute_result"
    }
   ],
   "source": [
    "# 64세 이상의 생존률\n",
    "dropped_data[(data['Age'] > 64) & (data['Survived'] == 1)]['Survived'].count() / dropped_data[(data['Age'] > 64)]['Survived'].count() \n",
    "\n",
    "\n",
    "\n"
   ]
  },
  {
   "cell_type": "markdown",
   "id": "flying-library",
   "metadata": {},
   "source": [
    "# 분석 1\n",
    "가장 상관관계가 큰 값은 Pclass 였으므로 Pclass로 분석한다.\n",
    "\n",
    "1st class의 승객은 다른 class의 승객보다 생존률이 높다.\n",
    "\n",
    "1st class의 생존률은 62.96%로 제일 높고 class가 낮아질수록 생존률은 떨어진다."
   ]
  },
  {
   "cell_type": "code",
   "execution_count": 44,
   "id": "prerequisite-heating",
   "metadata": {},
   "outputs": [
    {
     "name": "stdout",
     "output_type": "stream",
     "text": [
      "1st class 승객의 생존률: 62.96296296296296%\n",
      "2nd class 승객의 생존률: 47.28260869565217%\n",
      "3rd class 승객의 생존률: 24.236252545824847%\n"
     ]
    },
    {
     "data": {
      "image/png": "[encoded data removed]",
      "text/plain": [
       "<Figure size 432x288 with 1 Axes>"
      ]
     },
     "metadata": {
      "needs_background": "light"
     },
     "output_type": "display_data"
    }
   ],
   "source": [
    "# TODO\n",
    "prob1 = dropped_data[(data['Pclass'] == 1) & (data['Survived'] == 1)]['Survived'].count() / dropped_data[data['Pclass'] == 1]['Survived'].count()\n",
    "print(f\"1st class 승객의 생존률: {prob1 * 100}%\")\n",
    "p1 = dropped_data[(data['Pclass'] == 1)]\n",
    "\n",
    "prob2 = dropped_data[(data['Pclass'] == 2) & (data['Survived'] == 1)]['Survived'].count() / dropped_data[data['Pclass'] == 2]['Survived'].count()\n",
    "print(f\"2nd class 승객의 생존률: {prob2 * 100}%\")\n",
    "p2 = dropped_data[(data['Pclass'] == 2)]\n",
    "\n",
    "prob3 = dropped_data[(data['Pclass'] == 3) & (data['Survived'] == 1)]['Survived'].count() / dropped_data[data['Pclass'] == 3]['Survived'].count()\n",
    "print(f\"3rd class 승객의 생존률: {prob3 * 100}%\")\n",
    "p3 = dropped_data[(data['Pclass'] == 3)]\n",
    "\n",
    "y = list()\n",
    "y.append(prob1); y.append(prob2); y.append(prob3)\n",
    "plt.plot([1, 2, 3], y)\n",
    "plt.xlabel('Pclass')\n",
    "plt.ylabel('probability')\n",
    "plt.title('Survival rate by class')\n",
    "plt.show()"
   ]
  },
  {
   "cell_type": "markdown",
   "id": "black-direction",
   "metadata": {},
   "source": [
    "# 분석 2\n",
    "다음으로 상관관계가 컸던 Fare를 바탕으로 분석한다.\n",
    "\n",
    "Fare의 평균은 아래와 같이 32정도였으므로 32를 구분으로하여 분석하였다.\n",
    "\n",
    "32이상의 요금을 지불한 사람은 59.71%의 확률로 생존하고 이는 32이하의 요금을 지불한 사람보다 높다."
   ]
  },
  {
   "cell_type": "code",
   "execution_count": 45,
   "id": "ancient-identity",
   "metadata": {},
   "outputs": [
    {
     "name": "stdout",
     "output_type": "stream",
     "text": [
      "Fare 평균: 32.204207968574636\n",
      "Fare가 32 이상인 승객의 생존률: 59.71563981042654%\n"
     ]
    },
    {
     "data": {
      "image/png": "[encoded data removed]",
      "text/plain": [
       "<Figure size 648x576 with 1 Axes>"
      ]
     },
     "metadata": {
      "needs_background": "light"
     },
     "output_type": "display_data"
    }
   ],
   "source": [
    "# TODO\n",
    "mean_fare = np.mean(dropped_data['Fare'])\n",
    "print(f\"Fare 평균: {mean_fare}\")\n",
    "prob = dropped_data[(data['Fare'] >= 32) & (data['Survived'] == 1)]['Survived'].count() / dropped_data[data['Fare'] >= 32]['Survived'].count()\n",
    "print(f\"Fare가 32 이상인 승객의 생존률: {prob * 100}%\")\n",
    "p1 = dropped_data[(data['Fare'] >= 32)]\n",
    "\n",
    "f,ax=plt.subplots(1, 1,figsize=(9,8))\n",
    "sns.countplot('Survived',data=p1,ax=ax)\n",
    "ax.set_title('Fare >= 32 Survived')\n",
    "plt.show()"
   ]
  },
  {
   "cell_type": "markdown",
   "id": "bibliographic-thing",
   "metadata": {},
   "source": [
    "# 분석 3\n",
    "embarked를 기준으로 분석한 결과,\n",
    "\n",
    "C(Cherbourg)에 탑승한 사람이 55% 확률로 제일 높은 생존률을 가졌다.\n",
    "Q(Queenstown) 탑승자는 38%의 생존률을 갖고 있고, S(Southampton) 탑승자는 33%의 생존률을 갖는다."
   ]
  },
  {
   "cell_type": "code",
   "execution_count": 46,
   "id": "hollow-royal",
   "metadata": {},
   "outputs": [
    {
     "name": "stdout",
     "output_type": "stream",
     "text": [
      "C(cherbourg) 생존률: 55.35714285714286%\n",
      "Q(Queenstown) 생존률: 38.961038961038966%\n",
      "S(Southampton) 생존률: 33.69565217391305%\n"
     ]
    },
    {
     "data": {
      "image/png": "[encoded data removed]",
      "text/plain": [
       "<Figure size 432x288 with 1 Axes>"
      ]
     },
     "metadata": {
      "needs_background": "light"
     },
     "output_type": "display_data"
    }
   ],
   "source": [
    "# TODO\n",
    "prob1 = dropped_data[(data['Embarked'] == 'C') & (data['Survived'] == 1)]['Survived'].count() / dropped_data[data['Embarked'] == 'C']['Survived'].count()\n",
    "print(f\"C(cherbourg) 생존률: {prob1 * 100}%\")\n",
    "p1 = dropped_data[(data['Embarked'] == 'C')]\n",
    "\n",
    "prob2 = dropped_data[(data['Embarked'] == 'Q') & (data['Survived'] == 1)]['Survived'].count() / dropped_data[data['Embarked'] == 'Q']['Survived'].count()\n",
    "print(f\"Q(Queenstown) 생존률: {prob2 * 100}%\")\n",
    "p2 = dropped_data[(data['Embarked'] == 'Q')]\n",
    "\n",
    "prob3 = dropped_data[(data['Embarked'] == 'S') & (data['Survived'] == 1)]['Survived'].count() / dropped_data[data['Embarked'] == 'S']['Survived'].count()\n",
    "print(f\"S(Southampton) 생존률: {prob3 * 100}%\")\n",
    "p1 = dropped_data[(data['Embarked'] == 'S')]\n",
    "\n",
    "y = list()\n",
    "y.append(prob1); y.append(prob2); y.append(prob3)\n",
    "plt.plot(['C', 'Q', 'S'], y)\n",
    "plt.xlabel('Embarked')\n",
    "plt.ylabel('probability')\n",
    "plt.title('Survival rate by class')\n",
    "plt.show()\n"
   ]
  },
  {
   "cell_type": "code",
   "execution_count": null,
   "id": "atlantic-gallery",
   "metadata": {},
   "outputs": [],
   "source": []
  },
  {
   "cell_type": "code",
   "execution_count": null,
   "id": "informative-macedonia",
   "metadata": {},
   "outputs": [],
   "source": []
  }
 ],
 "metadata": {
  "kernelspec": {
   "display_name": "Python 3",
   "language": "python",
   "name": "python3"
  },
  "language_info": {
   "codemirror_mode": {
    "name": "ipython",
    "version": 3
   },
   "file_extension": ".py",
   "mimetype": "text/x-python",
   "name": "python",
   "nbconvert_exporter": "python",
   "pygments_lexer": "ipython3",
   "version": "3.8.6"
  }
 },
 "nbformat": 4,
 "nbformat_minor": 5
}
